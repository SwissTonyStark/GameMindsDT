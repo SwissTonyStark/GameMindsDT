{
 "cells": [
  {
   "attachments": {},
   "cell_type": "markdown",
   "metadata": {},
   "source": [
    "# Test Pendulum Offline Training with d3rlpy and Decision Transformer\n",
    "\n",
    "We will use the Pendulum environment from OpenAI Gym to test the Decision Transformer algorithm from d3rlpy."
   ]
  },
  {
   "cell_type": "code",
   "execution_count": null,
   "metadata": {},
   "outputs": [],
   "source": [
    "# Test if we are running on CoLab or not\n",
    "if 'google.colab' in str(get_ipython()):\n",
    "  print('Running on CoLab')\n",
    "  %apt-get install -y xvfb ffmpeg > /dev/null 2>&1\n",
    "  %pip install pyvirtualdisplay pygame moviepy > /dev/null 2>&1\n",
    "  %pip install d3rlpy\n",
    "else:\n",
    "  print('Not running on CoLab')"
   ]
  },
  {
   "cell_type": "code",
   "execution_count": null,
   "metadata": {},
   "outputs": [],
   "source": [
    "!nvidia-smi"
   ]
  },
  {
   "cell_type": "code",
   "execution_count": null,
   "metadata": {},
   "outputs": [],
   "source": [
    "# Directory creation\n",
    "import os\n",
    "path = \"./models\"\n",
    "isExist = os.path.exists(path)\n",
    "if not isExist:\n",
    "  os.makedirs(path)\n",
    "\n",
    "path = \"./videos/video-pendulum\"\n",
    "isExist = os.path.exists(path)\n",
    "if not isExist:\n",
    "  os.makedirs(path)"
   ]
  },
  {
   "cell_type": "code",
   "execution_count": null,
   "metadata": {},
   "outputs": [],
   "source": [
    "import d3rlpy\n",
    "\n",
    "# set seed reproducibility\n",
    "seed=1\n",
    "d3rlpy.seed(seed)\n",
    "\n",
    "# get Pendulum dataset\n",
    "dataset, env = d3rlpy.datasets.get_pendulum()\n",
    "\n",
    "# Setup Decision Transformer\n",
    "dt = d3rlpy.algos.DecisionTransformerConfig().create(device=\"cuda:0\")\n"
   ]
  },
  {
   "cell_type": "code",
   "execution_count": null,
   "metadata": {},
   "outputs": [],
   "source": [
    "# offline training\n",
    "dt.fit(\n",
    "   dataset,\n",
    "   n_steps=10000,\n",
    "   n_steps_per_epoch=1000,\n",
    "   eval_env=env,\n",
    "   eval_target_return=0,  # specify target environment return\n",
    ")\n",
    "\n",
    "dt.save_model(\"./models/pendulum-dt.d3\")"
   ]
  },
  {
   "cell_type": "code",
   "execution_count": null,
   "metadata": {},
   "outputs": [],
   "source": [
    "import gym\n",
    "import numpy as np\n",
    "from gym.wrappers import RecordVideo\n",
    "\n",
    "# start virtual display\n",
    "d3rlpy.notebook_utils.start_virtual_display()\n",
    "\n",
    "# wrap RecordVideo wrapper\n",
    "env = RecordVideo(gym.make(\"Pendulum-v1\", render_mode=\"rgb_array\"), './videos/video-pendulum')\n",
    "#env = gym.make(\"Pendulum-v1\", render_mode=\"rgb_array\")\n",
    "\n",
    "# wrap as stateful actor for interaction\n",
    "actor = dt.as_stateful_wrapper(target_return=0)\n",
    "\n",
    "# interaction\n",
    "observation, reward = env.reset(), 0.0\n",
    "observation = observation[0]\n",
    "while True:\n",
    "    action = actor.predict(observation, reward)\n",
    "    observation, reward, done, truncated, _ = env.step(action)\n",
    "    if done or truncated:\n",
    "        break\n",
    "\n",
    "\n",
    "d3rlpy.notebook_utils.render_video(\"./videos/video-pendulum/rl-video-episode-0.mp4\")"
   ]
  }
 ],
 "metadata": {
  "kernelspec": {
   "display_name": "decision-transformers",
   "language": "python",
   "name": "python3"
  },
  "language_info": {
   "codemirror_mode": {
    "name": "ipython",
    "version": 3
   },
   "file_extension": ".py",
   "mimetype": "text/x-python",
   "name": "python",
   "nbconvert_exporter": "python",
   "pygments_lexer": "ipython3",
   "version": "3.10.0"
  },
  "orig_nbformat": 4
 },
 "nbformat": 4,
 "nbformat_minor": 2
}
