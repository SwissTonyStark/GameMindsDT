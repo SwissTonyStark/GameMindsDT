{
 "cells": [
  {
   "attachments": {},
   "cell_type": "markdown",
   "metadata": {},
   "source": [
    "# Test Door Key Offline Training with d3rlpy and Decision Transformer\n",
    "\n",
    "We will use the Door Key 16x16 environment from Minigrid Gym to test the Decision Transformer algorithm from d3rlpy."
   ]
  },
  {
   "cell_type": "code",
   "execution_count": 145,
   "metadata": {},
   "outputs": [
    {
     "name": "stdout",
     "output_type": "stream",
     "text": [
      "Not running on CoLab\n"
     ]
    }
   ],
   "source": [
    "# Test if we are running on CoLab or not\n",
    "if 'google.colab' in str(get_ipython()):\n",
    "  print('Running on CoLab')\n",
    "  !apt-get install -y xvfb ffmpeg > /dev/null 2>&1\n",
    "  %pip install pyvirtualdisplay pygame moviepy > /dev/null 2>&1\n",
    "  %pip install d3rlpy\n",
    "  %pip install matplotlib\n",
    "else:\n",
    "  print('Not running on CoLab')"
   ]
  },
  {
   "cell_type": "code",
   "execution_count": 146,
   "metadata": {},
   "outputs": [],
   "source": [
    "# Directory creation\n",
    "import os\n",
    "path = \"./models\"\n",
    "isExist = os.path.exists(path)\n",
    "if not isExist:\n",
    "  os.makedirs(path)\n",
    "\n",
    "path = \"./datasets\"\n",
    "isExist = os.path.exists(path)\n",
    "if not isExist:\n",
    "  os.makedirs(path)\n",
    "\n",
    "path = \"./videos/video-doorkey-dt-d3rlpy\"\n",
    "isExist = os.path.exists(path)\n",
    "if not isExist:\n",
    "  os.makedirs(path)"
   ]
  },
  {
   "cell_type": "code",
   "execution_count": null,
   "metadata": {},
   "outputs": [],
   "source": [
    "import gymnasium as gym\n",
    "from gymnasium import spaces\n",
    "from minigrid.envs import DoorKeyEnv\n",
    "from gymnasium.core import ActType, ObsType\n",
    "from typing import Any, SupportsFloat\n",
    "import random, math\n",
    "import numpy as np\n",
    "\n",
    "from gymnasium.envs.registration import register\n",
    "\n",
    "register(\n",
    "    id=\"MiniGrid-DoorKey-16x16-v0\",\n",
    "    entry_point=\"minigrid.envs:DoorKeyEnv\",\n",
    "    kwargs={\"size\": 16},\n",
    ")\n",
    "    "
   ]
  },
  {
   "attachments": {},
   "cell_type": "markdown",
   "metadata": {},
   "source": [
    "We made a PartialObsWrapper to add to flattened partial observations the direction of the agent in only one vector. This is useful to train the Decision Transformer algorithm.\n",
    "\n",
    "We also made a PartialAndFullyObsWrapper to add to flattened partial observations the direction of the agent in only one vector and to add the full observation to the partial observation. This is useful to sample data from the environment with the trained DQN agent, and for save the data in a dataset."
   ]
  },
  {
   "cell_type": "code",
   "execution_count": 148,
   "metadata": {},
   "outputs": [],
   "source": [
    "import minigrid\n",
    "from minigrid.core.constants import COLOR_TO_IDX, OBJECT_TO_IDX\n",
    "from gymnasium.core import ObservationWrapper\n",
    "\n",
    "class PartialObsWrapper(ObservationWrapper):\n",
    "    def __init__(self, env):\n",
    "        super().__init__(env)\n",
    "\n",
    "        new_image_space = spaces.Box(\n",
    "            low=0,\n",
    "            high=255,\n",
    "            shape=(((self.env.agent_view_size * self.env.agent_view_size *  3) + 1),),  \n",
    "            dtype=\"uint8\",\n",
    "        )\n",
    "\n",
    "        self.observation_space = spaces.Dict(\n",
    "            {**self.observation_space.spaces, \"image\": new_image_space}\n",
    "        )\n",
    "\n",
    "    def observation(self, obs):\n",
    "        image = np.concatenate((obs[\"image\"].flatten(), np.array([obs[\"direction\"]])))\n",
    "\n",
    "        return {\"image\": image}\n",
    "\n",
    "class PartialAndFullyObsWrapper(ObservationWrapper):\n",
    "\n",
    "    def __init__(self, env):\n",
    "        super().__init__(env)\n",
    "\n",
    "        new_image_space = spaces.Box(\n",
    "            low=0,\n",
    "            high=255,\n",
    "            shape=(self.env.width, self.env.height, 3),  # number of cells\n",
    "            dtype=\"uint8\",\n",
    "        )\n",
    "\n",
    "        self.observation_space = spaces.Dict(\n",
    "            {**self.observation_space.spaces, \"image\": new_image_space}\n",
    "        )\n",
    "\n",
    "    def observation(self, obs):\n",
    "        env = self.unwrapped\n",
    "        full_grid = env.grid.encode()\n",
    "        full_grid[env.agent_pos[0]][env.agent_pos[1]] = np.array(\n",
    "            [OBJECT_TO_IDX[\"agent\"], COLOR_TO_IDX[\"red\"], env.agent_dir]\n",
    "        )\n",
    "\n",
    "        partial_image = np.concatenate((obs[\"image\"].flatten(), np.array([obs[\"direction\"]])))\n",
    "\n",
    "        return {\"partial_image\": partial_image, \"image\": full_grid}\n",
    "\n",
    "def create_env(env_key, max_episode_steps=100, isPartialObs=False, isFullyObs=True, is_video=False):\n",
    "    \n",
    "    render_mode = None\n",
    "\n",
    "    if is_video == True:\n",
    "        render_mode = 'rgb_array'\n",
    "\n",
    "    env = gym.make(env_key, max_episode_steps=max_episode_steps, render_mode=render_mode, see_through_walls=True)\n",
    "\n",
    "    if isPartialObs and isFullyObs:\n",
    "        env =  PartialAndFullyObsWrapper(env)\n",
    "    elif isPartialObs:\n",
    "        env = PartialObsWrapper(env)\n",
    "        env = minigrid.wrappers.ImgObsWrapper(env)\n",
    "    elif isFullyObs:\n",
    "        env = minigrid.wrappers.FullyObsWrapper(env)\n",
    "        env = minigrid.wrappers.ImgObsWrapper(env)\n",
    "\n",
    "    return env\n"
   ]
  },
  {
   "attachments": {},
   "cell_type": "markdown",
   "metadata": {},
   "source": [
    "We recover the agent DQN trained in the notebook train-door-key-16x16-dqn.ipynb. We use this agent to sample data from the environment and to save the data in a dataset. This is a way to use the trained agent to generate data for the Decision Transformer algorithm with expert data. This agent is also used to evaluate the performance of the Decision Transformer algorithm. The agent is good enough to solve the environment, but not perfect."
   ]
  },
  {
   "cell_type": "code",
   "execution_count": 149,
   "metadata": {},
   "outputs": [],
   "source": [
    "import d3rlpy\n",
    "import gymnasium as gym\n",
    "import torch\n",
    "import torch.nn as nn\n",
    "from d3rlpy.models.encoders import EncoderFactory\n",
    "\n",
    "class CustomConvEncoder(nn.Module):\n",
    "    def __init__(self, observation_shape):\n",
    "        super().__init__()\n",
    "        print(observation_shape)\n",
    "\n",
    "        self.conv1 = nn.Conv2d(3, 32, kernel_size=1, stride=1, padding=1)\n",
    "        self.conv2 = nn.Conv2d(32, 64, kernel_size=3, stride=2, padding=1)\n",
    "        self.conv2Dropout = nn.Dropout(0.25)\n",
    "        self.conv3 = nn.Conv2d(64, 128, kernel_size=3, stride=2, padding=1)\n",
    "        self.conv3Dropout = nn.Dropout(0.5)\n",
    "        self.conv4 = nn.Conv2d(128, 256, kernel_size=3, stride=2, padding=1)\n",
    "        self.conv4Dropout = nn.Dropout(0.5)\n",
    "        self.conv5 = nn.Conv2d(256, 512, kernel_size=3, stride=2, padding=1)\n",
    "        self.conv5Dropout = nn.Dropout(0.5)\n",
    "\n",
    "\n",
    "    def forward(self, x):\n",
    "        h = x.permute(0, 3, 1, 2)\n",
    "        h = torch.relu(self.conv1(h))\n",
    "        h = torch.relu(self.conv2Dropout(self.conv2(h)))\n",
    "        h = torch.relu(self.conv3Dropout(self.conv3(h)))\n",
    "        h = torch.relu(self.conv4Dropout(self.conv4(h)))\n",
    "        h = torch.relu(self.conv5Dropout(self.conv5(h)))\n",
    "\n",
    "        h = torch.flatten(h, start_dim=1)\n",
    "        #print(h.shape)\n",
    "\n",
    "        return h\n",
    "    \n",
    "class CustomConvEncoderFactory(EncoderFactory):\n",
    "\n",
    "    def create(self, observation_shape):\n",
    "        return CustomConvEncoder(observation_shape)\n",
    "\n",
    "    @staticmethod\n",
    "    def get_type() -> str:\n",
    "        return \"custom\"\n",
    "    \n"
   ]
  },
  {
   "cell_type": "code",
   "execution_count": null,
   "metadata": {},
   "outputs": [],
   "source": [
    "config = {\n",
    "    \"seed\": 1,\n",
    "    \"dataset_size\": 10000,\n",
    "    \"epsilon\": 0.3,\n",
    "    \"max_episode_steps\": 200,\n",
    "    \"experiment_name\": \"door-key-16x16\",\n",
    "    \"device\": \"cuda:0\"\n",
    "}\n",
    "\n",
    "env_key = \"MiniGrid-DoorKey-16x16-v0\"\n",
    "\n",
    "env = create_env(env_key, max_episode_steps=config[\"max_episode_steps\"])\n",
    "\n",
    "dqn = d3rlpy.algos.DQNConfig(\n",
    "    encoder_factory=CustomConvEncoderFactory(),\n",
    "    batch_size=100,\n",
    "    gamma=0.9,\n",
    "    target_update_interval=1000,\n",
    "    learning_rate=2.5e-4\n",
    ").create(device=config[\"device\"])\n",
    "\n",
    "dqn.build_with_env(env)\n",
    "\n",
    "dqn.load_model('./models/model_door-key-dqn-16x16.pt')\n"
   ]
  },
  {
   "attachments": {},
   "cell_type": "markdown",
   "metadata": {},
   "source": [
    "We create a CustomReplayBuffer to clip episodes with zero or negative rewards. We want to clip the episodes to only include the steps where the agent is making progress towards the goal."
   ]
  },
  {
   "cell_type": "code",
   "execution_count": 151,
   "metadata": {},
   "outputs": [],
   "source": [
    "import numpy as np\n",
    "from tqdm import tqdm\n",
    "\n",
    "\n",
    "class CustomReplayBuffer(d3rlpy.dataset.ReplayBuffer):\n",
    "    ' Custom Replay Buffer to clip episodes with negative rewards'\n",
    "    \n",
    "    def clip_episode(self, terminated: bool) -> None:\n",
    "        r\"\"\"Clips the current episode.\n",
    "\n",
    "        Args:\n",
    "            terminated: Flag to represent environment termination.\n",
    "        \"\"\"\n",
    "\n",
    "        episode_to_remove = None\n",
    "        # Check if the episode's reward is 0 or negative\n",
    "        if not terminated and self._writer._active_episode.rewards.mean() <= 0:\n",
    "            episode_to_remove = self._writer._active_episode\n",
    "            \n",
    "        self._writer.clip_episode(terminated)\n",
    "\n",
    "        if episode_to_remove is not None:\n",
    "            # Remove all transitions associated with the episode to remove\n",
    "            self._buffer._transitions = [(ep, idx) for ep, idx in self._buffer._transitions if ep is not episode_to_remove]\n",
    "            self._buffer.episodes.remove(episode_to_remove)  \n",
    "\n"
   ]
  },
  {
   "attachments": {},
   "cell_type": "markdown",
   "metadata": {},
   "source": [
    "We fill the buffer dataset with the data sampled from the environment with the trained agent DQN. We use the PartialAndFullyObsWrapper to use the full observation for the DQN agent and to save the partial observation in the dataset. We make samples until we have the dataset filled with only positive rewards. To generate a mixed non-expert / exper data, we start adding more entropy to the actions sampled from the DQN agent and progressively decrease the entropy to generate expert data. It is an slow process, but it is the only way we found to generate expert data automatically."
   ]
  },
  {
   "cell_type": "code",
   "execution_count": null,
   "metadata": {},
   "outputs": [],
   "source": [
    "env_data = create_env(env_key, max_episode_steps=config[\"max_episode_steps\"], isPartialObs=True, isFullyObs=False)\n",
    "env_sampler = create_env(env_key, max_episode_steps=config[\"max_episode_steps\"], isPartialObs=True, isFullyObs=True)\n",
    "\n",
    "buffer = d3rlpy.dataset.InfiniteBuffer()\n",
    "dataset = CustomReplayBuffer(buffer, env=env_data, cache_size=config[\"max_episode_steps\"])\n",
    "\n",
    "seed = 1\n",
    "\n",
    "done = False\n",
    "\n",
    "observation, _ = env_sampler.reset()\n",
    "\n",
    "num_steps = 0\n",
    "count_done = 0\n",
    "count_truncated = 0\n",
    "\n",
    "epsilon = 0.5\n",
    "epsilon_min = 0.1\n",
    "epsilon_decrement = (epsilon - epsilon_min) / 10  \n",
    "\n",
    "\n",
    "pbar = tqdm(total=config[\"dataset_size\"])\n",
    "\n",
    "while dataset.size() < config[\"dataset_size\"]:\n",
    "\n",
    "    pbar.update(dataset.size() - pbar.n) \n",
    "\n",
    "    if dataset.size() >= (config[\"dataset_size\"] * (1 - (epsilon - epsilon_min) / (epsilon - epsilon_decrement))):\n",
    "        epsilon = max(epsilon - epsilon_decrement, epsilon_min)\n",
    "\n",
    "    explorer = d3rlpy.algos.ConstantEpsilonGreedy(epsilon=epsilon)\n",
    "\n",
    "    while True:\n",
    "        x = np.expand_dims(observation['image'], axis=0)\n",
    "\n",
    "        action = explorer.sample(dqn, x, 0)[0]\n",
    "\n",
    "        next_observation, reward, done, truncated, _ = env_sampler.step(action)\n",
    "\n",
    "        clip_episode = done or truncated\n",
    "\n",
    "        # store observation\n",
    "        dataset.append(observation['partial_image'], action, float(reward))\n",
    "\n",
    "        # reset if terminated\n",
    "        if clip_episode:\n",
    "            dataset.clip_episode(done)\n",
    "            observation, _ = env_sampler.reset()\n",
    "            if done:\n",
    "                count_done += 1\n",
    "            if truncated:\n",
    "                count_truncated += 1\n",
    "            break\n",
    "        else:\n",
    "            observation = next_observation\n",
    "\n",
    "pbar.close()\n",
    "env.close()\n",
    "\n",
    "print(\"Dataset size: \", dataset.size())\n",
    "print(\"Truncated: \", count_truncated)\n",
    "\n",
    "dataset.dump('./datasets/dataset_door-key-dqn-16x16-mixed.d3')\n"
   ]
  },
  {
   "attachments": {},
   "cell_type": "markdown",
   "metadata": {},
   "source": [
    "We train the DiscreteDecisionTransformer agent with the sampled data from the environment. We use the PartialObsWrapper to add the direction of the agent to the partial observation."
   ]
  },
  {
   "cell_type": "code",
   "execution_count": null,
   "metadata": {},
   "outputs": [
    {
     "name": "stdout",
     "output_type": "stream",
     "text": [
      "\u001b[2m2024-01-21 23:07.47\u001b[0m [\u001b[32m\u001b[1minfo     \u001b[0m] \u001b[1mSignatures have been automatically determined.\u001b[0m \u001b[36maction_signature\u001b[0m=\u001b[35mSignature(dtype=[dtype('int64')], shape=[()])\u001b[0m \u001b[36mobservation_signature\u001b[0m=\u001b[35mSignature(dtype=[dtype('uint8')], shape=[(148,)])\u001b[0m \u001b[36mreward_signature\u001b[0m=\u001b[35mSignature(dtype=[dtype('float32')], shape=[[1]])\u001b[0m\n",
      "\u001b[2m2024-01-21 23:07.47\u001b[0m [\u001b[32m\u001b[1minfo     \u001b[0m] \u001b[1mAction-space has been automatically determined.\u001b[0m \u001b[36maction_space\u001b[0m=\u001b[35m<ActionSpace.DISCRETE: 2>\u001b[0m\n",
      "\u001b[2m2024-01-21 23:07.47\u001b[0m [\u001b[32m\u001b[1minfo     \u001b[0m] \u001b[1mAction size has been automatically determined.\u001b[0m \u001b[36maction_size\u001b[0m=\u001b[35m7\u001b[0m\n",
      "\u001b[2m2024-01-21 23:07.54\u001b[0m [\u001b[32m\u001b[1minfo     \u001b[0m] \u001b[1mSignatures have been automatically determined.\u001b[0m \u001b[36maction_signature\u001b[0m=\u001b[35mSignature(dtype=[dtype('int64')], shape=[(1,)])\u001b[0m \u001b[36mobservation_signature\u001b[0m=\u001b[35mSignature(dtype=[dtype('uint8')], shape=[(148,)])\u001b[0m \u001b[36mreward_signature\u001b[0m=\u001b[35mSignature(dtype=[dtype('float32')], shape=[(1,)])\u001b[0m\n",
      "\u001b[2m2024-01-21 23:07.54\u001b[0m [\u001b[32m\u001b[1minfo     \u001b[0m] \u001b[1mAction-space has been automatically determined.\u001b[0m \u001b[36maction_space\u001b[0m=\u001b[35m<ActionSpace.DISCRETE: 2>\u001b[0m\n",
      "\u001b[2m2024-01-21 23:07.54\u001b[0m [\u001b[32m\u001b[1minfo     \u001b[0m] \u001b[1mAction size has been automatically determined.\u001b[0m \u001b[36maction_size\u001b[0m=\u001b[35m7\u001b[0m\n",
      "\u001b[2m2024-01-21 23:07.54\u001b[0m [\u001b[32m\u001b[1minfo     \u001b[0m] \u001b[1mdataset info                  \u001b[0m \u001b[36mdataset_info\u001b[0m=\u001b[35mDatasetInfo(observation_signature=Signature(dtype=[dtype('uint8')], shape=[(148,)]), action_signature=Signature(dtype=[dtype('int64')], shape=[()]), reward_signature=Signature(dtype=[dtype('float32')], shape=[[1]]), action_space=<ActionSpace.DISCRETE: 2>, action_size=7)\u001b[0m\n",
      "\u001b[2m2024-01-21 23:07.54\u001b[0m [\u001b[32m\u001b[1minfo     \u001b[0m] \u001b[1mDirectory is created at d3rlpy_logs/DT_door-key-16x16_1_20240121230754\u001b[0m\n",
      "\u001b[2m2024-01-21 23:07.54\u001b[0m [\u001b[32m\u001b[1mdebug    \u001b[0m] \u001b[1mBuilding models...            \u001b[0m\n",
      "\u001b[2m2024-01-21 23:07.55\u001b[0m [\u001b[32m\u001b[1mdebug    \u001b[0m] \u001b[1mModels have been built.       \u001b[0m\n",
      "\u001b[2m2024-01-21 23:07.55\u001b[0m [\u001b[32m\u001b[1minfo     \u001b[0m] \u001b[1mParameters                    \u001b[0m \u001b[36mparams\u001b[0m=\u001b[35m{'observation_shape': [148], 'action_size': 7, 'config': {'type': 'discrete_decision_transformer', 'params': {'batch_size': 64, 'gamma': 0.99, 'observation_scaler': {'type': 'none', 'params': {}}, 'action_scaler': {'type': 'none', 'params': {}}, 'reward_scaler': {'type': 'none', 'params': {}}, 'context_size': 50, 'max_timestep': 200, 'learning_rate': 0.0001, 'encoder_factory': {'type': 'vector', 'params': {'hidden_units': [128], 'activation': 'relu', 'use_batch_norm': False, 'dropout_rate': None, 'exclude_last_activation': True}}, 'optim_factory': {'type': 'adam_w', 'params': {'betas': [0.9, 0.999], 'eps': 1e-08, 'weight_decay': 0.0001, 'amsgrad': False}}, 'num_heads': 4, 'num_layers': 3, 'attn_dropout': 0.1, 'resid_dropout': 0.1, 'embed_dropout': 0.1, 'activation_type': 'gelu', 'embed_activation_type': 'tanh', 'position_encoding_type': <PositionEncodingType.GLOBAL: 'global'>, 'warmup_tokens': 10240, 'final_tokens': 30000000, 'clip_grad_norm': 1.0, 'compile': False}}}\u001b[0m\n"
     ]
    },
    {
     "data": {
      "application/vnd.jupyter.widget-view+json": {
       "model_id": "5138eec91f444993ad2803afbd5edc99",
       "version_major": 2,
       "version_minor": 0
      },
      "text/plain": [
       "Epoch 1/10:   0%|          | 0/2000 [00:00<?, ?it/s]"
      ]
     },
     "metadata": {},
     "output_type": "display_data"
    },
    {
     "name": "stdout",
     "output_type": "stream",
     "text": [
      "\u001b[2m2024-01-21 23:09.17\u001b[0m [\u001b[32m\u001b[1minfo     \u001b[0m] \u001b[1mDT_door-key-16x16_1_20240121230754: epoch=1 step=2000\u001b[0m \u001b[36mepoch\u001b[0m=\u001b[35m1\u001b[0m \u001b[36mmetrics\u001b[0m=\u001b[35m{'time_sample_batch': 0.006913616299629211, 'time_algorithm_update': 0.03026457130908966, 'loss': 0.848791387706995, 'learning_rate': 9.818605497212029e-05, 'time_step': 0.0373171226978302, 'environment': 0.28428515625}\u001b[0m \u001b[36mstep\u001b[0m=\u001b[35m2000\u001b[0m\n",
      "\u001b[2m2024-01-21 23:09.17\u001b[0m [\u001b[32m\u001b[1minfo     \u001b[0m] \u001b[1mModel parameters are saved to d3rlpy_logs/DT_door-key-16x16_1_20240121230754/model_2000.d3\u001b[0m\n"
     ]
    },
    {
     "data": {
      "application/vnd.jupyter.widget-view+json": {
       "model_id": "b7369ff8ebbc47938dd7e068db0783a8",
       "version_major": 2,
       "version_minor": 0
      },
      "text/plain": [
       "Epoch 2/10:   0%|          | 0/2000 [00:00<?, ?it/s]"
      ]
     },
     "metadata": {},
     "output_type": "display_data"
    },
    {
     "name": "stdout",
     "output_type": "stream",
     "text": [
      "\u001b[2m2024-01-21 23:10.36\u001b[0m [\u001b[32m\u001b[1minfo     \u001b[0m] \u001b[1mDT_door-key-16x16_1_20240121230754: epoch=2 step=4000\u001b[0m \u001b[36mepoch\u001b[0m=\u001b[35m2\u001b[0m \u001b[36mmetrics\u001b[0m=\u001b[35m{'time_sample_batch': 0.006858097910881042, 'time_algorithm_update': 0.028980084180831908, 'loss': 0.7375048235058784, 'learning_rate': 8.835054443637522e-05, 'time_step': 0.03596951162815094, 'environment': 0.67387890625}\u001b[0m \u001b[36mstep\u001b[0m=\u001b[35m4000\u001b[0m\n",
      "\u001b[2m2024-01-21 23:10.36\u001b[0m [\u001b[32m\u001b[1minfo     \u001b[0m] \u001b[1mModel parameters are saved to d3rlpy_logs/DT_door-key-16x16_1_20240121230754/model_4000.d3\u001b[0m\n"
     ]
    },
    {
     "data": {
      "application/vnd.jupyter.widget-view+json": {
       "model_id": "77c9d5e8240948a4afd1a07d4bfc2efd",
       "version_major": 2,
       "version_minor": 0
      },
      "text/plain": [
       "Epoch 3/10:   0%|          | 0/2000 [00:00<?, ?it/s]"
      ]
     },
     "metadata": {},
     "output_type": "display_data"
    },
    {
     "name": "stdout",
     "output_type": "stream",
     "text": [
      "\u001b[2m2024-01-21 23:11.54\u001b[0m [\u001b[32m\u001b[1minfo     \u001b[0m] \u001b[1mDT_door-key-16x16_1_20240121230754: epoch=3 step=6000\u001b[0m \u001b[36mepoch\u001b[0m=\u001b[35m3\u001b[0m \u001b[36mmetrics\u001b[0m=\u001b[35m{'time_sample_batch': 0.006928563475608825, 'time_algorithm_update': 0.0291766277551651, 'loss': 0.7194353715181351, 'learning_rate': 7.04769782418929e-05, 'time_step': 0.03624347460269928, 'environment': 0.6786953124999999}\u001b[0m \u001b[36mstep\u001b[0m=\u001b[35m6000\u001b[0m\n",
      "\u001b[2m2024-01-21 23:11.54\u001b[0m [\u001b[32m\u001b[1minfo     \u001b[0m] \u001b[1mModel parameters are saved to d3rlpy_logs/DT_door-key-16x16_1_20240121230754/model_6000.d3\u001b[0m\n"
     ]
    },
    {
     "data": {
      "application/vnd.jupyter.widget-view+json": {
       "model_id": "fa8f5323a7d14769bcd2ef371286e4c2",
       "version_major": 2,
       "version_minor": 0
      },
      "text/plain": [
       "Epoch 4/10:   0%|          | 0/2000 [00:00<?, ?it/s]"
      ]
     },
     "metadata": {},
     "output_type": "display_data"
    },
    {
     "name": "stdout",
     "output_type": "stream",
     "text": [
      "\u001b[2m2024-01-21 23:13.12\u001b[0m [\u001b[32m\u001b[1minfo     \u001b[0m] \u001b[1mDT_door-key-16x16_1_20240121230754: epoch=4 step=8000\u001b[0m \u001b[36mepoch\u001b[0m=\u001b[35m4\u001b[0m \u001b[36mmetrics\u001b[0m=\u001b[35m{'time_sample_batch': 0.007049693107604981, 'time_algorithm_update': 0.029266536712646483, 'loss': 0.7109014772176743, 'learning_rate': 4.8330853337870506e-05, 'time_step': 0.03645717906951904, 'environment': 0.782703125}\u001b[0m \u001b[36mstep\u001b[0m=\u001b[35m8000\u001b[0m\n",
      "\u001b[2m2024-01-21 23:13.12\u001b[0m [\u001b[32m\u001b[1minfo     \u001b[0m] \u001b[1mModel parameters are saved to d3rlpy_logs/DT_door-key-16x16_1_20240121230754/model_8000.d3\u001b[0m\n"
     ]
    },
    {
     "data": {
      "application/vnd.jupyter.widget-view+json": {
       "model_id": "115483525da74b249fb2bea33cc588bb",
       "version_major": 2,
       "version_minor": 0
      },
      "text/plain": [
       "Epoch 5/10:   0%|          | 0/2000 [00:00<?, ?it/s]"
      ]
     },
     "metadata": {},
     "output_type": "display_data"
    },
    {
     "name": "stdout",
     "output_type": "stream",
     "text": [
      "\u001b[2m2024-01-21 23:14.31\u001b[0m [\u001b[32m\u001b[1minfo     \u001b[0m] \u001b[1mDT_door-key-16x16_1_20240121230754: epoch=5 step=10000\u001b[0m \u001b[36mepoch\u001b[0m=\u001b[35m5\u001b[0m \u001b[36mmetrics\u001b[0m=\u001b[35m{'time_sample_batch': 0.006913050174713135, 'time_algorithm_update': 0.029357316613197328, 'loss': 0.7032193146944046, 'learning_rate': 2.6572727688173935e-05, 'time_step': 0.036407352209091186, 'environment': 0.49040234375}\u001b[0m \u001b[36mstep\u001b[0m=\u001b[35m10000\u001b[0m\n",
      "\u001b[2m2024-01-21 23:14.31\u001b[0m [\u001b[32m\u001b[1minfo     \u001b[0m] \u001b[1mModel parameters are saved to d3rlpy_logs/DT_door-key-16x16_1_20240121230754/model_10000.d3\u001b[0m\n"
     ]
    },
    {
     "data": {
      "application/vnd.jupyter.widget-view+json": {
       "model_id": "4fb2571efaba451f869f92561bdfeaa6",
       "version_major": 2,
       "version_minor": 0
      },
      "text/plain": [
       "Epoch 6/10:   0%|          | 0/2000 [00:00<?, ?it/s]"
      ]
     },
     "metadata": {},
     "output_type": "display_data"
    },
    {
     "name": "stdout",
     "output_type": "stream",
     "text": [
      "\u001b[2m2024-01-21 23:15.50\u001b[0m [\u001b[32m\u001b[1minfo     \u001b[0m] \u001b[1mDT_door-key-16x16_1_20240121230754: epoch=6 step=12000\u001b[0m \u001b[36mepoch\u001b[0m=\u001b[35m6\u001b[0m \u001b[36mmetrics\u001b[0m=\u001b[35m{'time_sample_batch': 0.006854774832725525, 'time_algorithm_update': 0.029251161575317382, 'loss': 0.700837476849556, 'learning_rate': 1.1513394412753156e-05, 'time_step': 0.03623122715950012, 'environment': 0.5836171875}\u001b[0m \u001b[36mstep\u001b[0m=\u001b[35m12000\u001b[0m\n",
      "\u001b[2m2024-01-21 23:15.50\u001b[0m [\u001b[32m\u001b[1minfo     \u001b[0m] \u001b[1mModel parameters are saved to d3rlpy_logs/DT_door-key-16x16_1_20240121230754/model_12000.d3\u001b[0m\n"
     ]
    },
    {
     "data": {
      "application/vnd.jupyter.widget-view+json": {
       "model_id": "521942d257694b3a8718e8dc5e8fdef2",
       "version_major": 2,
       "version_minor": 0
      },
      "text/plain": [
       "Epoch 7/10:   0%|          | 0/2000 [00:00<?, ?it/s]"
      ]
     },
     "metadata": {},
     "output_type": "display_data"
    },
    {
     "name": "stdout",
     "output_type": "stream",
     "text": [
      "\u001b[2m2024-01-21 23:17.10\u001b[0m [\u001b[32m\u001b[1minfo     \u001b[0m] \u001b[1mDT_door-key-16x16_1_20240121230754: epoch=7 step=14000\u001b[0m \u001b[36mepoch\u001b[0m=\u001b[35m7\u001b[0m \u001b[36mmetrics\u001b[0m=\u001b[35m{'time_sample_batch': 0.006803167223930359, 'time_algorithm_update': 0.029262224793434145, 'loss': 0.7001724973171949, 'learning_rate': 9.999999999999677e-06, 'time_step': 0.03618792617321014, 'environment': 0.57289453125}\u001b[0m \u001b[36mstep\u001b[0m=\u001b[35m14000\u001b[0m\n",
      "\u001b[2m2024-01-21 23:17.10\u001b[0m [\u001b[32m\u001b[1minfo     \u001b[0m] \u001b[1mModel parameters are saved to d3rlpy_logs/DT_door-key-16x16_1_20240121230754/model_14000.d3\u001b[0m\n"
     ]
    },
    {
     "data": {
      "application/vnd.jupyter.widget-view+json": {
       "model_id": "f351b6e6c5014c4eabf0ad4b400503ca",
       "version_major": 2,
       "version_minor": 0
      },
      "text/plain": [
       "Epoch 8/10:   0%|          | 0/2000 [00:00<?, ?it/s]"
      ]
     },
     "metadata": {},
     "output_type": "display_data"
    },
    {
     "name": "stdout",
     "output_type": "stream",
     "text": [
      "\u001b[2m2024-01-21 23:18.29\u001b[0m [\u001b[32m\u001b[1minfo     \u001b[0m] \u001b[1mDT_door-key-16x16_1_20240121230754: epoch=8 step=16000\u001b[0m \u001b[36mepoch\u001b[0m=\u001b[35m8\u001b[0m \u001b[36mmetrics\u001b[0m=\u001b[35m{'time_sample_batch': 0.0068625063896179195, 'time_algorithm_update': 0.02899527406692505, 'loss': 0.700576818048954, 'learning_rate': 9.999999999999677e-06, 'time_step': 0.03597722971439361, 'environment': 0.38885546875}\u001b[0m \u001b[36mstep\u001b[0m=\u001b[35m16000\u001b[0m\n",
      "\u001b[2m2024-01-21 23:18.29\u001b[0m [\u001b[32m\u001b[1minfo     \u001b[0m] \u001b[1mModel parameters are saved to d3rlpy_logs/DT_door-key-16x16_1_20240121230754/model_16000.d3\u001b[0m\n"
     ]
    },
    {
     "data": {
      "application/vnd.jupyter.widget-view+json": {
       "model_id": "67368568b4ae47edae75bb85f80b2118",
       "version_major": 2,
       "version_minor": 0
      },
      "text/plain": [
       "Epoch 9/10:   0%|          | 0/2000 [00:00<?, ?it/s]"
      ]
     },
     "metadata": {},
     "output_type": "display_data"
    },
    {
     "name": "stdout",
     "output_type": "stream",
     "text": [
      "\u001b[2m2024-01-21 23:19.45\u001b[0m [\u001b[32m\u001b[1minfo     \u001b[0m] \u001b[1mDT_door-key-16x16_1_20240121230754: epoch=9 step=18000\u001b[0m \u001b[36mepoch\u001b[0m=\u001b[35m9\u001b[0m \u001b[36mmetrics\u001b[0m=\u001b[35m{'time_sample_batch': 0.006600202441215515, 'time_algorithm_update': 0.028705960631370545, 'loss': 0.7002915351688862, 'learning_rate': 1.4394318749096963e-05, 'time_step': 0.03543077301979065, 'environment': 0.87271875}\u001b[0m \u001b[36mstep\u001b[0m=\u001b[35m18000\u001b[0m\n",
      "\u001b[2m2024-01-21 23:19.45\u001b[0m [\u001b[32m\u001b[1minfo     \u001b[0m] \u001b[1mModel parameters are saved to d3rlpy_logs/DT_door-key-16x16_1_20240121230754/model_18000.d3\u001b[0m\n"
     ]
    },
    {
     "data": {
      "application/vnd.jupyter.widget-view+json": {
       "model_id": "7faf5e78962a4d1799959e206e431b24",
       "version_major": 2,
       "version_minor": 0
      },
      "text/plain": [
       "Epoch 10/10:   0%|          | 0/2000 [00:00<?, ?it/s]"
      ]
     },
     "metadata": {},
     "output_type": "display_data"
    },
    {
     "name": "stdout",
     "output_type": "stream",
     "text": [
      "\u001b[2m2024-01-21 23:21.02\u001b[0m [\u001b[32m\u001b[1minfo     \u001b[0m] \u001b[1mDT_door-key-16x16_1_20240121230754: epoch=10 step=20000\u001b[0m \u001b[36mepoch\u001b[0m=\u001b[35m10\u001b[0m \u001b[36mmetrics\u001b[0m=\u001b[35m{'time_sample_batch': 0.006708921909332276, 'time_algorithm_update': 0.0285303715467453, 'loss': 0.7014753077924252, 'learning_rate': 3.2780393187148524e-05, 'time_step': 0.035367817401885986, 'environment': 0.7673398437500001}\u001b[0m \u001b[36mstep\u001b[0m=\u001b[35m20000\u001b[0m\n",
      "\u001b[2m2024-01-21 23:21.02\u001b[0m [\u001b[32m\u001b[1minfo     \u001b[0m] \u001b[1mModel parameters are saved to d3rlpy_logs/DT_door-key-16x16_1_20240121230754/model_20000.d3\u001b[0m\n"
     ]
    }
   ],
   "source": [
    "env_dt = create_env(env_key, max_episode_steps=config[\"max_episode_steps\"], isPartialObs=True, isFullyObs=False)\n",
    "env_dt_eval = create_env(env_key, max_episode_steps=config[\"max_episode_steps\"], isPartialObs=True, isFullyObs=False)\n",
    "\n",
    "buffer = d3rlpy.dataset.InfiniteBuffer()\n",
    "dataset = CustomReplayBuffer(buffer, env=env_dt, cache_size=config[\"max_episode_steps\"])\n",
    "\n",
    "dataset.load('./datasets/dataset_door-key-dqn-16x16-mixed.d3', buffer=buffer)\n",
    "\n",
    "\n",
    "target_return = 1\n",
    "experiment_name = config[\"experiment_name\"]\n",
    "experiment_seed = config[\"seed\"]\n",
    "\n",
    "dt = d3rlpy.algos.DiscreteDecisionTransformerConfig(\n",
    "    batch_size=64,\n",
    "    learning_rate=1e-4,\n",
    "    optim_factory=d3rlpy.models.AdamWFactory(weight_decay=1e-4),\n",
    "    encoder_factory=d3rlpy.models.VectorEncoderFactory(\n",
    "        [128],\n",
    "        exclude_last_activation=True,\n",
    "    ),\n",
    "    #observation_scaler=d3rlpy.preprocessing.StandardObservationScaler(),\n",
    "    #reward_scaler=d3rlpy.preprocessing.MultiplyRewardScaler(0.001),\n",
    "    position_encoding_type=d3rlpy.PositionEncodingType.GLOBAL,\n",
    "    context_size=50,\n",
    "    num_heads=4,\n",
    "    num_layers=3,\n",
    "    max_timestep=200,\n",
    ").create(device=config[\"device\"])\n",
    "\n",
    "\n",
    "dt.fit(                                                                                                                                                                                                                                                                                                                                                                                                                                                             \n",
    "    dataset,\n",
    "    n_steps=20000,\n",
    "    n_steps_per_epoch=2000,\n",
    "    eval_env=env_dt_eval,\n",
    "    eval_target_return=1,\n",
    "    eval_action_sampler=d3rlpy.algos.SoftmaxTransformerActionSampler(\n",
    "        temperature=1.0,\n",
    "    ),\n",
    "    experiment_name=f\"DT_{experiment_name}_{experiment_seed}\"\n",
    ")\n"
   ]
  },
  {
   "attachments": {},
   "cell_type": "markdown",
   "metadata": {},
   "source": [
    "We make a video of the trained agent."
   ]
  },
  {
   "cell_type": "code",
   "execution_count": null,
   "metadata": {},
   "outputs": [],
   "source": [
    "import gymnasium as gym\n",
    "\n",
    "import numpy as np\n",
    "from gym.wrappers import RecordVideo\n",
    "\n",
    "\n",
    "# start virtual display\n",
    "d3rlpy.notebook_utils.start_virtual_display()\n",
    "\n",
    "env_video = create_env(env_key, max_episode_steps=200, is_video=True, isPartialObs=True, isFullyObs=False)\n",
    "\n",
    "env_video = RecordVideo(env_video, './videos/video-doorkey-dt-d3rlpy')\n",
    "\n",
    "seed = 0\n",
    "\n",
    "\n",
    "# wrap as stateful actor for interaction\n",
    "actor = dt.as_stateful_wrapper(\n",
    "    target_return=1,\n",
    "    action_sampler=d3rlpy.algos.SoftmaxTransformerActionSampler(temperature=1.0,)\n",
    ")\n",
    "\n",
    "done = False\n",
    "\n",
    "actor.reset()\n",
    "observation, reward = env_video.reset(seed=seed)\n",
    "\n",
    "while True:\n",
    "\n",
    "    action = actor.predict(observation, 1) \n",
    "\n",
    "    observation, reward, done, truncated, _ = env_video.step(action)\n",
    "\n",
    "    if done:\n",
    "        print(\"reward:\", reward)\n",
    "        print(\"DONE!!!\")\n",
    "        break\n",
    "    elif truncated:\n",
    "        print(\"Truncated\")\n",
    "        break\n",
    "\n",
    "env.close()\n",
    "\n",
    "d3rlpy.notebook_utils.render_video(\"./videos/video-doorkey-dt-d3rlpy/rl-video-episode-0.mp4\")\n"
   ]
  },
  {
   "cell_type": "code",
   "execution_count": null,
   "metadata": {},
   "outputs": [],
   "source": [
    "dt.save_model('./models/model_door-key-dt-16x16-128-d3rlpy.pt')"
   ]
  },
  {
   "attachments": {},
   "cell_type": "markdown",
   "metadata": {},
   "source": [
    "We evaluate the DT trained agent comparing it with the DQN agent. We can see that the DT agent is better than the DQN agent. The DT agent solves the environment more often than the DQN agent. The most important think to see is that the DT agent is able to solve the environment with a partial observation, and without rewarding the agent for picking up the key or opening the door. The DT agent is able to solve the environment only with the reward of reaching the goal. Moreover, the DT agent is able to solve the environment only with the data generated by the DQN agent. The DT agent is able to learn from the data generated by the DQN agent. And the result are an agent better than his \"teacher\"."
   ]
  },
  {
   "cell_type": "code",
   "execution_count": null,
   "metadata": {},
   "outputs": [],
   "source": [
    "# We are going to compare the performance of DQN and DT\n",
    "\n",
    "trials = 100\n",
    "\n",
    "def evaluate_policy(env, actor, explorer=None, n_trials=10):\n",
    "\n",
    "    success = 0\n",
    "    for _ in tqdm(range(n_trials)):\n",
    "        \n",
    "        if (explorer is  None):\n",
    "            actor.reset()\n",
    "        obs,_ = env.reset()\n",
    "\n",
    "        done, truncated = False, False\n",
    "        while not (done or truncated):\n",
    "            if explorer is not None:\n",
    "                x = np.expand_dims(obs, axis=0)\n",
    "                action = explorer.sample(actor, x, 0)[0]\n",
    "            else:\n",
    "                action = actor.predict(obs, 1)\n",
    "            obs, reward, done, truncated, _ = env.step(action)\n",
    "            if done and reward > 0:\n",
    "                success += 1\n",
    "    return success / n_trials\n",
    "\n",
    "env_dqn = create_env(env_key, max_episode_steps=config[\"max_episode_steps\"], isPartialObs=False, isFullyObs=True)\n",
    "env_dt = create_env(env_key, max_episode_steps=config[\"max_episode_steps\"], isPartialObs=True, isFullyObs=False)\n",
    "\n",
    "dqn.build_with_env(env_dqn)\n",
    "dqn.load_model('./models/model_door-key-dqn-16x16.pt')\n",
    "\n",
    "#dt.build_with_env(env_dt)\n",
    "#dt.load_model('./models/model_door-key-dt-16x16-128-d3rlpy.pt')\n",
    "\n",
    "explorer_dqn = d3rlpy.algos.ConstantEpsilonGreedy(epsilon=config[\"epsilon\"])\n",
    "\n",
    "actor_dt = dt.as_stateful_wrapper(\n",
    "    target_return=1,\n",
    "    action_sampler=d3rlpy.algos.SoftmaxTransformerActionSampler(temperature=1.0,)\n",
    ")\n",
    "\n",
    "dqn_score = evaluate_policy(env_dqn, dqn, explorer=explorer_dqn, n_trials=trials)\n",
    "dt_score = evaluate_policy(env_dt, actor_dt, n_trials=trials)\n",
    "\n",
    "print(\"DQN score:\", dqn_score)\n",
    "print(\"DT score:\", dt_score)\n",
    "\n"
   ]
  },
  {
   "attachments": {},
   "cell_type": "markdown",
   "metadata": {},
   "source": [
    "We make a bar plot with the rewards of the DQN agent and the DT agent. We can see that the DT agent is able to solve the environment more often than the DQN agent."
   ]
  },
  {
   "cell_type": "code",
   "execution_count": null,
   "metadata": {},
   "outputs": [
    {
     "data": {
      "image/png": "[encoded data removed]",
      "text/plain": [
       "<Figure size 800x600 with 1 Axes>"
      ]
     },
     "metadata": {},
     "output_type": "display_data"
    }
   ],
   "source": [
    "# We will make a bar chart to compare the performance of DQN and DT\n",
    "\n",
    "import matplotlib.pyplot as plt\n",
    "\n",
    "labels = ['DQN', 'DT']\n",
    "scores = [dqn_score, dt_score]\n",
    "\n",
    "x = np.arange(len(labels))  # the label locations\n",
    "width = 0.35  # the width of the bars\n",
    "\n",
    "fig, ax = plt.subplots(figsize=(8, 6))\n",
    "rects1 = ax.bar(x - width/2, scores, width, label='Scores')\n",
    "\n",
    "# Add some text for labels, title and custom x-axis tick labels, etc.\n",
    "ax.set_ylabel('Scores')\n",
    "ax.set_title('Scores by DQN and DT')\n",
    "ax.set_xticks(x)\n",
    "ax.set_xticklabels(labels)\n",
    "ax.legend()\n",
    "\n",
    "fig.tight_layout()\n",
    "\n",
    "plt.show()\n",
    "\n"
   ]
  }
 ],
 "metadata": {
  "kernelspec": {
   "display_name": "decision-transformers",
   "language": "python",
   "name": "python3"
  },
  "language_info": {
   "codemirror_mode": {
    "name": "ipython",
    "version": 3
   },
   "file_extension": ".py",
   "mimetype": "text/x-python",
   "name": "python",
   "nbconvert_exporter": "python",
   "pygments_lexer": "ipython3",
   "version": "3.10.0"
  },
  "orig_nbformat": 4
 },
 "nbformat": 4,
 "nbformat_minor": 2
}
