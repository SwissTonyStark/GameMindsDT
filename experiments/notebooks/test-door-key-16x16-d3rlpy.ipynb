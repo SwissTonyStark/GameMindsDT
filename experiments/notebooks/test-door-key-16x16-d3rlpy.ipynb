{
 "cells": [
  {
   "attachments": {},
   "cell_type": "markdown",
   "metadata": {},
   "source": [
    "# Test Door Key Offline Training with d3rlpy and Decision Transformer\n",
    "\n",
    "We will use the Door Key 16x16 environment from Minigrid Gym to test the Decision Transformer algorithm from d3rlpy."
   ]
  },
  {
   "cell_type": "code",
   "execution_count": null,
   "metadata": {},
   "outputs": [],
   "source": [
    "# Test if we are running on CoLab or not\n",
    "if 'google.colab' in str(get_ipython()):\n",
    "  print('Running on CoLab')\n",
    "  !apt-get install -y xvfb ffmpeg > /dev/null 2>&1\n",
    "  %pip install pyvirtualdisplay pygame moviepy > /dev/null 2>&1\n",
    "  %pip install d3rlpy\n",
    "  %pip install matplotlib\n",
    "else:\n",
    "  print('Not running on CoLab')"
   ]
  },
  {
   "cell_type": "code",
   "execution_count": null,
   "metadata": {},
   "outputs": [],
   "source": [
    "# Directory creation\n",
    "import os\n",
    "path = \"./models\"\n",
    "isExist = os.path.exists(path)\n",
    "if not isExist:\n",
    "  os.makedirs(path)\n",
    "\n",
    "path = \"./datasets\"\n",
    "isExist = os.path.exists(path)\n",
    "if not isExist:\n",
    "  os.makedirs(path)\n",
    "\n",
    "path = \"./videos/video-doorkey-dt-d3rlpy\"\n",
    "isExist = os.path.exists(path)\n",
    "if not isExist:\n",
    "  os.makedirs(path)"
   ]
  },
  {
   "cell_type": "code",
   "execution_count": null,
   "metadata": {},
   "outputs": [],
   "source": [
    "import gymnasium as gym\n",
    "from gymnasium import spaces\n",
    "from minigrid.envs import DoorKeyEnv\n",
    "from gymnasium.core import ActType, ObsType\n",
    "from typing import Any, SupportsFloat\n",
    "import random, math\n",
    "import numpy as np\n",
    "\n",
    "from gymnasium.envs.registration import register\n",
    "\n",
    "register(\n",
    "    id=\"MiniGrid-DoorKey-16x16-v0\",\n",
    "    entry_point=\"minigrid.envs:DoorKeyEnv\",\n",
    "    kwargs={\"size\": 16},\n",
    ")\n",
    "    "
   ]
  },
  {
   "attachments": {},
   "cell_type": "markdown",
   "metadata": {},
   "source": [
    "We created a PartialObsWrapper to augment flattened partial observations with the agent's direction in a single vector. This is beneficial for training the Decision Transformer algorithm.\n",
    "\n",
    "Additionally, we developed a PartialAndFullyObsWrapper to enhance flattened partial observations with the agent's direction in just one vector, and to append the full observation to the partial observation. This is advantageous for sampling data from the environment using the trained DQN agent, and for saving the data in a dataset."
   ]
  },
  {
   "cell_type": "code",
   "execution_count": null,
   "metadata": {},
   "outputs": [],
   "source": [
    "import minigrid\n",
    "from minigrid.core.constants import COLOR_TO_IDX, OBJECT_TO_IDX\n",
    "from gymnasium.core import ObservationWrapper\n",
    "\n",
    "class PartialObsWrapper(ObservationWrapper):\n",
    "    def __init__(self, env):\n",
    "        super().__init__(env)\n",
    "\n",
    "        new_image_space = spaces.Box(\n",
    "            low=0,\n",
    "            high=255,\n",
    "            shape=(((self.env.agent_view_size * self.env.agent_view_size *  3) + 1),),  \n",
    "            dtype=\"uint8\",\n",
    "        )\n",
    "\n",
    "        self.observation_space = spaces.Dict(\n",
    "            {**self.observation_space.spaces, \"image\": new_image_space}\n",
    "        )\n",
    "\n",
    "    def observation(self, obs):\n",
    "        image = np.concatenate((obs[\"image\"].flatten(), np.array([obs[\"direction\"]])))\n",
    "\n",
    "        return {\"image\": image}\n",
    "\n",
    "class PartialAndFullyObsWrapper(ObservationWrapper):\n",
    "\n",
    "    def __init__(self, env):\n",
    "        super().__init__(env)\n",
    "\n",
    "        new_image_space = spaces.Box(\n",
    "            low=0,\n",
    "            high=255,\n",
    "            shape=(self.env.width, self.env.height, 3),  # number of cells\n",
    "            dtype=\"uint8\",\n",
    "        )\n",
    "\n",
    "        self.observation_space = spaces.Dict(\n",
    "            {**self.observation_space.spaces, \"image\": new_image_space}\n",
    "        )\n",
    "\n",
    "    def observation(self, obs):\n",
    "        env = self.unwrapped\n",
    "        full_grid = env.grid.encode()\n",
    "        full_grid[env.agent_pos[0]][env.agent_pos[1]] = np.array(\n",
    "            [OBJECT_TO_IDX[\"agent\"], COLOR_TO_IDX[\"red\"], env.agent_dir]\n",
    "        )\n",
    "\n",
    "        partial_image = np.concatenate((obs[\"image\"].flatten(), np.array([obs[\"direction\"]])))\n",
    "\n",
    "        return {\"partial_image\": partial_image, \"image\": full_grid}\n",
    "\n",
    "def create_env(env_key, max_episode_steps=100, isPartialObs=False, isFullyObs=True, is_video=False):\n",
    "    \n",
    "    render_mode = None\n",
    "\n",
    "    if is_video == True:\n",
    "        render_mode = 'rgb_array'\n",
    "\n",
    "    env = gym.make(env_key, max_episode_steps=max_episode_steps, render_mode=render_mode, see_through_walls=True)\n",
    "\n",
    "    if isPartialObs and isFullyObs:\n",
    "        env =  PartialAndFullyObsWrapper(env)\n",
    "    elif isPartialObs:\n",
    "        env = PartialObsWrapper(env)\n",
    "        env = minigrid.wrappers.ImgObsWrapper(env)\n",
    "    elif isFullyObs:\n",
    "        env = minigrid.wrappers.FullyObsWrapper(env)\n",
    "        env = minigrid.wrappers.ImgObsWrapper(env)\n",
    "\n",
    "    return env\n"
   ]
  },
  {
   "attachments": {},
   "cell_type": "markdown",
   "metadata": {},
   "source": [
    "We retrieve the DQN agent trained in the notebook 'train-door-key-16x16-dqn.ipynb'. This agent is employed to sample data from the environment and to store this data in a dataset. This approach allows us to use the trained agent to generate expert data for the Decision Transformer algorithm. Additionally, this agent is utilized to assess the performance of the Decision Transformer algorithm. The agent is competent enough to solve the environment, though it is not flawless."
   ]
  },
  {
   "cell_type": "code",
   "execution_count": null,
   "metadata": {},
   "outputs": [],
   "source": [
    "import d3rlpy\n",
    "import gymnasium as gym\n",
    "import torch\n",
    "import torch.nn as nn\n",
    "from d3rlpy.models.encoders import EncoderFactory\n",
    "\n",
    "class CustomConvEncoder(nn.Module):\n",
    "    def __init__(self, observation_shape):\n",
    "        super().__init__()\n",
    "        print(observation_shape)\n",
    "\n",
    "        self.conv1 = nn.Conv2d(3, 32, kernel_size=1, stride=1, padding=1)\n",
    "        self.conv2 = nn.Conv2d(32, 64, kernel_size=3, stride=2, padding=1)\n",
    "        self.conv2Dropout = nn.Dropout(0.25)\n",
    "        self.conv3 = nn.Conv2d(64, 128, kernel_size=3, stride=2, padding=1)\n",
    "        self.conv3Dropout = nn.Dropout(0.5)\n",
    "        self.conv4 = nn.Conv2d(128, 256, kernel_size=3, stride=2, padding=1)\n",
    "        self.conv4Dropout = nn.Dropout(0.5)\n",
    "        self.conv5 = nn.Conv2d(256, 512, kernel_size=3, stride=2, padding=1)\n",
    "        self.conv5Dropout = nn.Dropout(0.5)\n",
    "\n",
    "\n",
    "    def forward(self, x):\n",
    "        h = x.permute(0, 3, 1, 2)\n",
    "        h = torch.relu(self.conv1(h))\n",
    "        h = torch.relu(self.conv2Dropout(self.conv2(h)))\n",
    "        h = torch.relu(self.conv3Dropout(self.conv3(h)))\n",
    "        h = torch.relu(self.conv4Dropout(self.conv4(h)))\n",
    "        h = torch.relu(self.conv5Dropout(self.conv5(h)))\n",
    "\n",
    "        h = torch.flatten(h, start_dim=1)\n",
    "        #print(h.shape)\n",
    "\n",
    "        return h\n",
    "    \n",
    "class CustomConvEncoderFactory(EncoderFactory):\n",
    "\n",
    "    def create(self, observation_shape):\n",
    "        return CustomConvEncoder(observation_shape)\n",
    "\n",
    "    @staticmethod\n",
    "    def get_type() -> str:\n",
    "        return \"custom\"\n",
    "    \n"
   ]
  },
  {
   "cell_type": "code",
   "execution_count": null,
   "metadata": {},
   "outputs": [],
   "source": [
    "config = {\n",
    "    \"seed\": 1,\n",
    "    \"dataset_size\": 10000,\n",
    "    \"epsilon\": 0.3,\n",
    "    \"max_episode_steps\": 200,\n",
    "    \"experiment_name\": \"door-key-16x16\",\n",
    "    \"device\": \"cuda:0\"\n",
    "}\n",
    "\n",
    "env_key = \"MiniGrid-DoorKey-16x16-v0\"\n",
    "\n",
    "env = create_env(env_key, max_episode_steps=config[\"max_episode_steps\"])\n",
    "\n",
    "dqn = d3rlpy.algos.DQNConfig(\n",
    "    encoder_factory=CustomConvEncoderFactory(),\n",
    "    batch_size=100,\n",
    "    gamma=0.9,\n",
    "    target_update_interval=1000,\n",
    "    learning_rate=2.5e-4\n",
    ").create(device=config[\"device\"])\n",
    "\n",
    "dqn.build_with_env(env)\n",
    "\n",
    "dqn.load_model('./models/model_door-key-dqn-16x16.pt')\n"
   ]
  },
  {
   "attachments": {},
   "cell_type": "markdown",
   "metadata": {},
   "source": [
    "We develop a CustomReplayBuffer to exclude episodes that have zero or negative rewards. Our goal is to retain only those episodes in which the agent is making progress towards the goal."
   ]
  },
  {
   "cell_type": "code",
   "execution_count": null,
   "metadata": {},
   "outputs": [],
   "source": [
    "import numpy as np\n",
    "from tqdm import tqdm\n",
    "\n",
    "\n",
    "class CustomReplayBuffer(d3rlpy.dataset.ReplayBuffer):\n",
    "    ' Custom Replay Buffer to clip episodes with negative rewards'\n",
    "    \n",
    "    def clip_episode(self, terminated: bool) -> None:\n",
    "        r\"\"\"Clips the current episode.\n",
    "\n",
    "        Args:\n",
    "            terminated: Flag to represent environment termination.\n",
    "        \"\"\"\n",
    "\n",
    "        episode_to_remove = None\n",
    "        # Check if the episode's reward is 0 or negative\n",
    "        if not terminated and self._writer._active_episode.rewards.mean() <= 0:\n",
    "            episode_to_remove = self._writer._active_episode\n",
    "            \n",
    "        self._writer.clip_episode(terminated)\n",
    "\n",
    "        if episode_to_remove is not None:\n",
    "            # Remove all transitions associated with the episode to remove\n",
    "            self._buffer._transitions = [(ep, idx) for ep, idx in self._buffer._transitions if ep is not episode_to_remove]\n",
    "            self._buffer.episodes.remove(episode_to_remove)  \n",
    "\n"
   ]
  },
  {
   "attachments": {},
   "cell_type": "markdown",
   "metadata": {},
   "source": [
    "We populate the buffer dataset with data sampled from the environment using the trained DQN agent. We utilize the PartialAndFullyObsWrapper to employ full observation for the DQN agent while saving the partial observation in the dataset. We continue sampling until the dataset is filled exclusively with positive rewards. To create a mix of non-expert and expert data, we initially introduce more entropy into the actions sampled from the DQN agent and gradually reduce the entropy to produce expert data. This is a slow process, but it is the only method we have found to generate expert data automatically."
   ]
  },
  {
   "cell_type": "code",
   "execution_count": null,
   "metadata": {},
   "outputs": [],
   "source": [
    "env_data = create_env(env_key, max_episode_steps=config[\"max_episode_steps\"], isPartialObs=True, isFullyObs=False)\n",
    "env_sampler = create_env(env_key, max_episode_steps=config[\"max_episode_steps\"], isPartialObs=True, isFullyObs=True)\n",
    "\n",
    "buffer = d3rlpy.dataset.InfiniteBuffer()\n",
    "dataset = CustomReplayBuffer(buffer, env=env_data, cache_size=config[\"max_episode_steps\"])\n",
    "\n",
    "seed = 1\n",
    "\n",
    "done = False\n",
    "\n",
    "observation, _ = env_sampler.reset()\n",
    "\n",
    "num_steps = 0\n",
    "count_done = 0\n",
    "count_truncated = 0\n",
    "\n",
    "epsilon = 0.5\n",
    "epsilon_min = 0.1\n",
    "epsilon_decrement = (epsilon - epsilon_min) / 10  \n",
    "\n",
    "\n",
    "pbar = tqdm(total=config[\"dataset_size\"])\n",
    "\n",
    "while dataset.size() < config[\"dataset_size\"]:\n",
    "\n",
    "    pbar.update(dataset.size() - pbar.n) \n",
    "\n",
    "    if dataset.size() >= (config[\"dataset_size\"] * (1 - (epsilon - epsilon_min) / (epsilon - epsilon_decrement))):\n",
    "        epsilon = max(epsilon - epsilon_decrement, epsilon_min)\n",
    "\n",
    "    explorer = d3rlpy.algos.ConstantEpsilonGreedy(epsilon=epsilon)\n",
    "\n",
    "    while True:\n",
    "        x = np.expand_dims(observation['image'], axis=0)\n",
    "\n",
    "        action = explorer.sample(dqn, x, 0)[0]\n",
    "\n",
    "        next_observation, reward, done, truncated, _ = env_sampler.step(action)\n",
    "\n",
    "        clip_episode = done or truncated\n",
    "\n",
    "        # store observation\n",
    "        dataset.append(observation['partial_image'], action, float(reward))\n",
    "\n",
    "        # reset if terminated\n",
    "        if clip_episode:\n",
    "            dataset.clip_episode(done)\n",
    "            observation, _ = env_sampler.reset()\n",
    "            if done:\n",
    "                count_done += 1\n",
    "            if truncated:\n",
    "                count_truncated += 1\n",
    "            break\n",
    "        else:\n",
    "            observation = next_observation\n",
    "\n",
    "pbar.close()\n",
    "env.close()\n",
    "\n",
    "print(\"Dataset size: \", dataset.size())\n",
    "print(\"Truncated: \", count_truncated)\n",
    "\n",
    "dataset.dump('./datasets/dataset_door-key-dqn-16x16-mixed.d3')\n"
   ]
  },
  {
   "attachments": {},
   "cell_type": "markdown",
   "metadata": {},
   "source": [
    "We train the Discrete Decision Transformer agent using the data sampled from the environment. We employ the PartialObsWrapper to augment the partial observation with the agent's direction."
   ]
  },
  {
   "cell_type": "code",
   "execution_count": 132,
   "metadata": {},
   "outputs": [
    {
     "name": "stdout",
     "output_type": "stream",
     "text": [
      "\u001b[2m2024-01-23 15:53.21\u001b[0m [\u001b[32m\u001b[1minfo     \u001b[0m] \u001b[1mSignatures have been automatically determined.\u001b[0m \u001b[36maction_signature\u001b[0m=\u001b[35mSignature(dtype=[dtype('int64')], shape=[()])\u001b[0m \u001b[36mobservation_signature\u001b[0m=\u001b[35mSignature(dtype=[dtype('uint8')], shape=[(148,)])\u001b[0m \u001b[36mreward_signature\u001b[0m=\u001b[35mSignature(dtype=[dtype('float32')], shape=[[1]])\u001b[0m\n",
      "\u001b[2m2024-01-23 15:53.21\u001b[0m [\u001b[32m\u001b[1minfo     \u001b[0m] \u001b[1mAction-space has been automatically determined.\u001b[0m \u001b[36maction_space\u001b[0m=\u001b[35m<ActionSpace.DISCRETE: 2>\u001b[0m\n",
      "\u001b[2m2024-01-23 15:53.21\u001b[0m [\u001b[32m\u001b[1minfo     \u001b[0m] \u001b[1mAction size has been automatically determined.\u001b[0m \u001b[36maction_size\u001b[0m=\u001b[35m7\u001b[0m\n",
      "\u001b[2m2024-01-23 15:53.29\u001b[0m [\u001b[32m\u001b[1minfo     \u001b[0m] \u001b[1mSignatures have been automatically determined.\u001b[0m \u001b[36maction_signature\u001b[0m=\u001b[35mSignature(dtype=[dtype('int64')], shape=[(1,)])\u001b[0m \u001b[36mobservation_signature\u001b[0m=\u001b[35mSignature(dtype=[dtype('uint8')], shape=[(148,)])\u001b[0m \u001b[36mreward_signature\u001b[0m=\u001b[35mSignature(dtype=[dtype('float32')], shape=[(1,)])\u001b[0m\n",
      "\u001b[2m2024-01-23 15:53.29\u001b[0m [\u001b[32m\u001b[1minfo     \u001b[0m] \u001b[1mAction-space has been automatically determined.\u001b[0m \u001b[36maction_space\u001b[0m=\u001b[35m<ActionSpace.DISCRETE: 2>\u001b[0m\n",
      "\u001b[2m2024-01-23 15:53.29\u001b[0m [\u001b[32m\u001b[1minfo     \u001b[0m] \u001b[1mAction size has been automatically determined.\u001b[0m \u001b[36maction_size\u001b[0m=\u001b[35m7\u001b[0m\n",
      "\u001b[2m2024-01-23 15:53.29\u001b[0m [\u001b[32m\u001b[1minfo     \u001b[0m] \u001b[1mdataset info                  \u001b[0m \u001b[36mdataset_info\u001b[0m=\u001b[35mDatasetInfo(observation_signature=Signature(dtype=[dtype('uint8')], shape=[(148,)]), action_signature=Signature(dtype=[dtype('int64')], shape=[()]), reward_signature=Signature(dtype=[dtype('float32')], shape=[[1]]), action_space=<ActionSpace.DISCRETE: 2>, action_size=7)\u001b[0m\n",
      "\u001b[2m2024-01-23 15:53.29\u001b[0m [\u001b[32m\u001b[1minfo     \u001b[0m] \u001b[1mDirectory is created at d3rlpy_logs/DT_door-key-16x16_1_20240123155329\u001b[0m\n",
      "\u001b[2m2024-01-23 15:53.29\u001b[0m [\u001b[32m\u001b[1mdebug    \u001b[0m] \u001b[1mBuilding models...            \u001b[0m\n",
      "\u001b[2m2024-01-23 15:53.29\u001b[0m [\u001b[32m\u001b[1mdebug    \u001b[0m] \u001b[1mModels have been built.       \u001b[0m\n",
      "\u001b[2m2024-01-23 15:53.29\u001b[0m [\u001b[32m\u001b[1minfo     \u001b[0m] \u001b[1mParameters                    \u001b[0m \u001b[36mparams\u001b[0m=\u001b[35m{'observation_shape': [148], 'action_size': 7, 'config': {'type': 'discrete_decision_transformer', 'params': {'batch_size': 64, 'gamma': 0.99, 'observation_scaler': {'type': 'none', 'params': {}}, 'action_scaler': {'type': 'none', 'params': {}}, 'reward_scaler': {'type': 'none', 'params': {}}, 'context_size': 60, 'max_timestep': 200, 'learning_rate': 0.0006, 'encoder_factory': {'type': 'vector', 'params': {'hidden_units': [256, 256], 'activation': 'relu', 'use_batch_norm': False, 'dropout_rate': None, 'exclude_last_activation': False}}, 'optim_factory': {'type': 'gpt_adam_w', 'params': {'betas': [0.9, 0.999], 'eps': 1e-08, 'weight_decay': 0, 'amsgrad': False}}, 'num_heads': 8, 'num_layers': 3, 'attn_dropout': 0.1, 'resid_dropout': 0.1, 'embed_dropout': 0.1, 'activation_type': 'gelu', 'embed_activation_type': 'tanh', 'position_encoding_type': <PositionEncodingType.GLOBAL: 'global'>, 'warmup_tokens': 10240, 'final_tokens': 30000000, 'clip_grad_norm': 1.0, 'compile': False}}}\u001b[0m\n"
     ]
    },
    {
     "data": {
      "application/vnd.jupyter.widget-view+json": {
       "model_id": "eaf70b5cf9cc4be1bc4ebf1d15015c3f",
       "version_major": 2,
       "version_minor": 0
      },
      "text/plain": [
       "Epoch 1/5:   0%|          | 0/2000 [00:00<?, ?it/s]"
      ]
     },
     "metadata": {},
     "output_type": "display_data"
    },
    {
     "name": "stdout",
     "output_type": "stream",
     "text": [
      "\u001b[2m2024-01-23 15:56.12\u001b[0m [\u001b[32m\u001b[1minfo     \u001b[0m] \u001b[1mDT_door-key-16x16_1_20240123155329: epoch=1 step=2000\u001b[0m \u001b[36mepoch\u001b[0m=\u001b[35m1\u001b[0m \u001b[36mmetrics\u001b[0m=\u001b[35m{'time_sample_batch': 0.008360352039337158, 'time_algorithm_update': 0.06885318326950073, 'loss': 0.6986446649283171, 'learning_rate': 0.000586854190981062, 'time_step': 0.07737573742866516, 'environment': 0.38987499999999997}\u001b[0m \u001b[36mstep\u001b[0m=\u001b[35m2000\u001b[0m\n",
      "\u001b[2m2024-01-23 15:56.12\u001b[0m [\u001b[32m\u001b[1minfo     \u001b[0m] \u001b[1mModel parameters are saved to d3rlpy_logs/DT_door-key-16x16_1_20240123155329/model_2000.d3\u001b[0m\n"
     ]
    },
    {
     "data": {
      "application/vnd.jupyter.widget-view+json": {
       "model_id": "b02e635b2716466d8a1c20cd016ea5bd",
       "version_major": 2,
       "version_minor": 0
      },
      "text/plain": [
       "Epoch 2/5:   0%|          | 0/2000 [00:00<?, ?it/s]"
      ]
     },
     "metadata": {},
     "output_type": "display_data"
    },
    {
     "name": "stdout",
     "output_type": "stream",
     "text": [
      "\u001b[2m2024-01-23 15:58.34\u001b[0m [\u001b[32m\u001b[1minfo     \u001b[0m] \u001b[1mDT_door-key-16x16_1_20240123155329: epoch=2 step=4000\u001b[0m \u001b[36mepoch\u001b[0m=\u001b[35m2\u001b[0m \u001b[36mmetrics\u001b[0m=\u001b[35m{'time_sample_batch': 0.007384556651115417, 'time_algorithm_update': 0.060282236576080325, 'loss': 0.6478464986234903, 'learning_rate': 0.0005145545306444254, 'time_step': 0.06779557120800019, 'environment': 0.6721914062500001}\u001b[0m \u001b[36mstep\u001b[0m=\u001b[35m4000\u001b[0m\n",
      "\u001b[2m2024-01-23 15:58.34\u001b[0m [\u001b[32m\u001b[1minfo     \u001b[0m] \u001b[1mModel parameters are saved to d3rlpy_logs/DT_door-key-16x16_1_20240123155329/model_4000.d3\u001b[0m\n"
     ]
    },
    {
     "data": {
      "application/vnd.jupyter.widget-view+json": {
       "model_id": "b303dc1ad9804f70b2a212cb412fedbc",
       "version_major": 2,
       "version_minor": 0
      },
      "text/plain": [
       "Epoch 3/5:   0%|          | 0/2000 [00:00<?, ?it/s]"
      ]
     },
     "metadata": {},
     "output_type": "display_data"
    },
    {
     "name": "stdout",
     "output_type": "stream",
     "text": [
      "\u001b[2m2024-01-23 16:01.02\u001b[0m [\u001b[32m\u001b[1minfo     \u001b[0m] \u001b[1mDT_door-key-16x16_1_20240123155329: epoch=3 step=6000\u001b[0m \u001b[36mepoch\u001b[0m=\u001b[35m3\u001b[0m \u001b[36mmetrics\u001b[0m=\u001b[35m{'time_sample_batch': 0.007374895691871643, 'time_algorithm_update': 0.06381214225292206, 'loss': 0.6184482524693012, 'learning_rate': 0.0003870679723529984, 'time_step': 0.07131910729408264, 'environment': 0.9666015625}\u001b[0m \u001b[36mstep\u001b[0m=\u001b[35m6000\u001b[0m\n",
      "\u001b[2m2024-01-23 16:01.02\u001b[0m [\u001b[32m\u001b[1minfo     \u001b[0m] \u001b[1mModel parameters are saved to d3rlpy_logs/DT_door-key-16x16_1_20240123155329/model_6000.d3\u001b[0m\n"
     ]
    },
    {
     "data": {
      "application/vnd.jupyter.widget-view+json": {
       "model_id": "15bd4cc7dc5648ecabd9f2ee038e721e",
       "version_major": 2,
       "version_minor": 0
      },
      "text/plain": [
       "Epoch 4/5:   0%|          | 0/2000 [00:00<?, ?it/s]"
      ]
     },
     "metadata": {},
     "output_type": "display_data"
    },
    {
     "name": "stdout",
     "output_type": "stream",
     "text": [
      "\u001b[2m2024-01-23 16:05.03\u001b[0m [\u001b[32m\u001b[1minfo     \u001b[0m] \u001b[1mDT_door-key-16x16_1_20240123155329: epoch=4 step=8000\u001b[0m \u001b[36mepoch\u001b[0m=\u001b[35m4\u001b[0m \u001b[36mmetrics\u001b[0m=\u001b[35m{'time_sample_batch': 0.007675033569335937, 'time_algorithm_update': 0.10666953492164612, 'loss': 0.5762494428306818, 'learning_rate': 0.00023726335260661582, 'time_step': 0.11447856402397155, 'environment': 0.9665664062499999}\u001b[0m \u001b[36mstep\u001b[0m=\u001b[35m8000\u001b[0m\n",
      "\u001b[2m2024-01-23 16:05.03\u001b[0m [\u001b[32m\u001b[1minfo     \u001b[0m] \u001b[1mModel parameters are saved to d3rlpy_logs/DT_door-key-16x16_1_20240123155329/model_8000.d3\u001b[0m\n"
     ]
    },
    {
     "data": {
      "application/vnd.jupyter.widget-view+json": {
       "model_id": "1914a43bbee24cfcbbda3c3878c6fdb0",
       "version_major": 2,
       "version_minor": 0
      },
      "text/plain": [
       "Epoch 5/5:   0%|          | 0/2000 [00:00<?, ?it/s]"
      ]
     },
     "metadata": {},
     "output_type": "display_data"
    },
    {
     "name": "stdout",
     "output_type": "stream",
     "text": [
      "\u001b[2m2024-01-23 16:09.43\u001b[0m [\u001b[32m\u001b[1minfo     \u001b[0m] \u001b[1mDT_door-key-16x16_1_20240123155329: epoch=5 step=10000\u001b[0m \u001b[36mepoch\u001b[0m=\u001b[35m5\u001b[0m \u001b[36mmetrics\u001b[0m=\u001b[35m{'time_sample_batch': 0.007852122902870178, 'time_algorithm_update': 0.1266483691930771, 'loss': 0.4946281714141369, 'learning_rate': 0.00010412782734397075, 'time_step': 0.13463107264041901, 'environment': 0.9719101562500001}\u001b[0m \u001b[36mstep\u001b[0m=\u001b[35m10000\u001b[0m\n",
      "\u001b[2m2024-01-23 16:09.43\u001b[0m [\u001b[32m\u001b[1minfo     \u001b[0m] \u001b[1mModel parameters are saved to d3rlpy_logs/DT_door-key-16x16_1_20240123155329/model_10000.d3\u001b[0m\n"
     ]
    }
   ],
   "source": [
    "env_dt = create_env(env_key, max_episode_steps=config[\"max_episode_steps\"], isPartialObs=True, isFullyObs=False)\n",
    "env_dt_eval = create_env(env_key, max_episode_steps=config[\"max_episode_steps\"], isPartialObs=True, isFullyObs=False)\n",
    "\n",
    "buffer = d3rlpy.dataset.InfiniteBuffer()\n",
    "dataset = CustomReplayBuffer(buffer, env=env_dt, cache_size=config[\"max_episode_steps\"])\n",
    "\n",
    "dataset.load('./datasets/dataset_door-key-dqn-16x16-mixed.d3', buffer=buffer)\n",
    "\n",
    "\n",
    "target_return = 1\n",
    "experiment_name = config[\"experiment_name\"]\n",
    "experiment_seed = config[\"seed\"]\n",
    "\n",
    "d3rlpy.seed(experiment_seed)\n",
    "d3rlpy.envs.seed_env(env, experiment_seed)\n",
    "\n",
    "dt = d3rlpy.algos.DiscreteDecisionTransformerConfig(\n",
    "    batch_size=64,\n",
    "    encoder_factory=d3rlpy.models.VectorEncoderFactory(\n",
    "    ),\n",
    "    optim_factory=d3rlpy.models.GPTAdamWFactory(),\n",
    "    position_encoding_type=d3rlpy.PositionEncodingType.GLOBAL,\n",
    "    context_size=60,\n",
    "    num_heads=8,\n",
    "    num_layers=3,\n",
    "    max_timestep=200,\n",
    ").create(device=config[\"device\"])\n",
    "\n",
    "\n",
    "dt.fit(                                                                                                                                                                                                                                                                                                                                                                                                                                                             \n",
    "    dataset,\n",
    "    n_steps=10000,\n",
    "    n_steps_per_epoch=2000,\n",
    "    eval_env=env_dt_eval,\n",
    "    eval_target_return=1,\n",
    "    eval_action_sampler=d3rlpy.algos.SoftmaxTransformerActionSampler(\n",
    "        temperature=1.0,\n",
    "    ),\n",
    "    experiment_name=f\"DT_{experiment_name}_{experiment_seed}\"\n",
    ")\n"
   ]
  },
  {
   "attachments": {},
   "cell_type": "markdown",
   "metadata": {},
   "source": [
    "We make a video of the trained agent."
   ]
  },
  {
   "cell_type": "code",
   "execution_count": 136,
   "metadata": {},
   "outputs": [
    {
     "name": "stderr",
     "output_type": "stream",
     "text": [
      "/home/drinf/anaconda3/envs/decision-transformers/lib/python3.10/site-packages/gymnasium/core.py:311: UserWarning: \u001b[33mWARN: env.agent_view_size to get variables from other wrappers is deprecated and will be removed in v1.0, to get this variable you can do `env.unwrapped.agent_view_size` for environment variables or `env.get_wrapper_attr('agent_view_size')` that will search the reminding wrappers.\u001b[0m\n",
      "  logger.warn(\n",
      "/home/drinf/anaconda3/envs/decision-transformers/lib/python3.10/site-packages/gym/wrappers/record_video.py:75: UserWarning: \u001b[33mWARN: Overwriting existing videos at /home/drinf/Desktop/PROJECTS/machine_learning/fib_postgraduate/GameMindsDT/experiments/notebooks/videos/video-doorkey-dt-d3rlpy folder (try specifying a different `video_folder` for the `RecordVideo` wrapper if this is not desired)\u001b[0m\n",
      "  logger.warn(\n",
      "/home/drinf/anaconda3/envs/decision-transformers/lib/python3.10/site-packages/gymnasium/core.py:311: UserWarning: \u001b[33mWARN: env.is_vector_env to get variables from other wrappers is deprecated and will be removed in v1.0, to get this variable you can do `env.unwrapped.is_vector_env` for environment variables or `env.get_wrapper_attr('is_vector_env')` that will search the reminding wrappers.\u001b[0m\n",
      "  logger.warn(\n",
      "\n",
      "\u001b[A                                                 \n",
      "\u001b[A                                                 "
     ]
    },
    {
     "name": "stdout",
     "output_type": "stream",
     "text": [
      "Moviepy - Building video /home/drinf/Desktop/PROJECTS/machine_learning/fib_postgraduate/GameMindsDT/experiments/notebooks/videos/video-doorkey-dt-d3rlpy/rl-video-episode-0.mp4.\n",
      "Moviepy - Writing video /home/drinf/Desktop/PROJECTS/machine_learning/fib_postgraduate/GameMindsDT/experiments/notebooks/videos/video-doorkey-dt-d3rlpy/rl-video-episode-0.mp4\n",
      "\n"
     ]
    },
    {
     "name": "stderr",
     "output_type": "stream",
     "text": [
      "                                                             \n",
      "\u001b[A                                                 \n",
      "\u001b[A                                                 "
     ]
    },
    {
     "name": "stdout",
     "output_type": "stream",
     "text": [
      "Moviepy - Done !\n",
      "Moviepy - video ready /home/drinf/Desktop/PROJECTS/machine_learning/fib_postgraduate/GameMindsDT/experiments/notebooks/videos/video-doorkey-dt-d3rlpy/rl-video-episode-0.mp4\n",
      "reward: 0.98171875\n",
      "DONE!!!\n"
     ]
    },
    {
     "data": {
      "text/html": [
       "\n",
       "                <video alt=\"test\" autoplay loop controls style=\"height: 400px;\">\n",
       "                    <source src=\"data:video/mp4;base64,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\" type=\"video/mp4\" />\n",
       "                </video>\n",
       "            "
      ],
      "text/plain": [
       "<IPython.core.display.HTML object>"
      ]
     },
     "metadata": {},
     "output_type": "display_data"
    }
   ],
   "source": [
    "import gymnasium as gym\n",
    "\n",
    "import numpy as np\n",
    "from gym.wrappers import RecordVideo\n",
    "\n",
    "\n",
    "# start virtual display\n",
    "d3rlpy.notebook_utils.start_virtual_display()\n",
    "\n",
    "env_video = create_env(env_key, max_episode_steps=200, is_video=True, isPartialObs=True, isFullyObs=False)\n",
    "\n",
    "env_video = RecordVideo(env_video, './videos/video-doorkey-dt-d3rlpy')\n",
    "\n",
    "# wrap as stateful actor for interaction\n",
    "actor = dt.as_stateful_wrapper(\n",
    "    target_return=1,\n",
    "    action_sampler=d3rlpy.algos.SoftmaxTransformerActionSampler(temperature=1.0,)\n",
    ")\n",
    "\n",
    "done = False\n",
    "\n",
    "actor.reset()\n",
    "observation, reward = env_video.reset()\n",
    "\n",
    "while True:\n",
    "\n",
    "    action = actor.predict(observation, 1) \n",
    "\n",
    "    observation, reward, done, truncated, _ = env_video.step(action)\n",
    "\n",
    "    if done:\n",
    "        print(\"reward:\", reward)\n",
    "        print(\"DONE!!!\")\n",
    "        break\n",
    "    elif truncated:\n",
    "        print(\"Truncated\")\n",
    "        break\n",
    "\n",
    "env.close()\n",
    "\n",
    "d3rlpy.notebook_utils.render_video(\"./videos/video-doorkey-dt-d3rlpy/rl-video-episode-0.mp4\")\n"
   ]
  },
  {
   "cell_type": "code",
   "execution_count": 137,
   "metadata": {},
   "outputs": [],
   "source": [
    "dt.save_model('./models/model_door-key-dt-16x16-128-d3rlpy.pt')"
   ]
  },
  {
   "cell_type": "code",
   "execution_count": null,
   "metadata": {},
   "outputs": [],
   "source": [
    "dt = d3rlpy.load_learnable()"
   ]
  },
  {
   "attachments": {},
   "cell_type": "markdown",
   "metadata": {},
   "source": [
    "# Conclusion\n",
    "We evaluate the DT-trained agent by comparing it with the DQN agent. We can see that the DT agent is superior to the DQN agent. The DT agent solves the environment more frequently than the DQN agent. The most important thing to observe is that the DT agent can solve the environment with only partial observation, and without being rewarded for picking up the key or opening the door. The DT agent manages to solve the environment solely with the reward for reaching the goal. Furthermore, the DT agent can solve the environment using only the data generated by the DQN agent. The DT agent is capable of learning from the data produced by the DQN agent. The result is an agent that is better than its 'teacher'. \n",
    "\n",
    "## Unestable Training\n",
    "Despite this, we have noticed that the training is very unstable, and it can yield very different results in each epoch. We need to continue investigating this issue a little bit more."
   ]
  },
  {
   "cell_type": "code",
   "execution_count": 139,
   "metadata": {},
   "outputs": [
    {
     "name": "stdout",
     "output_type": "stream",
     "text": [
      "\u001b[2m2024-01-23 16:17.37\u001b[0m [\u001b[33m\u001b[1mwarning  \u001b[0m] \u001b[1mParameters will be reinitialized.\u001b[0m\n"
     ]
    },
    {
     "name": "stderr",
     "output_type": "stream",
     "text": [
      "/home/drinf/anaconda3/envs/decision-transformers/lib/python3.10/site-packages/gymnasium/core.py:311: UserWarning: \u001b[33mWARN: env.width to get variables from other wrappers is deprecated and will be removed in v1.0, to get this variable you can do `env.unwrapped.width` for environment variables or `env.get_wrapper_attr('width')` that will search the reminding wrappers.\u001b[0m\n",
      "  logger.warn(\n",
      "/home/drinf/anaconda3/envs/decision-transformers/lib/python3.10/site-packages/gymnasium/core.py:311: UserWarning: \u001b[33mWARN: env.height to get variables from other wrappers is deprecated and will be removed in v1.0, to get this variable you can do `env.unwrapped.height` for environment variables or `env.get_wrapper_attr('height')` that will search the reminding wrappers.\u001b[0m\n",
      "  logger.warn(\n",
      "/home/drinf/anaconda3/envs/decision-transformers/lib/python3.10/site-packages/gymnasium/core.py:311: UserWarning: \u001b[33mWARN: env.agent_view_size to get variables from other wrappers is deprecated and will be removed in v1.0, to get this variable you can do `env.unwrapped.agent_view_size` for environment variables or `env.get_wrapper_attr('agent_view_size')` that will search the reminding wrappers.\u001b[0m\n",
      "  logger.warn(\n"
     ]
    },
    {
     "name": "stdout",
     "output_type": "stream",
     "text": [
      "(16, 16, 3)\n",
      "(16, 16, 3)\n"
     ]
    },
    {
     "name": "stderr",
     "output_type": "stream",
     "text": [
      "100%|██████████| 1000/1000 [07:44<00:00,  2.15it/s]\n",
      "100%|██████████| 1000/1000 [09:55<00:00,  1.68it/s]"
     ]
    },
    {
     "name": "stdout",
     "output_type": "stream",
     "text": [
      "DQN score: 0.622\n",
      "DT score: 0.874\n"
     ]
    },
    {
     "name": "stderr",
     "output_type": "stream",
     "text": [
      "\n"
     ]
    }
   ],
   "source": [
    "# We are going to compare the performance of DQN and DT\n",
    "\n",
    "trials = 1000\n",
    "\n",
    "def evaluate_policy(env, actor, explorer=None, n_trials=10):\n",
    "\n",
    "    success = 0\n",
    "    for _ in tqdm(range(n_trials)):\n",
    "        \n",
    "        if (explorer is  None):\n",
    "            actor.reset()\n",
    "        obs,_ = env.reset()\n",
    "\n",
    "        done, truncated = False, False\n",
    "        while not (done or truncated):\n",
    "            if explorer is not None:\n",
    "                x = np.expand_dims(obs, axis=0)\n",
    "                action = explorer.sample(actor, x, 0)[0]\n",
    "            else:\n",
    "                action = actor.predict(obs, 1)\n",
    "            obs, reward, done, truncated, _ = env.step(action)\n",
    "            if done and reward > 0:\n",
    "                success += 1\n",
    "    return success / n_trials\n",
    "\n",
    "env_dqn = create_env(env_key, max_episode_steps=config[\"max_episode_steps\"], isPartialObs=False, isFullyObs=True)\n",
    "env_dt = create_env(env_key, max_episode_steps=config[\"max_episode_steps\"], isPartialObs=True, isFullyObs=False)\n",
    "\n",
    "dqn.build_with_env(env_dqn)\n",
    "dqn.load_model('./models/model_door-key-dqn-16x16.pt')\n",
    "\n",
    "#dt.build_with_env(env_dt)\n",
    "#dt.load_model('./models/model_door-key-dt-16x16-128-d3rlpy.pt')\n",
    "\n",
    "explorer_dqn = d3rlpy.algos.ConstantEpsilonGreedy(epsilon=config[\"epsilon\"])\n",
    "\n",
    "actor_dt = dt.as_stateful_wrapper(\n",
    "    target_return=1,\n",
    "    action_sampler=d3rlpy.algos.SoftmaxTransformerActionSampler(temperature=1.0,)\n",
    ")\n",
    "\n",
    "dqn_score = evaluate_policy(env_dqn, dqn, explorer=explorer_dqn, n_trials=trials)\n",
    "dt_score = evaluate_policy(env_dt, actor_dt, n_trials=trials)\n",
    "\n",
    "print(\"DQN score:\", dqn_score)\n",
    "print(\"DT score:\", dt_score)\n",
    "\n"
   ]
  },
  {
   "attachments": {},
   "cell_type": "markdown",
   "metadata": {},
   "source": [
    "We create a bar plot to compare the rewards of the DQN agent and the DT agent. It is apparent that the DT agent solves the environment more often than the DQN agent."
   ]
  },
  {
   "cell_type": "code",
   "execution_count": 138,
   "metadata": {},
   "outputs": [
    {
     "data": {
      "image/png": "[encoded data removed]",
      "text/plain": [
       "<Figure size 800x600 with 1 Axes>"
      ]
     },
     "metadata": {},
     "output_type": "display_data"
    }
   ],
   "source": [
    "# We will make a bar chart to compare the performance of DQN and DT\n",
    "\n",
    "import matplotlib.pyplot as plt\n",
    "\n",
    "labels = ['DQN', 'DT']\n",
    "scores = [dqn_score, dt_score]\n",
    "\n",
    "x = np.arange(len(labels))  # the label locations\n",
    "width = 0.35  # the width of the bars\n",
    "\n",
    "fig, ax = plt.subplots(figsize=(8, 6))\n",
    "rects1 = ax.bar(x - width/2, scores, width, label='Scores')\n",
    "\n",
    "# Add some text for labels, title and custom x-axis tick labels, etc.\n",
    "ax.set_ylabel('Scores')\n",
    "ax.set_title('Scores by DQN and DT')\n",
    "ax.set_xticks(x)\n",
    "ax.set_xticklabels(labels)\n",
    "ax.legend()\n",
    "\n",
    "fig.tight_layout()\n",
    "\n",
    "plt.show()\n",
    "\n"
   ]
  }
 ],
 "metadata": {
  "kernelspec": {
   "display_name": "decision-transformers",
   "language": "python",
   "name": "python3"
  },
  "language_info": {
   "codemirror_mode": {
    "name": "ipython",
    "version": 3
   },
   "file_extension": ".py",
   "mimetype": "text/x-python",
   "name": "python",
   "nbconvert_exporter": "python",
   "pygments_lexer": "ipython3",
   "version": "3.10.0"
  },
  "orig_nbformat": 4
 },
 "nbformat": 4,
 "nbformat_minor": 2
}
