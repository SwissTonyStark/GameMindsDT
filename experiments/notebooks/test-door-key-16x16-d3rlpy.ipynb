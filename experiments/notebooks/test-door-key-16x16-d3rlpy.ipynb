{
 "cells": [
  {
   "attachments": {},
   "cell_type": "markdown",
   "metadata": {},
   "source": [
    "# Test Door Key Offline Training with d3rlpy and Decision Transformer\n",
    "\n",
    "We will use the Door Key 16x16 environment from Minigrid Gym to test the Decision Transformer algorithm from d3rlpy."
   ]
  },
  {
   "cell_type": "code",
   "execution_count": 145,
   "metadata": {},
   "outputs": [
    {
     "name": "stdout",
     "output_type": "stream",
     "text": [
      "Not running on CoLab\n"
     ]
    }
   ],
   "source": [
    "# Test if we are running on CoLab or not\n",
    "if 'google.colab' in str(get_ipython()):\n",
    "  print('Running on CoLab')\n",
    "  !apt-get install -y xvfb ffmpeg > /dev/null 2>&1\n",
    "  %pip install pyvirtualdisplay pygame moviepy > /dev/null 2>&1\n",
    "  %pip install d3rlpy\n",
    "  %pip install matplotlib\n",
    "else:\n",
    "  print('Not running on CoLab')"
   ]
  },
  {
   "cell_type": "code",
   "execution_count": 146,
   "metadata": {},
   "outputs": [],
   "source": [
    "# Directory creation\n",
    "import os\n",
    "path = \"./models\"\n",
    "isExist = os.path.exists(path)\n",
    "if not isExist:\n",
    "  os.makedirs(path)\n",
    "\n",
    "path = \"./datasets\"\n",
    "isExist = os.path.exists(path)\n",
    "if not isExist:\n",
    "  os.makedirs(path)\n",
    "\n",
    "path = \"./videos/video-doorkey-dt-d3rlpy\"\n",
    "isExist = os.path.exists(path)\n",
    "if not isExist:\n",
    "  os.makedirs(path)"
   ]
  },
  {
   "cell_type": "code",
   "execution_count": 147,
   "metadata": {},
   "outputs": [
    {
     "name": "stderr",
     "output_type": "stream",
     "text": [
      "/home/drinf/anaconda3/envs/decision-transformers/lib/python3.10/site-packages/gymnasium/envs/registration.py:694: UserWarning: \u001b[33mWARN: Overriding environment MiniGrid-DoorKey-16x16-v0 already in registry.\u001b[0m\n",
      "  logger.warn(f\"Overriding environment {new_spec.id} already in registry.\")\n"
     ]
    }
   ],
   "source": [
    "import gymnasium as gym\n",
    "from gymnasium import spaces\n",
    "from minigrid.envs import DoorKeyEnv\n",
    "from gymnasium.core import ActType, ObsType\n",
    "from typing import Any, SupportsFloat\n",
    "import random, math\n",
    "import numpy as np\n",
    "\n",
    "from gymnasium.envs.registration import register\n",
    "\n",
    "register(\n",
    "    id=\"MiniGrid-DoorKey-16x16-v0\",\n",
    "    entry_point=\"minigrid.envs:DoorKeyEnv\",\n",
    "    kwargs={\"size\": 16},\n",
    ")\n",
    "    "
   ]
  },
  {
   "attachments": {},
   "cell_type": "markdown",
   "metadata": {},
   "source": [
    "We made a PartialObsWrapper to add to flattened partial observations the direction of the agent in only one vector. This is useful to train the Decision Transformer algorithm.\n",
    "\n",
    "We also made a PartialAndFullyObsWrapper to add to flattened partial observations the direction of the agent in only one vector and to add the full observation to the partial observation. This is useful to sample data from the environment with the trained DQN agent, and for save the data in a dataset."
   ]
  },
  {
   "cell_type": "code",
   "execution_count": 148,
   "metadata": {},
   "outputs": [],
   "source": [
    "import minigrid\n",
    "from minigrid.core.constants import COLOR_TO_IDX, OBJECT_TO_IDX\n",
    "from gymnasium.core import ObservationWrapper\n",
    "\n",
    "class PartialObsWrapper(ObservationWrapper):\n",
    "    def __init__(self, env):\n",
    "        super().__init__(env)\n",
    "\n",
    "        new_image_space = spaces.Box(\n",
    "            low=0,\n",
    "            high=255,\n",
    "            shape=(((self.env.agent_view_size * self.env.agent_view_size *  3) + 1),),  \n",
    "            dtype=\"uint8\",\n",
    "        )\n",
    "\n",
    "        self.observation_space = spaces.Dict(\n",
    "            {**self.observation_space.spaces, \"image\": new_image_space}\n",
    "        )\n",
    "\n",
    "    def observation(self, obs):\n",
    "        image = np.concatenate((obs[\"image\"].flatten(), np.array([obs[\"direction\"]])))\n",
    "\n",
    "        return {\"image\": image}\n",
    "\n",
    "class PartialAndFullyObsWrapper(ObservationWrapper):\n",
    "\n",
    "    def __init__(self, env):\n",
    "        super().__init__(env)\n",
    "\n",
    "        new_image_space = spaces.Box(\n",
    "            low=0,\n",
    "            high=255,\n",
    "            shape=(self.env.width, self.env.height, 3),  # number of cells\n",
    "            dtype=\"uint8\",\n",
    "        )\n",
    "\n",
    "        self.observation_space = spaces.Dict(\n",
    "            {**self.observation_space.spaces, \"image\": new_image_space}\n",
    "        )\n",
    "\n",
    "    def observation(self, obs):\n",
    "        env = self.unwrapped\n",
    "        full_grid = env.grid.encode()\n",
    "        full_grid[env.agent_pos[0]][env.agent_pos[1]] = np.array(\n",
    "            [OBJECT_TO_IDX[\"agent\"], COLOR_TO_IDX[\"red\"], env.agent_dir]\n",
    "        )\n",
    "\n",
    "        partial_image = np.concatenate((obs[\"image\"].flatten(), np.array([obs[\"direction\"]])))\n",
    "\n",
    "        return {\"partial_image\": partial_image, \"image\": full_grid}\n",
    "\n",
    "def create_env(env_key, max_episode_steps=100, isPartialObs=False, isFullyObs=True, is_video=False):\n",
    "    \n",
    "    render_mode = None\n",
    "\n",
    "    if is_video == True:\n",
    "        render_mode = 'rgb_array'\n",
    "\n",
    "    env = gym.make(env_key, max_episode_steps=max_episode_steps, render_mode=render_mode, see_through_walls=True)\n",
    "\n",
    "    if isPartialObs and isFullyObs:\n",
    "        env =  PartialAndFullyObsWrapper(env)\n",
    "    elif isPartialObs:\n",
    "        env = PartialObsWrapper(env)\n",
    "        env = minigrid.wrappers.ImgObsWrapper(env)\n",
    "    elif isFullyObs:\n",
    "        env = minigrid.wrappers.FullyObsWrapper(env)\n",
    "        env = minigrid.wrappers.ImgObsWrapper(env)\n",
    "\n",
    "    return env\n"
   ]
  },
  {
   "attachments": {},
   "cell_type": "markdown",
   "metadata": {},
   "source": [
    "We recover the agent DQN trained in the notebook train-door-key-16x16-dqn.ipynb. We use this agent to sample data from the environment and to save the data in a dataset. This is a way to use the trained agent to generate data for the Decision Transformer algorithm with expert data. This agent is also used to evaluate the performance of the Decision Transformer algorithm. The agent is good enough to solve the environment, but not perfect."
   ]
  },
  {
   "cell_type": "code",
   "execution_count": 149,
   "metadata": {},
   "outputs": [],
   "source": [
    "import d3rlpy\n",
    "import gymnasium as gym\n",
    "import torch\n",
    "import torch.nn as nn\n",
    "from d3rlpy.models.encoders import EncoderFactory\n",
    "\n",
    "class CustomConvEncoder(nn.Module):\n",
    "    def __init__(self, observation_shape):\n",
    "        super().__init__()\n",
    "        print(observation_shape)\n",
    "\n",
    "        self.conv1 = nn.Conv2d(3, 32, kernel_size=1, stride=1, padding=1)\n",
    "        self.conv2 = nn.Conv2d(32, 64, kernel_size=3, stride=2, padding=1)\n",
    "        self.conv2Dropout = nn.Dropout(0.25)\n",
    "        self.conv3 = nn.Conv2d(64, 128, kernel_size=3, stride=2, padding=1)\n",
    "        self.conv3Dropout = nn.Dropout(0.5)\n",
    "        self.conv4 = nn.Conv2d(128, 256, kernel_size=3, stride=2, padding=1)\n",
    "        self.conv4Dropout = nn.Dropout(0.5)\n",
    "        self.conv5 = nn.Conv2d(256, 512, kernel_size=3, stride=2, padding=1)\n",
    "        self.conv5Dropout = nn.Dropout(0.5)\n",
    "\n",
    "\n",
    "    def forward(self, x):\n",
    "        h = x.permute(0, 3, 1, 2)\n",
    "        h = torch.relu(self.conv1(h))\n",
    "        h = torch.relu(self.conv2Dropout(self.conv2(h)))\n",
    "        h = torch.relu(self.conv3Dropout(self.conv3(h)))\n",
    "        h = torch.relu(self.conv4Dropout(self.conv4(h)))\n",
    "        h = torch.relu(self.conv5Dropout(self.conv5(h)))\n",
    "\n",
    "        h = torch.flatten(h, start_dim=1)\n",
    "        #print(h.shape)\n",
    "\n",
    "        return h\n",
    "    \n",
    "class CustomConvEncoderFactory(EncoderFactory):\n",
    "\n",
    "    def create(self, observation_shape):\n",
    "        return CustomConvEncoder(observation_shape)\n",
    "\n",
    "    @staticmethod\n",
    "    def get_type() -> str:\n",
    "        return \"custom\"\n",
    "    \n"
   ]
  },
  {
   "cell_type": "code",
   "execution_count": 150,
   "metadata": {},
   "outputs": [
    {
     "name": "stdout",
     "output_type": "stream",
     "text": [
      "(16, 16, 3)\n",
      "(16, 16, 3)\n"
     ]
    },
    {
     "name": "stderr",
     "output_type": "stream",
     "text": [
      "/home/drinf/anaconda3/envs/decision-transformers/lib/python3.10/site-packages/gymnasium/core.py:311: UserWarning: \u001b[33mWARN: env.width to get variables from other wrappers is deprecated and will be removed in v1.0, to get this variable you can do `env.unwrapped.width` for environment variables or `env.get_wrapper_attr('width')` that will search the reminding wrappers.\u001b[0m\n",
      "  logger.warn(\n",
      "/home/drinf/anaconda3/envs/decision-transformers/lib/python3.10/site-packages/gymnasium/core.py:311: UserWarning: \u001b[33mWARN: env.height to get variables from other wrappers is deprecated and will be removed in v1.0, to get this variable you can do `env.unwrapped.height` for environment variables or `env.get_wrapper_attr('height')` that will search the reminding wrappers.\u001b[0m\n",
      "  logger.warn(\n"
     ]
    }
   ],
   "source": [
    "config = {\n",
    "    \"seed\": 1,\n",
    "    \"dataset_size\": 10000,\n",
    "    \"epsilon\": 0.3,\n",
    "    \"max_episode_steps\": 200,\n",
    "    \"experiment_name\": \"door-key-16x16\",\n",
    "    \"device\": \"cuda:0\"\n",
    "}\n",
    "\n",
    "env_key = \"MiniGrid-DoorKey-16x16-v0\"\n",
    "\n",
    "env = create_env(env_key, max_episode_steps=config[\"max_episode_steps\"])\n",
    "\n",
    "dqn = d3rlpy.algos.DQNConfig(\n",
    "    encoder_factory=CustomConvEncoderFactory(),\n",
    "    batch_size=100,\n",
    "    gamma=0.9,\n",
    "    target_update_interval=1000,\n",
    "    learning_rate=2.5e-4\n",
    ").create(device=config[\"device\"])\n",
    "\n",
    "dqn.build_with_env(env)\n",
    "\n",
    "dqn.load_model('./models/model_door-key-dqn-16x16.pt')\n"
   ]
  },
  {
   "attachments": {},
   "cell_type": "markdown",
   "metadata": {},
   "source": [
    "We create a CustomReplayBuffer to clip episodes with zero or negative rewards. We want to clip the episodes to only include the steps where the agent is making progress towards the goal."
   ]
  },
  {
   "cell_type": "code",
   "execution_count": 151,
   "metadata": {},
   "outputs": [],
   "source": [
    "import numpy as np\n",
    "from tqdm import tqdm\n",
    "\n",
    "\n",
    "class CustomReplayBuffer(d3rlpy.dataset.ReplayBuffer):\n",
    "    ' Custom Replay Buffer to clip episodes with negative rewards'\n",
    "    \n",
    "    def clip_episode(self, terminated: bool) -> None:\n",
    "        r\"\"\"Clips the current episode.\n",
    "\n",
    "        Args:\n",
    "            terminated: Flag to represent environment termination.\n",
    "        \"\"\"\n",
    "\n",
    "        episode_to_remove = None\n",
    "        # Check if the episode's reward is 0 or negative\n",
    "        if not terminated and self._writer._active_episode.rewards.mean() <= 0:\n",
    "            episode_to_remove = self._writer._active_episode\n",
    "            \n",
    "        self._writer.clip_episode(terminated)\n",
    "\n",
    "        if episode_to_remove is not None:\n",
    "            # Remove all transitions associated with the episode to remove\n",
    "            self._buffer._transitions = [(ep, idx) for ep, idx in self._buffer._transitions if ep is not episode_to_remove]\n",
    "            self._buffer.episodes.remove(episode_to_remove)  \n",
    "\n"
   ]
  },
  {
   "attachments": {},
   "cell_type": "markdown",
   "metadata": {},
   "source": [
    "We fill the buffer dataset with the data sampled from the environment with the trained agent DQN. We use the PartialAndFullyObsWrapper to use the full observation for the DQN agent and to save the partial observation in the dataset. We make samples until we have the dataset filled with only positive rewards. To generate a mixed non-expert / exper data, we start adding more entropy to the actions sampled from the DQN agent and progressively decrease the entropy to generate expert data. It is an slow process, but it is the only way we found to generate expert data automatically."
   ]
  },
  {
   "cell_type": "code",
   "execution_count": 152,
   "metadata": {},
   "outputs": [
    {
     "name": "stdout",
     "output_type": "stream",
     "text": [
      "\u001b[2m2024-01-22 00:40.58\u001b[0m [\u001b[32m\u001b[1minfo     \u001b[0m] \u001b[1mSignatures have been automatically determined.\u001b[0m \u001b[36maction_signature\u001b[0m=\u001b[35mSignature(dtype=[dtype('int64')], shape=[()])\u001b[0m \u001b[36mobservation_signature\u001b[0m=\u001b[35mSignature(dtype=[dtype('uint8')], shape=[(148,)])\u001b[0m \u001b[36mreward_signature\u001b[0m=\u001b[35mSignature(dtype=[dtype('float32')], shape=[[1]])\u001b[0m\n",
      "\u001b[2m2024-01-22 00:40.58\u001b[0m [\u001b[32m\u001b[1minfo     \u001b[0m] \u001b[1mAction-space has been automatically determined.\u001b[0m \u001b[36maction_space\u001b[0m=\u001b[35m<ActionSpace.DISCRETE: 2>\u001b[0m\n",
      "\u001b[2m2024-01-22 00:40.58\u001b[0m [\u001b[32m\u001b[1minfo     \u001b[0m] \u001b[1mAction size has been automatically determined.\u001b[0m \u001b[36maction_size\u001b[0m=\u001b[35m7\u001b[0m\n"
     ]
    },
    {
     "name": "stderr",
     "output_type": "stream",
     "text": [
      "/home/drinf/anaconda3/envs/decision-transformers/lib/python3.10/site-packages/gymnasium/core.py:311: UserWarning: \u001b[33mWARN: env.agent_view_size to get variables from other wrappers is deprecated and will be removed in v1.0, to get this variable you can do `env.unwrapped.agent_view_size` for environment variables or `env.get_wrapper_attr('agent_view_size')` that will search the reminding wrappers.\u001b[0m\n",
      "  logger.warn(\n",
      "  1%|          | 82/10000 [00:35<1:18:22,  2.11it/s]"
     ]
    },
    {
     "ename": "KeyboardInterrupt",
     "evalue": "",
     "output_type": "error",
     "traceback": [
      "\u001b[0;31m---------------------------------------------------------------------------\u001b[0m",
      "\u001b[0;31mKeyboardInterrupt\u001b[0m                         Traceback (most recent call last)",
      "Cell \u001b[0;32mIn[152], line 36\u001b[0m\n\u001b[1;32m     33\u001b[0m \u001b[39mwhile\u001b[39;00m \u001b[39mTrue\u001b[39;00m:\n\u001b[1;32m     34\u001b[0m     x \u001b[39m=\u001b[39m np\u001b[39m.\u001b[39mexpand_dims(observation[\u001b[39m'\u001b[39m\u001b[39mimage\u001b[39m\u001b[39m'\u001b[39m], axis\u001b[39m=\u001b[39m\u001b[39m0\u001b[39m)\n\u001b[0;32m---> 36\u001b[0m     action \u001b[39m=\u001b[39m explorer\u001b[39m.\u001b[39;49msample(dqn, x, \u001b[39m0\u001b[39;49m)[\u001b[39m0\u001b[39m]\n\u001b[1;32m     38\u001b[0m     next_observation, reward, done, truncated, _ \u001b[39m=\u001b[39m env_sampler\u001b[39m.\u001b[39mstep(action)\n\u001b[1;32m     40\u001b[0m     clip_episode \u001b[39m=\u001b[39m done \u001b[39mor\u001b[39;00m truncated\n",
      "File \u001b[0;32m~/anaconda3/envs/decision-transformers/lib/python3.10/site-packages/d3rlpy/algos/qlearning/explorers.py:43\u001b[0m, in \u001b[0;36mConstantEpsilonGreedy.sample\u001b[0;34m(self, algo, x, step)\u001b[0m\n\u001b[1;32m     41\u001b[0m action_size \u001b[39m=\u001b[39m algo\u001b[39m.\u001b[39maction_size\n\u001b[1;32m     42\u001b[0m \u001b[39massert\u001b[39;00m action_size \u001b[39mis\u001b[39;00m \u001b[39mnot\u001b[39;00m \u001b[39mNone\u001b[39;00m\n\u001b[0;32m---> 43\u001b[0m greedy_actions \u001b[39m=\u001b[39m algo\u001b[39m.\u001b[39;49mpredict(x)\n\u001b[1;32m     44\u001b[0m batch_size \u001b[39m=\u001b[39m greedy_actions\u001b[39m.\u001b[39mshape[\u001b[39m0\u001b[39m]\n\u001b[1;32m     45\u001b[0m random_actions \u001b[39m=\u001b[39m np\u001b[39m.\u001b[39mrandom\u001b[39m.\u001b[39mrandint(action_size, size\u001b[39m=\u001b[39mbatch_size)\n",
      "File \u001b[0;32m~/anaconda3/envs/decision-transformers/lib/python3.10/site-packages/d3rlpy/algos/qlearning/base.py:268\u001b[0m, in \u001b[0;36mQLearningAlgoBase.predict\u001b[0;34m(self, x)\u001b[0m\n\u001b[1;32m    264\u001b[0m \u001b[39massert\u001b[39;00m check_non_1d_array(x), \u001b[39m\"\u001b[39m\u001b[39mInput must have batch dimension.\u001b[39m\u001b[39m\"\u001b[39m\n\u001b[1;32m    266\u001b[0m \u001b[39m# TODO: support tuple inputs\u001b[39;00m\n\u001b[1;32m    267\u001b[0m torch_x \u001b[39m=\u001b[39m cast(\n\u001b[0;32m--> 268\u001b[0m     torch\u001b[39m.\u001b[39mTensor, convert_to_torch_recursively(x, \u001b[39mself\u001b[39;49m\u001b[39m.\u001b[39;49m_device)\n\u001b[1;32m    269\u001b[0m )\n\u001b[1;32m    271\u001b[0m \u001b[39mwith\u001b[39;00m torch\u001b[39m.\u001b[39mno_grad():\n\u001b[1;32m    272\u001b[0m     \u001b[39mif\u001b[39;00m \u001b[39mself\u001b[39m\u001b[39m.\u001b[39m_config\u001b[39m.\u001b[39mobservation_scaler:\n",
      "File \u001b[0;32m~/anaconda3/envs/decision-transformers/lib/python3.10/site-packages/d3rlpy/torch_utility.py:101\u001b[0m, in \u001b[0;36mconvert_to_torch_recursively\u001b[0;34m(array, device)\u001b[0m\n\u001b[1;32m     99\u001b[0m     \u001b[39mreturn\u001b[39;00m [convert_to_torch(data, device) \u001b[39mfor\u001b[39;00m data \u001b[39min\u001b[39;00m array]\n\u001b[1;32m    100\u001b[0m \u001b[39melif\u001b[39;00m \u001b[39misinstance\u001b[39m(array, np\u001b[39m.\u001b[39mndarray):\n\u001b[0;32m--> 101\u001b[0m     \u001b[39mreturn\u001b[39;00m convert_to_torch(array, device)\n\u001b[1;32m    102\u001b[0m \u001b[39melse\u001b[39;00m:\n\u001b[1;32m    103\u001b[0m     \u001b[39mraise\u001b[39;00m \u001b[39mValueError\u001b[39;00m(\u001b[39mf\u001b[39m\u001b[39m\"\u001b[39m\u001b[39minvalid array type: \u001b[39m\u001b[39m{\u001b[39;00m\u001b[39mtype\u001b[39m(array)\u001b[39m}\u001b[39;00m\u001b[39m\"\u001b[39m)\n",
      "\u001b[0;31mKeyboardInterrupt\u001b[0m: "
     ]
    }
   ],
   "source": [
    "env_data = create_env(env_key, max_episode_steps=config[\"max_episode_steps\"], isPartialObs=True, isFullyObs=False)\n",
    "env_sampler = create_env(env_key, max_episode_steps=config[\"max_episode_steps\"], isPartialObs=True, isFullyObs=True)\n",
    "\n",
    "buffer = d3rlpy.dataset.InfiniteBuffer()\n",
    "dataset = CustomReplayBuffer(buffer, env=env_data, cache_size=config[\"max_episode_steps\"])\n",
    "\n",
    "seed = 1\n",
    "\n",
    "done = False\n",
    "\n",
    "observation, _ = env_sampler.reset()\n",
    "\n",
    "num_steps = 0\n",
    "count_done = 0\n",
    "count_truncated = 0\n",
    "\n",
    "epsilon = 0.5\n",
    "epsilon_min = 0.1\n",
    "epsilon_decrement = (epsilon - epsilon_min) / 10  \n",
    "\n",
    "\n",
    "pbar = tqdm(total=config[\"dataset_size\"])\n",
    "\n",
    "while dataset.size() < config[\"dataset_size\"]:\n",
    "\n",
    "    pbar.update(dataset.size() - pbar.n) \n",
    "\n",
    "    if dataset.size() >= (config[\"dataset_size\"] * (1 - (epsilon - epsilon_min) / (epsilon - epsilon_decrement))):\n",
    "        epsilon = max(epsilon - epsilon_decrement, epsilon_min)\n",
    "\n",
    "    explorer = d3rlpy.algos.ConstantEpsilonGreedy(epsilon=epsilon)\n",
    "\n",
    "    while True:\n",
    "        x = np.expand_dims(observation['image'], axis=0)\n",
    "\n",
    "        action = explorer.sample(dqn, x, 0)[0]\n",
    "\n",
    "        next_observation, reward, done, truncated, _ = env_sampler.step(action)\n",
    "\n",
    "        clip_episode = done or truncated\n",
    "\n",
    "        # store observation\n",
    "        dataset.append(observation['partial_image'], action, float(reward))\n",
    "\n",
    "        # reset if terminated\n",
    "        if clip_episode:\n",
    "            dataset.clip_episode(done)\n",
    "            observation, _ = env_sampler.reset()\n",
    "            if done:\n",
    "                count_done += 1\n",
    "            if truncated:\n",
    "                count_truncated += 1\n",
    "            break\n",
    "        else:\n",
    "            observation = next_observation\n",
    "\n",
    "pbar.close()\n",
    "env.close()\n",
    "\n",
    "print(\"Dataset size: \", dataset.size())\n",
    "print(\"Truncated: \", count_truncated)\n",
    "\n",
    "dataset.dump('./datasets/dataset_door-key-dqn-16x16-mixed.d3')\n"
   ]
  },
  {
   "attachments": {},
   "cell_type": "markdown",
   "metadata": {},
   "source": [
    "We train the DiscreteDecisionTransformer agent with the sampled data from the environment. We use the PartialObsWrapper to add the direction of the agent to the partial observation."
   ]
  },
  {
   "cell_type": "code",
   "execution_count": null,
   "metadata": {},
   "outputs": [
    {
     "name": "stdout",
     "output_type": "stream",
     "text": [
      "\u001b[2m2024-01-21 23:07.47\u001b[0m [\u001b[32m\u001b[1minfo     \u001b[0m] \u001b[1mSignatures have been automatically determined.\u001b[0m \u001b[36maction_signature\u001b[0m=\u001b[35mSignature(dtype=[dtype('int64')], shape=[()])\u001b[0m \u001b[36mobservation_signature\u001b[0m=\u001b[35mSignature(dtype=[dtype('uint8')], shape=[(148,)])\u001b[0m \u001b[36mreward_signature\u001b[0m=\u001b[35mSignature(dtype=[dtype('float32')], shape=[[1]])\u001b[0m\n",
      "\u001b[2m2024-01-21 23:07.47\u001b[0m [\u001b[32m\u001b[1minfo     \u001b[0m] \u001b[1mAction-space has been automatically determined.\u001b[0m \u001b[36maction_space\u001b[0m=\u001b[35m<ActionSpace.DISCRETE: 2>\u001b[0m\n",
      "\u001b[2m2024-01-21 23:07.47\u001b[0m [\u001b[32m\u001b[1minfo     \u001b[0m] \u001b[1mAction size has been automatically determined.\u001b[0m \u001b[36maction_size\u001b[0m=\u001b[35m7\u001b[0m\n",
      "\u001b[2m2024-01-21 23:07.54\u001b[0m [\u001b[32m\u001b[1minfo     \u001b[0m] \u001b[1mSignatures have been automatically determined.\u001b[0m \u001b[36maction_signature\u001b[0m=\u001b[35mSignature(dtype=[dtype('int64')], shape=[(1,)])\u001b[0m \u001b[36mobservation_signature\u001b[0m=\u001b[35mSignature(dtype=[dtype('uint8')], shape=[(148,)])\u001b[0m \u001b[36mreward_signature\u001b[0m=\u001b[35mSignature(dtype=[dtype('float32')], shape=[(1,)])\u001b[0m\n",
      "\u001b[2m2024-01-21 23:07.54\u001b[0m [\u001b[32m\u001b[1minfo     \u001b[0m] \u001b[1mAction-space has been automatically determined.\u001b[0m \u001b[36maction_space\u001b[0m=\u001b[35m<ActionSpace.DISCRETE: 2>\u001b[0m\n",
      "\u001b[2m2024-01-21 23:07.54\u001b[0m [\u001b[32m\u001b[1minfo     \u001b[0m] \u001b[1mAction size has been automatically determined.\u001b[0m \u001b[36maction_size\u001b[0m=\u001b[35m7\u001b[0m\n",
      "\u001b[2m2024-01-21 23:07.54\u001b[0m [\u001b[32m\u001b[1minfo     \u001b[0m] \u001b[1mdataset info                  \u001b[0m \u001b[36mdataset_info\u001b[0m=\u001b[35mDatasetInfo(observation_signature=Signature(dtype=[dtype('uint8')], shape=[(148,)]), action_signature=Signature(dtype=[dtype('int64')], shape=[()]), reward_signature=Signature(dtype=[dtype('float32')], shape=[[1]]), action_space=<ActionSpace.DISCRETE: 2>, action_size=7)\u001b[0m\n",
      "\u001b[2m2024-01-21 23:07.54\u001b[0m [\u001b[32m\u001b[1minfo     \u001b[0m] \u001b[1mDirectory is created at d3rlpy_logs/DT_door-key-16x16_1_20240121230754\u001b[0m\n",
      "\u001b[2m2024-01-21 23:07.54\u001b[0m [\u001b[32m\u001b[1mdebug    \u001b[0m] \u001b[1mBuilding models...            \u001b[0m\n",
      "\u001b[2m2024-01-21 23:07.55\u001b[0m [\u001b[32m\u001b[1mdebug    \u001b[0m] \u001b[1mModels have been built.       \u001b[0m\n",
      "\u001b[2m2024-01-21 23:07.55\u001b[0m [\u001b[32m\u001b[1minfo     \u001b[0m] \u001b[1mParameters                    \u001b[0m \u001b[36mparams\u001b[0m=\u001b[35m{'observation_shape': [148], 'action_size': 7, 'config': {'type': 'discrete_decision_transformer', 'params': {'batch_size': 64, 'gamma': 0.99, 'observation_scaler': {'type': 'none', 'params': {}}, 'action_scaler': {'type': 'none', 'params': {}}, 'reward_scaler': {'type': 'none', 'params': {}}, 'context_size': 50, 'max_timestep': 200, 'learning_rate': 0.0001, 'encoder_factory': {'type': 'vector', 'params': {'hidden_units': [128], 'activation': 'relu', 'use_batch_norm': False, 'dropout_rate': None, 'exclude_last_activation': True}}, 'optim_factory': {'type': 'adam_w', 'params': {'betas': [0.9, 0.999], 'eps': 1e-08, 'weight_decay': 0.0001, 'amsgrad': False}}, 'num_heads': 4, 'num_layers': 3, 'attn_dropout': 0.1, 'resid_dropout': 0.1, 'embed_dropout': 0.1, 'activation_type': 'gelu', 'embed_activation_type': 'tanh', 'position_encoding_type': <PositionEncodingType.GLOBAL: 'global'>, 'warmup_tokens': 10240, 'final_tokens': 30000000, 'clip_grad_norm': 1.0, 'compile': False}}}\u001b[0m\n"
     ]
    },
    {
     "data": {
      "application/vnd.jupyter.widget-view+json": {
       "model_id": "5138eec91f444993ad2803afbd5edc99",
       "version_major": 2,
       "version_minor": 0
      },
      "text/plain": [
       "Epoch 1/10:   0%|          | 0/2000 [00:00<?, ?it/s]"
      ]
     },
     "metadata": {},
     "output_type": "display_data"
    },
    {
     "name": "stdout",
     "output_type": "stream",
     "text": [
      "\u001b[2m2024-01-21 23:09.17\u001b[0m [\u001b[32m\u001b[1minfo     \u001b[0m] \u001b[1mDT_door-key-16x16_1_20240121230754: epoch=1 step=2000\u001b[0m \u001b[36mepoch\u001b[0m=\u001b[35m1\u001b[0m \u001b[36mmetrics\u001b[0m=\u001b[35m{'time_sample_batch': 0.006913616299629211, 'time_algorithm_update': 0.03026457130908966, 'loss': 0.848791387706995, 'learning_rate': 9.818605497212029e-05, 'time_step': 0.0373171226978302, 'environment': 0.28428515625}\u001b[0m \u001b[36mstep\u001b[0m=\u001b[35m2000\u001b[0m\n",
      "\u001b[2m2024-01-21 23:09.17\u001b[0m [\u001b[32m\u001b[1minfo     \u001b[0m] \u001b[1mModel parameters are saved to d3rlpy_logs/DT_door-key-16x16_1_20240121230754/model_2000.d3\u001b[0m\n"
     ]
    },
    {
     "data": {
      "application/vnd.jupyter.widget-view+json": {
       "model_id": "b7369ff8ebbc47938dd7e068db0783a8",
       "version_major": 2,
       "version_minor": 0
      },
      "text/plain": [
       "Epoch 2/10:   0%|          | 0/2000 [00:00<?, ?it/s]"
      ]
     },
     "metadata": {},
     "output_type": "display_data"
    },
    {
     "name": "stdout",
     "output_type": "stream",
     "text": [
      "\u001b[2m2024-01-21 23:10.36\u001b[0m [\u001b[32m\u001b[1minfo     \u001b[0m] \u001b[1mDT_door-key-16x16_1_20240121230754: epoch=2 step=4000\u001b[0m \u001b[36mepoch\u001b[0m=\u001b[35m2\u001b[0m \u001b[36mmetrics\u001b[0m=\u001b[35m{'time_sample_batch': 0.006858097910881042, 'time_algorithm_update': 0.028980084180831908, 'loss': 0.7375048235058784, 'learning_rate': 8.835054443637522e-05, 'time_step': 0.03596951162815094, 'environment': 0.67387890625}\u001b[0m \u001b[36mstep\u001b[0m=\u001b[35m4000\u001b[0m\n",
      "\u001b[2m2024-01-21 23:10.36\u001b[0m [\u001b[32m\u001b[1minfo     \u001b[0m] \u001b[1mModel parameters are saved to d3rlpy_logs/DT_door-key-16x16_1_20240121230754/model_4000.d3\u001b[0m\n"
     ]
    },
    {
     "data": {
      "application/vnd.jupyter.widget-view+json": {
       "model_id": "77c9d5e8240948a4afd1a07d4bfc2efd",
       "version_major": 2,
       "version_minor": 0
      },
      "text/plain": [
       "Epoch 3/10:   0%|          | 0/2000 [00:00<?, ?it/s]"
      ]
     },
     "metadata": {},
     "output_type": "display_data"
    },
    {
     "name": "stdout",
     "output_type": "stream",
     "text": [
      "\u001b[2m2024-01-21 23:11.54\u001b[0m [\u001b[32m\u001b[1minfo     \u001b[0m] \u001b[1mDT_door-key-16x16_1_20240121230754: epoch=3 step=6000\u001b[0m \u001b[36mepoch\u001b[0m=\u001b[35m3\u001b[0m \u001b[36mmetrics\u001b[0m=\u001b[35m{'time_sample_batch': 0.006928563475608825, 'time_algorithm_update': 0.0291766277551651, 'loss': 0.7194353715181351, 'learning_rate': 7.04769782418929e-05, 'time_step': 0.03624347460269928, 'environment': 0.6786953124999999}\u001b[0m \u001b[36mstep\u001b[0m=\u001b[35m6000\u001b[0m\n",
      "\u001b[2m2024-01-21 23:11.54\u001b[0m [\u001b[32m\u001b[1minfo     \u001b[0m] \u001b[1mModel parameters are saved to d3rlpy_logs/DT_door-key-16x16_1_20240121230754/model_6000.d3\u001b[0m\n"
     ]
    },
    {
     "data": {
      "application/vnd.jupyter.widget-view+json": {
       "model_id": "fa8f5323a7d14769bcd2ef371286e4c2",
       "version_major": 2,
       "version_minor": 0
      },
      "text/plain": [
       "Epoch 4/10:   0%|          | 0/2000 [00:00<?, ?it/s]"
      ]
     },
     "metadata": {},
     "output_type": "display_data"
    },
    {
     "name": "stdout",
     "output_type": "stream",
     "text": [
      "\u001b[2m2024-01-21 23:13.12\u001b[0m [\u001b[32m\u001b[1minfo     \u001b[0m] \u001b[1mDT_door-key-16x16_1_20240121230754: epoch=4 step=8000\u001b[0m \u001b[36mepoch\u001b[0m=\u001b[35m4\u001b[0m \u001b[36mmetrics\u001b[0m=\u001b[35m{'time_sample_batch': 0.007049693107604981, 'time_algorithm_update': 0.029266536712646483, 'loss': 0.7109014772176743, 'learning_rate': 4.8330853337870506e-05, 'time_step': 0.03645717906951904, 'environment': 0.782703125}\u001b[0m \u001b[36mstep\u001b[0m=\u001b[35m8000\u001b[0m\n",
      "\u001b[2m2024-01-21 23:13.12\u001b[0m [\u001b[32m\u001b[1minfo     \u001b[0m] \u001b[1mModel parameters are saved to d3rlpy_logs/DT_door-key-16x16_1_20240121230754/model_8000.d3\u001b[0m\n"
     ]
    },
    {
     "data": {
      "application/vnd.jupyter.widget-view+json": {
       "model_id": "115483525da74b249fb2bea33cc588bb",
       "version_major": 2,
       "version_minor": 0
      },
      "text/plain": [
       "Epoch 5/10:   0%|          | 0/2000 [00:00<?, ?it/s]"
      ]
     },
     "metadata": {},
     "output_type": "display_data"
    },
    {
     "name": "stdout",
     "output_type": "stream",
     "text": [
      "\u001b[2m2024-01-21 23:14.31\u001b[0m [\u001b[32m\u001b[1minfo     \u001b[0m] \u001b[1mDT_door-key-16x16_1_20240121230754: epoch=5 step=10000\u001b[0m \u001b[36mepoch\u001b[0m=\u001b[35m5\u001b[0m \u001b[36mmetrics\u001b[0m=\u001b[35m{'time_sample_batch': 0.006913050174713135, 'time_algorithm_update': 0.029357316613197328, 'loss': 0.7032193146944046, 'learning_rate': 2.6572727688173935e-05, 'time_step': 0.036407352209091186, 'environment': 0.49040234375}\u001b[0m \u001b[36mstep\u001b[0m=\u001b[35m10000\u001b[0m\n",
      "\u001b[2m2024-01-21 23:14.31\u001b[0m [\u001b[32m\u001b[1minfo     \u001b[0m] \u001b[1mModel parameters are saved to d3rlpy_logs/DT_door-key-16x16_1_20240121230754/model_10000.d3\u001b[0m\n"
     ]
    },
    {
     "data": {
      "application/vnd.jupyter.widget-view+json": {
       "model_id": "4fb2571efaba451f869f92561bdfeaa6",
       "version_major": 2,
       "version_minor": 0
      },
      "text/plain": [
       "Epoch 6/10:   0%|          | 0/2000 [00:00<?, ?it/s]"
      ]
     },
     "metadata": {},
     "output_type": "display_data"
    },
    {
     "name": "stdout",
     "output_type": "stream",
     "text": [
      "\u001b[2m2024-01-21 23:15.50\u001b[0m [\u001b[32m\u001b[1minfo     \u001b[0m] \u001b[1mDT_door-key-16x16_1_20240121230754: epoch=6 step=12000\u001b[0m \u001b[36mepoch\u001b[0m=\u001b[35m6\u001b[0m \u001b[36mmetrics\u001b[0m=\u001b[35m{'time_sample_batch': 0.006854774832725525, 'time_algorithm_update': 0.029251161575317382, 'loss': 0.700837476849556, 'learning_rate': 1.1513394412753156e-05, 'time_step': 0.03623122715950012, 'environment': 0.5836171875}\u001b[0m \u001b[36mstep\u001b[0m=\u001b[35m12000\u001b[0m\n",
      "\u001b[2m2024-01-21 23:15.50\u001b[0m [\u001b[32m\u001b[1minfo     \u001b[0m] \u001b[1mModel parameters are saved to d3rlpy_logs/DT_door-key-16x16_1_20240121230754/model_12000.d3\u001b[0m\n"
     ]
    },
    {
     "data": {
      "application/vnd.jupyter.widget-view+json": {
       "model_id": "521942d257694b3a8718e8dc5e8fdef2",
       "version_major": 2,
       "version_minor": 0
      },
      "text/plain": [
       "Epoch 7/10:   0%|          | 0/2000 [00:00<?, ?it/s]"
      ]
     },
     "metadata": {},
     "output_type": "display_data"
    },
    {
     "name": "stdout",
     "output_type": "stream",
     "text": [
      "\u001b[2m2024-01-21 23:17.10\u001b[0m [\u001b[32m\u001b[1minfo     \u001b[0m] \u001b[1mDT_door-key-16x16_1_20240121230754: epoch=7 step=14000\u001b[0m \u001b[36mepoch\u001b[0m=\u001b[35m7\u001b[0m \u001b[36mmetrics\u001b[0m=\u001b[35m{'time_sample_batch': 0.006803167223930359, 'time_algorithm_update': 0.029262224793434145, 'loss': 0.7001724973171949, 'learning_rate': 9.999999999999677e-06, 'time_step': 0.03618792617321014, 'environment': 0.57289453125}\u001b[0m \u001b[36mstep\u001b[0m=\u001b[35m14000\u001b[0m\n",
      "\u001b[2m2024-01-21 23:17.10\u001b[0m [\u001b[32m\u001b[1minfo     \u001b[0m] \u001b[1mModel parameters are saved to d3rlpy_logs/DT_door-key-16x16_1_20240121230754/model_14000.d3\u001b[0m\n"
     ]
    },
    {
     "data": {
      "application/vnd.jupyter.widget-view+json": {
       "model_id": "f351b6e6c5014c4eabf0ad4b400503ca",
       "version_major": 2,
       "version_minor": 0
      },
      "text/plain": [
       "Epoch 8/10:   0%|          | 0/2000 [00:00<?, ?it/s]"
      ]
     },
     "metadata": {},
     "output_type": "display_data"
    },
    {
     "name": "stdout",
     "output_type": "stream",
     "text": [
      "\u001b[2m2024-01-21 23:18.29\u001b[0m [\u001b[32m\u001b[1minfo     \u001b[0m] \u001b[1mDT_door-key-16x16_1_20240121230754: epoch=8 step=16000\u001b[0m \u001b[36mepoch\u001b[0m=\u001b[35m8\u001b[0m \u001b[36mmetrics\u001b[0m=\u001b[35m{'time_sample_batch': 0.0068625063896179195, 'time_algorithm_update': 0.02899527406692505, 'loss': 0.700576818048954, 'learning_rate': 9.999999999999677e-06, 'time_step': 0.03597722971439361, 'environment': 0.38885546875}\u001b[0m \u001b[36mstep\u001b[0m=\u001b[35m16000\u001b[0m\n",
      "\u001b[2m2024-01-21 23:18.29\u001b[0m [\u001b[32m\u001b[1minfo     \u001b[0m] \u001b[1mModel parameters are saved to d3rlpy_logs/DT_door-key-16x16_1_20240121230754/model_16000.d3\u001b[0m\n"
     ]
    },
    {
     "data": {
      "application/vnd.jupyter.widget-view+json": {
       "model_id": "67368568b4ae47edae75bb85f80b2118",
       "version_major": 2,
       "version_minor": 0
      },
      "text/plain": [
       "Epoch 9/10:   0%|          | 0/2000 [00:00<?, ?it/s]"
      ]
     },
     "metadata": {},
     "output_type": "display_data"
    },
    {
     "name": "stdout",
     "output_type": "stream",
     "text": [
      "\u001b[2m2024-01-21 23:19.45\u001b[0m [\u001b[32m\u001b[1minfo     \u001b[0m] \u001b[1mDT_door-key-16x16_1_20240121230754: epoch=9 step=18000\u001b[0m \u001b[36mepoch\u001b[0m=\u001b[35m9\u001b[0m \u001b[36mmetrics\u001b[0m=\u001b[35m{'time_sample_batch': 0.006600202441215515, 'time_algorithm_update': 0.028705960631370545, 'loss': 0.7002915351688862, 'learning_rate': 1.4394318749096963e-05, 'time_step': 0.03543077301979065, 'environment': 0.87271875}\u001b[0m \u001b[36mstep\u001b[0m=\u001b[35m18000\u001b[0m\n",
      "\u001b[2m2024-01-21 23:19.45\u001b[0m [\u001b[32m\u001b[1minfo     \u001b[0m] \u001b[1mModel parameters are saved to d3rlpy_logs/DT_door-key-16x16_1_20240121230754/model_18000.d3\u001b[0m\n"
     ]
    },
    {
     "data": {
      "application/vnd.jupyter.widget-view+json": {
       "model_id": "7faf5e78962a4d1799959e206e431b24",
       "version_major": 2,
       "version_minor": 0
      },
      "text/plain": [
       "Epoch 10/10:   0%|          | 0/2000 [00:00<?, ?it/s]"
      ]
     },
     "metadata": {},
     "output_type": "display_data"
    },
    {
     "name": "stdout",
     "output_type": "stream",
     "text": [
      "\u001b[2m2024-01-21 23:21.02\u001b[0m [\u001b[32m\u001b[1minfo     \u001b[0m] \u001b[1mDT_door-key-16x16_1_20240121230754: epoch=10 step=20000\u001b[0m \u001b[36mepoch\u001b[0m=\u001b[35m10\u001b[0m \u001b[36mmetrics\u001b[0m=\u001b[35m{'time_sample_batch': 0.006708921909332276, 'time_algorithm_update': 0.0285303715467453, 'loss': 0.7014753077924252, 'learning_rate': 3.2780393187148524e-05, 'time_step': 0.035367817401885986, 'environment': 0.7673398437500001}\u001b[0m \u001b[36mstep\u001b[0m=\u001b[35m20000\u001b[0m\n",
      "\u001b[2m2024-01-21 23:21.02\u001b[0m [\u001b[32m\u001b[1minfo     \u001b[0m] \u001b[1mModel parameters are saved to d3rlpy_logs/DT_door-key-16x16_1_20240121230754/model_20000.d3\u001b[0m\n"
     ]
    }
   ],
   "source": [
    "env_dt = create_env(env_key, max_episode_steps=config[\"max_episode_steps\"], isPartialObs=True, isFullyObs=False)\n",
    "env_dt_eval = create_env(env_key, max_episode_steps=config[\"max_episode_steps\"], isPartialObs=True, isFullyObs=False)\n",
    "\n",
    "buffer = d3rlpy.dataset.InfiniteBuffer()\n",
    "dataset = CustomReplayBuffer(buffer, env=env_dt, cache_size=config[\"max_episode_steps\"])\n",
    "\n",
    "dataset.load('./datasets/dataset_door-key-dqn-16x16-mixed.d3', buffer=buffer)\n",
    "\n",
    "\n",
    "target_return = 1\n",
    "experiment_name = config[\"experiment_name\"]\n",
    "experiment_seed = config[\"seed\"]\n",
    "\n",
    "dt = d3rlpy.algos.DiscreteDecisionTransformerConfig(\n",
    "    batch_size=64,\n",
    "    learning_rate=1e-4,\n",
    "    optim_factory=d3rlpy.models.AdamWFactory(weight_decay=1e-4),\n",
    "    encoder_factory=d3rlpy.models.VectorEncoderFactory(\n",
    "        [128],\n",
    "        exclude_last_activation=True,\n",
    "    ),\n",
    "    #observation_scaler=d3rlpy.preprocessing.StandardObservationScaler(),\n",
    "    #reward_scaler=d3rlpy.preprocessing.MultiplyRewardScaler(0.001),\n",
    "    position_encoding_type=d3rlpy.PositionEncodingType.GLOBAL,\n",
    "    context_size=50,\n",
    "    num_heads=4,\n",
    "    num_layers=3,\n",
    "    max_timestep=200,\n",
    ").create(device=config[\"device\"])\n",
    "\n",
    "\n",
    "dt.fit(                                                                                                                                                                                                                                                                                                                                                                                                                                                             \n",
    "    dataset,\n",
    "    n_steps=20000,\n",
    "    n_steps_per_epoch=2000,\n",
    "    eval_env=env_dt_eval,\n",
    "    eval_target_return=1,\n",
    "    eval_action_sampler=d3rlpy.algos.SoftmaxTransformerActionSampler(\n",
    "        temperature=1.0,\n",
    "    ),\n",
    "    experiment_name=f\"DT_{experiment_name}_{experiment_seed}\"\n",
    ")\n"
   ]
  },
  {
   "attachments": {},
   "cell_type": "markdown",
   "metadata": {},
   "source": [
    "We make a video of the trained agent."
   ]
  },
  {
   "cell_type": "code",
   "execution_count": null,
   "metadata": {},
   "outputs": [
    {
     "name": "stderr",
     "output_type": "stream",
     "text": [
      "/home/drinf/anaconda3/envs/decision-transformers/lib/python3.10/site-packages/gymnasium/core.py:311: UserWarning: \u001b[33mWARN: env.agent_view_size to get variables from other wrappers is deprecated and will be removed in v1.0, to get this variable you can do `env.unwrapped.agent_view_size` for environment variables or `env.get_wrapper_attr('agent_view_size')` that will search the reminding wrappers.\u001b[0m\n",
      "  logger.warn(\n",
      "/home/drinf/anaconda3/envs/decision-transformers/lib/python3.10/site-packages/gym/wrappers/record_video.py:75: UserWarning: \u001b[33mWARN: Overwriting existing videos at /home/drinf/Desktop/PROJECTS/machine_learning/fib_postgraduate/GameMindsDT/experiments/notebooks/videos/video-doorkey-dt-d3rlpy folder (try specifying a different `video_folder` for the `RecordVideo` wrapper if this is not desired)\u001b[0m\n",
      "  logger.warn(\n",
      "/home/drinf/anaconda3/envs/decision-transformers/lib/python3.10/site-packages/gymnasium/core.py:311: UserWarning: \u001b[33mWARN: env.is_vector_env to get variables from other wrappers is deprecated and will be removed in v1.0, to get this variable you can do `env.unwrapped.is_vector_env` for environment variables or `env.get_wrapper_attr('is_vector_env')` that will search the reminding wrappers.\u001b[0m\n",
      "  logger.warn(\n"
     ]
    },
    {
     "name": "stdout",
     "output_type": "stream",
     "text": [
      "Moviepy - Building video /home/drinf/Desktop/PROJECTS/machine_learning/fib_postgraduate/GameMindsDT/experiments/notebooks/videos/video-doorkey-dt-d3rlpy/rl-video-episode-0.mp4.\n",
      "Moviepy - Writing video /home/drinf/Desktop/PROJECTS/machine_learning/fib_postgraduate/GameMindsDT/experiments/notebooks/videos/video-doorkey-dt-d3rlpy/rl-video-episode-0.mp4\n",
      "\n"
     ]
    },
    {
     "name": "stderr",
     "output_type": "stream",
     "text": [
      "                                                              "
     ]
    },
    {
     "name": "stdout",
     "output_type": "stream",
     "text": [
      "Moviepy - Done !\n",
      "Moviepy - video ready /home/drinf/Desktop/PROJECTS/machine_learning/fib_postgraduate/GameMindsDT/experiments/notebooks/videos/video-doorkey-dt-d3rlpy/rl-video-episode-0.mp4\n",
      "reward: 0.9644921875\n",
      "DONE!!!\n"
     ]
    },
    {
     "name": "stderr",
     "output_type": "stream",
     "text": [
      "\r"
     ]
    },
    {
     "data": {
      "text/html": [
       "\n",
       "                <video alt=\"test\" autoplay loop controls style=\"height: 400px;\">\n",
       "                    <source src=\"data:video/mp4;base64,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\" type=\"video/mp4\" />\n",
       "                </video>\n",
       "            "
      ],
      "text/plain": [
       "<IPython.core.display.HTML object>"
      ]
     },
     "metadata": {},
     "output_type": "display_data"
    }
   ],
   "source": [
    "import gymnasium as gym\n",
    "\n",
    "import numpy as np\n",
    "from gym.wrappers import RecordVideo\n",
    "\n",
    "\n",
    "# start virtual display\n",
    "d3rlpy.notebook_utils.start_virtual_display()\n",
    "\n",
    "env_video = create_env(env_key, max_episode_steps=200, is_video=True, isPartialObs=True, isFullyObs=False)\n",
    "\n",
    "env_video = RecordVideo(env_video, './videos/video-doorkey-dt-d3rlpy')\n",
    "\n",
    "seed = 0\n",
    "\n",
    "\n",
    "# wrap as stateful actor for interaction\n",
    "actor = dt.as_stateful_wrapper(\n",
    "    target_return=1,\n",
    "    action_sampler=d3rlpy.algos.SoftmaxTransformerActionSampler(temperature=1.0,)\n",
    ")\n",
    "\n",
    "done = False\n",
    "\n",
    "actor.reset()\n",
    "observation, reward = env_video.reset(seed=seed)\n",
    "\n",
    "while True:\n",
    "\n",
    "    action = actor.predict(observation, 1) \n",
    "\n",
    "    observation, reward, done, truncated, _ = env_video.step(action)\n",
    "\n",
    "    if done:\n",
    "        print(\"reward:\", reward)\n",
    "        print(\"DONE!!!\")\n",
    "        break\n",
    "    elif truncated:\n",
    "        print(\"Truncated\")\n",
    "        break\n",
    "\n",
    "env.close()\n",
    "\n",
    "d3rlpy.notebook_utils.render_video(\"./videos/video-doorkey-dt-d3rlpy/rl-video-episode-0.mp4\")\n"
   ]
  },
  {
   "cell_type": "code",
   "execution_count": null,
   "metadata": {},
   "outputs": [],
   "source": [
    "dt.save_model('./models/model_door-key-dt-16x16-128-d3rlpy.pt')"
   ]
  },
  {
   "attachments": {},
   "cell_type": "markdown",
   "metadata": {},
   "source": [
    "We evaluate the DT trained agent comparing it with the DQN agent. We can see that the DT agent is better than the DQN agent. The DT agent solves the environment more often than the DQN agent. The most important think to see is that the DT agent is able to solve the environment with a partial observation, and without rewarding the agent for picking up the key or opening the door. The DT agent is able to solve the environment only with the reward of reaching the goal. Moreover, the DT agent is able to solve the environment only with the data generated by the DQN agent. The DT agent is able to learn from the data generated by the DQN agent. And the result are an agent better than his \"teacher\"."
   ]
  },
  {
   "cell_type": "code",
   "execution_count": null,
   "metadata": {},
   "outputs": [
    {
     "name": "stdout",
     "output_type": "stream",
     "text": [
      "\u001b[2m2024-01-21 23:50.01\u001b[0m [\u001b[33m\u001b[1mwarning  \u001b[0m] \u001b[1mParameters will be reinitialized.\u001b[0m\n"
     ]
    },
    {
     "name": "stderr",
     "output_type": "stream",
     "text": [
      "/home/drinf/anaconda3/envs/decision-transformers/lib/python3.10/site-packages/gymnasium/core.py:311: UserWarning: \u001b[33mWARN: env.width to get variables from other wrappers is deprecated and will be removed in v1.0, to get this variable you can do `env.unwrapped.width` for environment variables or `env.get_wrapper_attr('width')` that will search the reminding wrappers.\u001b[0m\n",
      "  logger.warn(\n",
      "/home/drinf/anaconda3/envs/decision-transformers/lib/python3.10/site-packages/gymnasium/core.py:311: UserWarning: \u001b[33mWARN: env.height to get variables from other wrappers is deprecated and will be removed in v1.0, to get this variable you can do `env.unwrapped.height` for environment variables or `env.get_wrapper_attr('height')` that will search the reminding wrappers.\u001b[0m\n",
      "  logger.warn(\n"
     ]
    },
    {
     "name": "stdout",
     "output_type": "stream",
     "text": [
      "(16, 16, 3)\n",
      "(16, 16, 3)\n"
     ]
    },
    {
     "name": "stderr",
     "output_type": "stream",
     "text": [
      "100%|██████████| 100/100 [00:22<00:00,  4.53it/s]\n",
      "100%|██████████| 100/100 [00:52<00:00,  1.90it/s]"
     ]
    },
    {
     "name": "stdout",
     "output_type": "stream",
     "text": [
      "DQN score: 0.57\n",
      "DT score: 0.75\n"
     ]
    },
    {
     "name": "stderr",
     "output_type": "stream",
     "text": [
      "\n"
     ]
    }
   ],
   "source": [
    "# We are going to compare the performance of DQN and DT\n",
    "\n",
    "trials = 100\n",
    "\n",
    "def evaluate_policy(env, actor, explorer=None, n_trials=10):\n",
    "\n",
    "    success = 0\n",
    "    for _ in tqdm(range(n_trials)):\n",
    "        \n",
    "        if (explorer is  None):\n",
    "            actor.reset()\n",
    "        obs,_ = env.reset()\n",
    "\n",
    "        done, truncated = False, False\n",
    "        while not (done or truncated):\n",
    "            if explorer is not None:\n",
    "                x = np.expand_dims(obs, axis=0)\n",
    "                action = explorer.sample(actor, x, 0)[0]\n",
    "            else:\n",
    "                action = actor.predict(obs, 1)\n",
    "            obs, reward, done, truncated, _ = env.step(action)\n",
    "            if done and reward > 0:\n",
    "                success += 1\n",
    "    return success / n_trials\n",
    "\n",
    "env_dqn = create_env(env_key, max_episode_steps=config[\"max_episode_steps\"], isPartialObs=False, isFullyObs=True)\n",
    "env_dt = create_env(env_key, max_episode_steps=config[\"max_episode_steps\"], isPartialObs=True, isFullyObs=False)\n",
    "\n",
    "dqn.build_with_env(env_dqn)\n",
    "dqn.load_model('./models/model_door-key-dqn-16x16.pt')\n",
    "\n",
    "#dt.build_with_env(env_dt)\n",
    "#dt.load_model('./models/model_door-key-dt-16x16-128-d3rlpy.pt')\n",
    "\n",
    "explorer_dqn = d3rlpy.algos.ConstantEpsilonGreedy(epsilon=config[\"epsilon\"])\n",
    "\n",
    "actor_dt = dt.as_stateful_wrapper(\n",
    "    target_return=1,\n",
    "    action_sampler=d3rlpy.algos.SoftmaxTransformerActionSampler(temperature=1.0,)\n",
    ")\n",
    "\n",
    "dqn_score = evaluate_policy(env_dqn, dqn, explorer=explorer_dqn, n_trials=trials)\n",
    "dt_score = evaluate_policy(env_dt, actor_dt, n_trials=trials)\n",
    "\n",
    "print(\"DQN score:\", dqn_score)\n",
    "print(\"DT score:\", dt_score)\n",
    "\n"
   ]
  },
  {
   "attachments": {},
   "cell_type": "markdown",
   "metadata": {},
   "source": [
    "We make a bar plot with the rewards of the DQN agent and the DT agent. We can see that the DT agent is able to solve the environment more often than the DQN agent."
   ]
  },
  {
   "cell_type": "code",
   "execution_count": null,
   "metadata": {},
   "outputs": [
    {
     "data": {
      "image/png": "[encoded data removed]",
      "text/plain": [
       "<Figure size 800x600 with 1 Axes>"
      ]
     },
     "metadata": {},
     "output_type": "display_data"
    }
   ],
   "source": [
    "# We will make a bar chart to compare the performance of DQN and DT\n",
    "\n",
    "import matplotlib.pyplot as plt\n",
    "\n",
    "labels = ['DQN', 'DT']\n",
    "scores = [dqn_score, dt_score]\n",
    "\n",
    "x = np.arange(len(labels))  # the label locations\n",
    "width = 0.35  # the width of the bars\n",
    "\n",
    "fig, ax = plt.subplots(figsize=(8, 6))\n",
    "rects1 = ax.bar(x - width/2, scores, width, label='Scores')\n",
    "\n",
    "# Add some text for labels, title and custom x-axis tick labels, etc.\n",
    "ax.set_ylabel('Scores')\n",
    "ax.set_title('Scores by DQN and DT')\n",
    "ax.set_xticks(x)\n",
    "ax.set_xticklabels(labels)\n",
    "ax.legend()\n",
    "\n",
    "fig.tight_layout()\n",
    "\n",
    "plt.show()\n",
    "\n"
   ]
  }
 ],
 "metadata": {
  "kernelspec": {
   "display_name": "decision-transformers",
   "language": "python",
   "name": "python3"
  },
  "language_info": {
   "codemirror_mode": {
    "name": "ipython",
    "version": 3
   },
   "file_extension": ".py",
   "mimetype": "text/x-python",
   "name": "python",
   "nbconvert_exporter": "python",
   "pygments_lexer": "ipython3",
   "version": "3.10.0"
  },
  "orig_nbformat": 4
 },
 "nbformat": 4,
 "nbformat_minor": 2
}
