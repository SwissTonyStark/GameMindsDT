{
 "cells": [
  {
   "attachments": {},
   "cell_type": "markdown",
   "metadata": {},
   "source": [
    "# Test Door Key Offline Training with d3rlpy and Decision Transformer\n",
    "\n",
    "We will use the Door Key 16x16 environment from Minigrid Gym to test the Decision Transformer algorithm from d3rlpy."
   ]
  },
  {
   "cell_type": "code",
   "execution_count": 1,
   "metadata": {},
   "outputs": [
    {
     "name": "stdout",
     "output_type": "stream",
     "text": [
      "Not running on CoLab\n"
     ]
    }
   ],
   "source": [
    "# Test if we are running on CoLab or not\n",
    "if 'google.colab' in str(get_ipython()):\n",
    "  print('Running on CoLab')\n",
    "  !apt-get install -y xvfb ffmpeg > /dev/null 2>&1\n",
    "  %pip install pyvirtualdisplay pygame moviepy > /dev/null 2>&1\n",
    "  %pip install d3rlpy\n",
    "else:\n",
    "  print('Not running on CoLab')"
   ]
  },
  {
   "cell_type": "code",
   "execution_count": 2,
   "metadata": {},
   "outputs": [],
   "source": [
    "# Directory creation\n",
    "import os\n",
    "path = \"./models\"\n",
    "isExist = os.path.exists(path)\n",
    "if not isExist:\n",
    "  os.makedirs(path)\n",
    "\n",
    "path = \"./datasets\"\n",
    "isExist = os.path.exists(path)\n",
    "if not isExist:\n",
    "  os.makedirs(path)\n",
    "\n",
    "path = \"./videos/video-doorkey-dt-d3rlpy\"\n",
    "isExist = os.path.exists(path)\n",
    "if not isExist:\n",
    "  os.makedirs(path)"
   ]
  },
  {
   "cell_type": "code",
   "execution_count": 3,
   "metadata": {},
   "outputs": [
    {
     "name": "stdout",
     "output_type": "stream",
     "text": [
      "pygame 2.5.2 (SDL 2.28.2, Python 3.10.0)\n",
      "Hello from the pygame community. https://www.pygame.org/contribute.html\n"
     ]
    },
    {
     "name": "stderr",
     "output_type": "stream",
     "text": [
      "/home/drinf/anaconda3/envs/decision-transformers/lib/python3.10/site-packages/gymnasium/envs/registration.py:694: UserWarning: \u001b[33mWARN: Overriding environment MiniGrid-DoorKey-16x16-v0 already in registry.\u001b[0m\n",
      "  logger.warn(f\"Overriding environment {new_spec.id} already in registry.\")\n"
     ]
    }
   ],
   "source": [
    "import gymnasium as gym\n",
    "from gymnasium import spaces\n",
    "from minigrid.envs import DoorKeyEnv\n",
    "from gymnasium.core import ActType, ObsType\n",
    "from typing import Any, SupportsFloat\n",
    "import random, math\n",
    "\n",
    "from gymnasium.envs.registration import register\n",
    "\n",
    "register(\n",
    "    id=\"MiniGrid-DoorKey-16x16-v0\",\n",
    "    entry_point=\"minigrid.envs:DoorKeyEnv\",\n",
    "    kwargs={\"size\": 16},\n",
    ")\n",
    "    "
   ]
  },
  {
   "cell_type": "code",
   "execution_count": 4,
   "metadata": {},
   "outputs": [],
   "source": [
    "import minigrid\n",
    "def create_env(env_key, max_episode_steps=100, is_video=False):\n",
    "\n",
    "    render_mode = None\n",
    "\n",
    "    if is_video == True:\n",
    "        render_mode = 'rgb_array'\n",
    "\n",
    "    env = gym.make(env_key, max_episode_steps=max_episode_steps, render_mode=render_mode, see_through_walls=True)\n",
    "\n",
    "    env = minigrid.wrappers.FullyObsWrapper(env)\n",
    "    env = minigrid.wrappers.ImgObsWrapper(env)\n",
    "\n",
    "    return env\n"
   ]
  },
  {
   "cell_type": "code",
   "execution_count": 5,
   "metadata": {},
   "outputs": [],
   "source": [
    "import d3rlpy\n",
    "import gymnasium as gym\n",
    "import torch\n",
    "import torch.nn as nn\n",
    "from d3rlpy.models.encoders import EncoderFactory\n",
    "\n",
    "class CustomConvEncoder(nn.Module):\n",
    "    def __init__(self, observation_shape):\n",
    "        super().__init__()\n",
    "        print(observation_shape)\n",
    "\n",
    "        self.conv1 = nn.Conv2d(3, 32, kernel_size=1, stride=1, padding=1)\n",
    "        self.conv2 = nn.Conv2d(32, 64, kernel_size=3, stride=2, padding=1)\n",
    "        self.conv2Dropout = nn.Dropout(0.25)\n",
    "        self.conv3 = nn.Conv2d(64, 128, kernel_size=3, stride=2, padding=1)\n",
    "        self.conv3Dropout = nn.Dropout(0.5)\n",
    "        self.conv4 = nn.Conv2d(128, 256, kernel_size=3, stride=2, padding=1)\n",
    "        self.conv4Dropout = nn.Dropout(0.5)\n",
    "        self.conv5 = nn.Conv2d(256, 512, kernel_size=3, stride=2, padding=1)\n",
    "        self.conv5Dropout = nn.Dropout(0.5)\n",
    "\n",
    "\n",
    "    def forward(self, x):\n",
    "        h = x.permute(0, 3, 1, 2)\n",
    "        h = torch.relu(self.conv1(h))\n",
    "        h = torch.relu(self.conv2Dropout(self.conv2(h)))\n",
    "        h = torch.relu(self.conv3Dropout(self.conv3(h)))\n",
    "        h = torch.relu(self.conv4Dropout(self.conv4(h)))\n",
    "        h = torch.relu(self.conv5Dropout(self.conv5(h)))\n",
    "\n",
    "        h = torch.flatten(h, start_dim=1)\n",
    "        #print(h.shape)\n",
    "\n",
    "        return h\n",
    "    \n",
    "class CustomConvEncoderFactory(EncoderFactory):\n",
    "\n",
    "    def create(self, observation_shape):\n",
    "        return CustomConvEncoder(observation_shape)\n",
    "\n",
    "    @staticmethod\n",
    "    def get_type() -> str:\n",
    "        return \"custom\"\n",
    "    \n"
   ]
  },
  {
   "cell_type": "code",
   "execution_count": 6,
   "metadata": {},
   "outputs": [
    {
     "name": "stderr",
     "output_type": "stream",
     "text": [
      "/home/drinf/anaconda3/envs/decision-transformers/lib/python3.10/site-packages/gymnasium/core.py:311: UserWarning: \u001b[33mWARN: env.width to get variables from other wrappers is deprecated and will be removed in v1.0, to get this variable you can do `env.unwrapped.width` for environment variables or `env.get_wrapper_attr('width')` that will search the reminding wrappers.\u001b[0m\n",
      "  logger.warn(\n",
      "/home/drinf/anaconda3/envs/decision-transformers/lib/python3.10/site-packages/gymnasium/core.py:311: UserWarning: \u001b[33mWARN: env.height to get variables from other wrappers is deprecated and will be removed in v1.0, to get this variable you can do `env.unwrapped.height` for environment variables or `env.get_wrapper_attr('height')` that will search the reminding wrappers.\u001b[0m\n",
      "  logger.warn(\n"
     ]
    },
    {
     "name": "stdout",
     "output_type": "stream",
     "text": [
      "(16, 16, 3)\n",
      "(16, 16, 3)\n"
     ]
    }
   ],
   "source": [
    "config = {\n",
    "    \"seed\": 1,\n",
    "    \"dataset_size\": 1000,\n",
    "    \"epsilon\": 0.3,\n",
    "    \"max_episode_steps\": 200,\n",
    "    \"experiment_name\": \"door-key-14x14\",\n",
    "    \"device\": \"cuda:0\"\n",
    "}\n",
    "\n",
    "env_key = \"MiniGrid-DoorKey-16x16-v0\"\n",
    "\n",
    "env = create_env(env_key, max_episode_steps=config[\"max_episode_steps\"])\n",
    "eval_env = create_env(env_key, max_episode_steps=config[\"max_episode_steps\"])\n",
    "\n",
    "dqn = d3rlpy.algos.DQNConfig(\n",
    "    encoder_factory=CustomConvEncoderFactory(),\n",
    "    batch_size=100,\n",
    "    gamma=0.9,\n",
    "    target_update_interval=1000,\n",
    "    learning_rate=2.5e-4\n",
    ").create(device=config[\"device\"])\n",
    "\n",
    "dqn.build_with_env(env)\n",
    "\n",
    "dqn.load_model('./models/model_door-key-dqn-16x16.d3')\n"
   ]
  },
  {
   "cell_type": "code",
   "execution_count": 7,
   "metadata": {},
   "outputs": [
    {
     "name": "stdout",
     "output_type": "stream",
     "text": [
      "\u001b[2m2024-01-19 15:54.04\u001b[0m [\u001b[32m\u001b[1minfo     \u001b[0m] \u001b[1mSignatures have been automatically determined.\u001b[0m \u001b[36maction_signature\u001b[0m=\u001b[35mSignature(dtype=[dtype('int64')], shape=[()])\u001b[0m \u001b[36mobservation_signature\u001b[0m=\u001b[35mSignature(dtype=[dtype('uint8')], shape=[(16, 16, 3)])\u001b[0m \u001b[36mreward_signature\u001b[0m=\u001b[35mSignature(dtype=[dtype('float32')], shape=[[1]])\u001b[0m\n",
      "\u001b[2m2024-01-19 15:54.04\u001b[0m [\u001b[32m\u001b[1minfo     \u001b[0m] \u001b[1mAction-space has been automatically determined.\u001b[0m \u001b[36maction_space\u001b[0m=\u001b[35m<ActionSpace.DISCRETE: 2>\u001b[0m\n",
      "\u001b[2m2024-01-19 15:54.04\u001b[0m [\u001b[32m\u001b[1minfo     \u001b[0m] \u001b[1mAction size has been automatically determined.\u001b[0m \u001b[36maction_size\u001b[0m=\u001b[35m7\u001b[0m\n"
     ]
    },
    {
     "name": "stderr",
     "output_type": "stream",
     "text": [
      "100%|██████████| 1000/1000 [04:40<00:00,  3.57it/s]\n"
     ]
    }
   ],
   "source": [
    "import numpy as np\n",
    "from tqdm import tqdm\n",
    "\n",
    "# prepare utilities\n",
    "buffer = d3rlpy.dataset.InfiniteBuffer()\n",
    "dataset = d3rlpy.dataset.ReplayBuffer(buffer, env=env, cache_size=config[\"max_episode_steps\"])\n",
    "explorer = d3rlpy.algos.ConstantEpsilonGreedy(epsilon=config[\"epsilon\"])\n",
    "\n",
    "seed = 1\n",
    "\n",
    "done = False\n",
    "\n",
    "observation, _ = env.reset(seed=seed)\n",
    "\n",
    "num_steps = 0\n",
    "\n",
    "for episode in tqdm(range(config[\"dataset_size\"])):\n",
    "\n",
    "    while True:\n",
    "        x = np.expand_dims(observation, axis=0)\n",
    "\n",
    "        action = explorer.sample(dqn, x, 0)[0]\n",
    "\n",
    "        next_observation, reward, done, truncated, _ = env.step(action)\n",
    "\n",
    "        clip_episode = done or truncated\n",
    "\n",
    "        # store observation\n",
    "        dataset.append(observation, action, float(reward))\n",
    "\n",
    "        # reset if terminated\n",
    "        if clip_episode:\n",
    "            dataset.clip_episode(done)\n",
    "            observation, _ = env.reset()\n",
    "            break\n",
    "        else:\n",
    "            observation = next_observation\n",
    "\n",
    "env.close()\n",
    "\n",
    "dataset.dump('./datasets/dataset_door-key-dqn-16x16.d3')\n"
   ]
  },
  {
   "cell_type": "code",
   "execution_count": 8,
   "metadata": {},
   "outputs": [
    {
     "name": "stdout",
     "output_type": "stream",
     "text": [
      "\u001b[2m2024-01-19 15:58.45\u001b[0m [\u001b[32m\u001b[1minfo     \u001b[0m] \u001b[1mdataset info                  \u001b[0m \u001b[36mdataset_info\u001b[0m=\u001b[35mDatasetInfo(observation_signature=Signature(dtype=[dtype('uint8')], shape=[(16, 16, 3)]), action_signature=Signature(dtype=[dtype('int64')], shape=[()]), reward_signature=Signature(dtype=[dtype('float32')], shape=[[1]]), action_space=<ActionSpace.DISCRETE: 2>, action_size=7)\u001b[0m\n",
      "\u001b[2m2024-01-19 15:58.45\u001b[0m [\u001b[32m\u001b[1minfo     \u001b[0m] \u001b[1mDirectory is created at d3rlpy_logs/DT_door-key-14x14_1_20240119155845\u001b[0m\n",
      "\u001b[2m2024-01-19 15:58.45\u001b[0m [\u001b[32m\u001b[1mdebug    \u001b[0m] \u001b[1mBuilding models...            \u001b[0m\n",
      "(16, 16, 3)\n",
      "\u001b[2m2024-01-19 15:58.47\u001b[0m [\u001b[32m\u001b[1mdebug    \u001b[0m] \u001b[1mModels have been built.       \u001b[0m\n",
      "\u001b[2m2024-01-19 15:58.47\u001b[0m [\u001b[32m\u001b[1minfo     \u001b[0m] \u001b[1mParameters                    \u001b[0m \u001b[36mparams\u001b[0m=\u001b[35m{'observation_shape': [16, 16, 3], 'action_size': 7, 'config': {'type': 'discrete_decision_transformer', 'params': {'batch_size': 8, 'gamma': 0.99, 'observation_scaler': {'type': 'none', 'params': {}}, 'action_scaler': {'type': 'none', 'params': {}}, 'reward_scaler': {'type': 'none', 'params': {}}, 'context_size': 20, 'max_timestep': 1000, 'learning_rate': 0.0001, 'encoder_factory': {'type': 'custom', 'params': {}}, 'optim_factory': {'type': 'adam', 'params': {'betas': [0.9, 0.999], 'eps': 1e-08, 'weight_decay': 0, 'amsgrad': False}}, 'num_heads': 1, 'num_layers': 3, 'attn_dropout': 0.1, 'resid_dropout': 0.1, 'embed_dropout': 0.1, 'activation_type': 'gelu', 'embed_activation_type': 'tanh', 'position_encoding_type': <PositionEncodingType.GLOBAL: 'global'>, 'warmup_tokens': 10240, 'final_tokens': 30000000, 'clip_grad_norm': 1.0, 'compile': False}}}\u001b[0m\n"
     ]
    },
    {
     "data": {
      "application/vnd.jupyter.widget-view+json": {
       "model_id": "e9c293c2ea574d82bf06df70564ad349",
       "version_major": 2,
       "version_minor": 0
      },
      "text/plain": [
       "Epoch 1/10:   0%|          | 0/1000 [00:00<?, ?it/s]"
      ]
     },
     "metadata": {},
     "output_type": "display_data"
    },
    {
     "name": "stdout",
     "output_type": "stream",
     "text": [
      "\u001b[2m2024-01-19 16:01.15\u001b[0m [\u001b[32m\u001b[1minfo     \u001b[0m] \u001b[1mDT_door-key-14x14_1_20240119155845: epoch=1 step=1000\u001b[0m \u001b[36mepoch\u001b[0m=\u001b[35m1\u001b[0m \u001b[36mmetrics\u001b[0m=\u001b[35m{'time_sample_batch': 0.001347700595855713, 'time_algorithm_update': 0.12472886943817138, 'loss': 1.624453355550766, 'learning_rate': 9.662062632550849e-05, 'time_step': 0.12617412042617798, 'environment': 0.0}\u001b[0m \u001b[36mstep\u001b[0m=\u001b[35m1000\u001b[0m\n"
     ]
    },
    {
     "data": {
      "application/vnd.jupyter.widget-view+json": {
       "model_id": "4906fa9e113642089260a2ca1a62e6ca",
       "version_major": 2,
       "version_minor": 0
      },
      "text/plain": [
       "Epoch 2/10:   0%|          | 0/1000 [00:00<?, ?it/s]"
      ]
     },
     "metadata": {},
     "output_type": "display_data"
    },
    {
     "name": "stdout",
     "output_type": "stream",
     "text": [
      "\u001b[2m2024-01-19 16:03.39\u001b[0m [\u001b[32m\u001b[1minfo     \u001b[0m] \u001b[1mDT_door-key-14x14_1_20240119155845: epoch=2 step=2000\u001b[0m \u001b[36mepoch\u001b[0m=\u001b[35m2\u001b[0m \u001b[36mmetrics\u001b[0m=\u001b[35m{'time_sample_batch': 0.0013260700702667236, 'time_algorithm_update': 0.1232634437084198, 'loss': 1.412864797592163, 'learning_rate': 9.998674832792865e-05, 'time_step': 0.12467044067382813, 'environment': 0.0}\u001b[0m \u001b[36mstep\u001b[0m=\u001b[35m2000\u001b[0m\n"
     ]
    },
    {
     "data": {
      "application/vnd.jupyter.widget-view+json": {
       "model_id": "a2121d72886b4bb7b5f78e188061d8cc",
       "version_major": 2,
       "version_minor": 0
      },
      "text/plain": [
       "Epoch 3/10:   0%|          | 0/1000 [00:00<?, ?it/s]"
      ]
     },
     "metadata": {},
     "output_type": "display_data"
    },
    {
     "ename": "KeyboardInterrupt",
     "evalue": "",
     "output_type": "error",
     "traceback": [
      "\u001b[0;31m---------------------------------------------------------------------------\u001b[0m",
      "\u001b[0;31mKeyboardInterrupt\u001b[0m                         Traceback (most recent call last)",
      "Cell \u001b[0;32mIn[8], line 15\u001b[0m\n\u001b[1;32m      3\u001b[0m experiment_seed \u001b[39m=\u001b[39m config[\u001b[39m\"\u001b[39m\u001b[39mseed\u001b[39m\u001b[39m\"\u001b[39m]\n\u001b[1;32m      5\u001b[0m dt \u001b[39m=\u001b[39m d3rlpy\u001b[39m.\u001b[39malgos\u001b[39m.\u001b[39mDiscreteDecisionTransformerConfig(\n\u001b[1;32m      6\u001b[0m     batch_size\u001b[39m=\u001b[39m\u001b[39m8\u001b[39m,\n\u001b[1;32m      7\u001b[0m     learning_rate\u001b[39m=\u001b[39m\u001b[39m1e-4\u001b[39m,\n\u001b[0;32m   (...)\u001b[0m\n\u001b[1;32m     11\u001b[0m     encoder_factory\u001b[39m=\u001b[39mCustomConvEncoderFactory(),\n\u001b[1;32m     12\u001b[0m )\u001b[39m.\u001b[39mcreate(device\u001b[39m=\u001b[39mconfig[\u001b[39m\"\u001b[39m\u001b[39mdevice\u001b[39m\u001b[39m\"\u001b[39m])\n\u001b[0;32m---> 15\u001b[0m dt\u001b[39m.\u001b[39;49mfit(\n\u001b[1;32m     16\u001b[0m     dataset,\n\u001b[1;32m     17\u001b[0m     n_steps\u001b[39m=\u001b[39;49m\u001b[39m10000\u001b[39;49m,\n\u001b[1;32m     18\u001b[0m     n_steps_per_epoch\u001b[39m=\u001b[39;49m\u001b[39m1000\u001b[39;49m,\n\u001b[1;32m     19\u001b[0m     save_interval\u001b[39m=\u001b[39;49m\u001b[39m10\u001b[39;49m,\n\u001b[1;32m     20\u001b[0m     eval_env\u001b[39m=\u001b[39;49menv,\n\u001b[1;32m     21\u001b[0m     eval_target_return\u001b[39m=\u001b[39;49mtarget_return,\n\u001b[1;32m     22\u001b[0m     experiment_name\u001b[39m=\u001b[39;49m\u001b[39mf\u001b[39;49m\u001b[39m\"\u001b[39;49m\u001b[39mDT_\u001b[39;49m\u001b[39m{\u001b[39;49;00mexperiment_name\u001b[39m}\u001b[39;49;00m\u001b[39m_\u001b[39;49m\u001b[39m{\u001b[39;49;00mexperiment_seed\u001b[39m}\u001b[39;49;00m\u001b[39m\"\u001b[39;49m\n\u001b[1;32m     23\u001b[0m )\n",
      "File \u001b[0;32m~/anaconda3/envs/decision-transformers/lib/python3.10/site-packages/d3rlpy/algos/transformer/base.py:317\u001b[0m, in \u001b[0;36mTransformerAlgoBase.fit\u001b[0;34m(self, dataset, n_steps, n_steps_per_epoch, experiment_name, with_timestamp, logger_adapter, show_progress, eval_env, eval_target_return, eval_action_sampler, save_interval, callback, enable_ddp)\u001b[0m\n\u001b[1;32m    315\u001b[0m \u001b[39m# update parameters\u001b[39;00m\n\u001b[1;32m    316\u001b[0m \u001b[39mwith\u001b[39;00m logger\u001b[39m.\u001b[39mmeasure_time(\u001b[39m\"\u001b[39m\u001b[39malgorithm_update\u001b[39m\u001b[39m\"\u001b[39m):\n\u001b[0;32m--> 317\u001b[0m     loss \u001b[39m=\u001b[39m \u001b[39mself\u001b[39;49m\u001b[39m.\u001b[39;49mupdate(batch)\n\u001b[1;32m    319\u001b[0m \u001b[39m# record metrics\u001b[39;00m\n\u001b[1;32m    320\u001b[0m \u001b[39mfor\u001b[39;00m name, val \u001b[39min\u001b[39;00m loss\u001b[39m.\u001b[39mitems():\n",
      "File \u001b[0;32m~/anaconda3/envs/decision-transformers/lib/python3.10/site-packages/d3rlpy/algos/transformer/base.py:374\u001b[0m, in \u001b[0;36mTransformerAlgoBase.update\u001b[0;34m(self, batch)\u001b[0m\n\u001b[1;32m    366\u001b[0m \u001b[39massert\u001b[39;00m \u001b[39mself\u001b[39m\u001b[39m.\u001b[39m_impl, IMPL_NOT_INITIALIZED_ERROR\n\u001b[1;32m    367\u001b[0m torch_batch \u001b[39m=\u001b[39m TorchTrajectoryMiniBatch\u001b[39m.\u001b[39mfrom_batch(\n\u001b[1;32m    368\u001b[0m     batch\u001b[39m=\u001b[39mbatch,\n\u001b[1;32m    369\u001b[0m     device\u001b[39m=\u001b[39m\u001b[39mself\u001b[39m\u001b[39m.\u001b[39m_device,\n\u001b[0;32m   (...)\u001b[0m\n\u001b[1;32m    372\u001b[0m     reward_scaler\u001b[39m=\u001b[39m\u001b[39mself\u001b[39m\u001b[39m.\u001b[39m_config\u001b[39m.\u001b[39mreward_scaler,\n\u001b[1;32m    373\u001b[0m )\n\u001b[0;32m--> 374\u001b[0m loss \u001b[39m=\u001b[39m \u001b[39mself\u001b[39;49m\u001b[39m.\u001b[39;49m_impl\u001b[39m.\u001b[39;49minner_update(torch_batch, \u001b[39mself\u001b[39;49m\u001b[39m.\u001b[39;49m_grad_step)\n\u001b[1;32m    375\u001b[0m \u001b[39mself\u001b[39m\u001b[39m.\u001b[39m_grad_step \u001b[39m+\u001b[39m\u001b[39m=\u001b[39m \u001b[39m1\u001b[39m\n\u001b[1;32m    376\u001b[0m \u001b[39mreturn\u001b[39;00m loss\n",
      "File \u001b[0;32m~/anaconda3/envs/decision-transformers/lib/python3.10/site-packages/d3rlpy/algos/transformer/torch/decision_transformer_impl.py:153\u001b[0m, in \u001b[0;36mDiscreteDecisionTransformerImpl.inner_update\u001b[0;34m(self, batch, grad_step)\u001b[0m\n\u001b[1;32m    150\u001b[0m \u001b[39mself\u001b[39m\u001b[39m.\u001b[39m_modules\u001b[39m.\u001b[39moptim\u001b[39m.\u001b[39mstep()\n\u001b[1;32m    152\u001b[0m \u001b[39m# schedule learning rate\u001b[39;00m\n\u001b[0;32m--> 153\u001b[0m \u001b[39mself\u001b[39m\u001b[39m.\u001b[39m_tokens \u001b[39m+\u001b[39m\u001b[39m=\u001b[39m \u001b[39mint\u001b[39m(batch\u001b[39m.\u001b[39;49mmasks\u001b[39m.\u001b[39;49msum()\u001b[39m.\u001b[39;49mcpu()\u001b[39m.\u001b[39mdetach()\u001b[39m.\u001b[39mnumpy())\n\u001b[1;32m    154\u001b[0m \u001b[39mif\u001b[39;00m \u001b[39mself\u001b[39m\u001b[39m.\u001b[39m_tokens \u001b[39m<\u001b[39m \u001b[39mself\u001b[39m\u001b[39m.\u001b[39m_warmup_tokens:\n\u001b[1;32m    155\u001b[0m     \u001b[39m# linear warmup\u001b[39;00m\n\u001b[1;32m    156\u001b[0m     lr_mult \u001b[39m=\u001b[39m \u001b[39mself\u001b[39m\u001b[39m.\u001b[39m_tokens \u001b[39m/\u001b[39m \u001b[39mmax\u001b[39m(\u001b[39m1\u001b[39m, \u001b[39mself\u001b[39m\u001b[39m.\u001b[39m_warmup_tokens)\n",
      "\u001b[0;31mKeyboardInterrupt\u001b[0m: "
     ]
    }
   ],
   "source": [
    "target_return = 1\n",
    "experiment_name = config[\"experiment_name\"]\n",
    "experiment_seed = config[\"seed\"]\n",
    "\n",
    "dt = d3rlpy.algos.DiscreteDecisionTransformerConfig(\n",
    "    batch_size=8,\n",
    "    learning_rate=1e-4,\n",
    "    context_size=20,\n",
    "    num_heads=1,\n",
    "    num_layers=3,\n",
    "    encoder_factory=CustomConvEncoderFactory(),\n",
    ").create(device=config[\"device\"])\n",
    "\n",
    "\n",
    "dt.fit(\n",
    "    dataset,\n",
    "    n_steps=10000,\n",
    "    n_steps_per_epoch=1000,\n",
    "    save_interval=10,\n",
    "    eval_env=env,\n",
    "    eval_target_return=target_return,\n",
    "    experiment_name=f\"DT_{experiment_name}_{experiment_seed}\"\n",
    ")"
   ]
  },
  {
   "cell_type": "code",
   "execution_count": 10,
   "metadata": {},
   "outputs": [
    {
     "name": "stderr",
     "output_type": "stream",
     "text": [
      "/home/drinf/anaconda3/envs/decision-transformers/lib/python3.10/site-packages/gymnasium/core.py:311: UserWarning: \u001b[33mWARN: env.width to get variables from other wrappers is deprecated and will be removed in v1.0, to get this variable you can do `env.unwrapped.width` for environment variables or `env.get_wrapper_attr('width')` that will search the reminding wrappers.\u001b[0m\n",
      "  logger.warn(\n",
      "/home/drinf/anaconda3/envs/decision-transformers/lib/python3.10/site-packages/gymnasium/core.py:311: UserWarning: \u001b[33mWARN: env.height to get variables from other wrappers is deprecated and will be removed in v1.0, to get this variable you can do `env.unwrapped.height` for environment variables or `env.get_wrapper_attr('height')` that will search the reminding wrappers.\u001b[0m\n",
      "  logger.warn(\n",
      "/home/drinf/anaconda3/envs/decision-transformers/lib/python3.10/site-packages/gym/wrappers/record_video.py:75: UserWarning: \u001b[33mWARN: Overwriting existing videos at /home/drinf/Desktop/PROJECTS/machine_learning/fib_postgraduate/GameMindsDT/experiments/notebooks/videos/video-doorkey-dt-d3rlpy folder (try specifying a different `video_folder` for the `RecordVideo` wrapper if this is not desired)\u001b[0m\n",
      "  logger.warn(\n",
      "/home/drinf/anaconda3/envs/decision-transformers/lib/python3.10/site-packages/gymnasium/core.py:311: UserWarning: \u001b[33mWARN: env.is_vector_env to get variables from other wrappers is deprecated and will be removed in v1.0, to get this variable you can do `env.unwrapped.is_vector_env` for environment variables or `env.get_wrapper_attr('is_vector_env')` that will search the reminding wrappers.\u001b[0m\n",
      "  logger.warn(\n"
     ]
    },
    {
     "name": "stdout",
     "output_type": "stream",
     "text": [
      "Moviepy - Building video /home/drinf/Desktop/PROJECTS/machine_learning/fib_postgraduate/GameMindsDT/experiments/notebooks/videos/video-doorkey-dt-d3rlpy/rl-video-episode-0.mp4.\n",
      "Moviepy - Writing video /home/drinf/Desktop/PROJECTS/machine_learning/fib_postgraduate/GameMindsDT/experiments/notebooks/videos/video-doorkey-dt-d3rlpy/rl-video-episode-0.mp4\n",
      "\n"
     ]
    },
    {
     "name": "stderr",
     "output_type": "stream",
     "text": [
      "                                                               "
     ]
    },
    {
     "name": "stdout",
     "output_type": "stream",
     "text": [
      "Moviepy - Done !\n",
      "Moviepy - video ready /home/drinf/Desktop/PROJECTS/machine_learning/fib_postgraduate/GameMindsDT/experiments/notebooks/videos/video-doorkey-dt-d3rlpy/rl-video-episode-0.mp4\n",
      "Truncated\n"
     ]
    },
    {
     "name": "stderr",
     "output_type": "stream",
     "text": [
      "\r"
     ]
    },
    {
     "data": {
      "text/html": [
       "\n",
       "                <video alt=\"test\" autoplay loop controls style=\"height: 400px;\">\n",
       "                    <source src=\"data:video/mp4;base64,AAAAIGZ0eXBpc29tAAACAGlzb21pc28yYXZjMW1wNDEAAAAIZnJlZQAALtxtZGF0AAACrwYF//+r3EXpvebZSLeWLNgg2SPu73gyNjQgLSBjb3JlIDE1OSByMjk5MSAxNzcxYjU1IC0gSC4yNjQvTVBFRy00IEFWQyBjb2RlYyAtIENvcHlsZWZ0IDIwMDMtMjAxOSAtIGh0dHA6Ly93d3cudmlkZW9sYW4ub3JnL3gyNjQuaHRtbCAtIG9wdGlvbnM6IGNhYmFjPTEgcmVmPTMgZGVibG9jaz0xOjA6MCBhbmFseXNlPTB4MzoweDExMyBtZT1oZXggc3VibWU9NyBwc3k9MSBwc3lfcmQ9MS4wMDowLjAwIG1peGVkX3JlZj0xIG1lX3JhbmdlPTE2IGNocm9tYV9tZT0xIHRyZWxsaXM9MSA4eDhkY3Q9MSBjcW09MCBkZWFkem9uZT0yMSwxMSBmYXN0X3Bza2lwPTEgY2hyb21hX3FwX29mZnNldD0tMiB0aHJlYWRzPTE2IGxvb2thaGVhZF90aHJlYWRzPTIgc2xpY2VkX3RocmVhZHM9MCBucj0wIGRlY2ltYXRlPTEgaW50ZXJsYWNlZD0wIGJsdXJheV9jb21wYXQ9MCBjb25zdHJhaW5lZF9pbnRyYT0wIGJmcmFtZXM9MyBiX3B5cmFtaWQ9MiBiX2FkYXB0PTEgYl9iaWFzPTAgZGlyZWN0PTEgd2VpZ2h0Yj0xIG9wZW5fZ29wPTAgd2VpZ2h0cD0yIGtleWludD0yNTAga2V5aW50X21pbj0xMCBzY2VuZWN1dD00MCBpbnRyYV9yZWZyZXNoPTAgcmNfbG9va2FoZWFkPTQwIHJjPWNyZiBtYnRyZWU9MSBjcmY9MjMuMCBxY29tcD0wLjYwIHFwbWluPTAgcXBtYXg9NjkgcXBzdGVwPTQgaXBfcmF0aW89MS40MCBhcT0xOjEuMDAAgAAADr9liIQAEP/+94G/MsliJKyXH5530srM885DxyXYmuuNBvHoAAADAAy3iaARK7JyM+OAAArRzVEAh1/kAHUf4aYf6dR/92I7bZd6XVi66LjSwXMZ2WAoPO2Fwe3H5nq3lbufELCxq/KKd849/B3eH6A89fF1qEuD8F1ZBJtOoV2/mqbHWJlJGzwozrkd6QkE8IYqCMY2av3T8DrXvqcm4jBCtauZMg7SFtOF7JqpRBimT9NwBEB+j8NZ/0kDeHbeq1FaNKCrtcXKXpGg4xuzs8HwoG6V3koUUUUG77NFH2CeKCVNvMIBh1ZH52lwEAiqT/j8wKM6EVo8dKJGO7baTmezIi2tEZJVkEBAIqk/4/MDEFesoM1k7AlVKTZMHje6wz+3PcMVVcNNpNXF8uWKfOXPII5wFx9vs0sydkujJcev8gwu99H0QAPb9J0nLCUO1ru6dih2cJokpbEMwYZJplw/moXRTdL70bjW3y2E4Rdycp5jLk19mkFOo7npu4w3bNpyC3yQJRU6dcHE6NwqlIEQ1K8FWN9kvEYk9vzWMwfLk4DDislbOsb01l6XdbNX2zuo8yRPF/kthxvysHk2rezdpV6gSeIjaDTjHgas6YUW0QnN1L6IlwHCQQgxfM58DxgYNk4Nj22pCsufQW7Kl3sQydcOVjXSDng1UlIp7VGEDCH2POWwKdEc2K0221NBykQp9wSqpep8AlZK/Ay3QwDXbO6Nkk9iAJ1rRNVs2F/YozBjdaR+C3McDJNMuH81C53FSYsp9ALbmAiqT/j82ORdpg80RrXd07FDprX8lS6qBR7/730sby1KWB4PKbfjVm3/ondsPjaEDz0x3ZO3dDmcXaIkAs5CcAvUggSVWh+iaedbX4zoLq6YqPto9WqvboSu4EPA5KTjFxO7bCZimkDyZqomT74bPi/dbV8kcbqeR6ZK5iHYqYq902N9dfxYJpUMksAAAKKGszFE+41OhmMldBVybLSnozuQx+2qfx9qS9jPrn2DrfARa1A0p0fPjarDZSIPbvkUxkpf2ia+WIV7tx/h2dUZlClpbkm51ay4Zrldy6glx55k8NX8885hJUGhPlLFd0Nq/eta7oJQWHz8dFKW/9F6XaXGmldkeBmJw83ycI/Xb+pHXQXHPTeA663bJj0xDuQqn3A9cwEVSU8dVpM9zmqPf9PsE8UEuUaujtbBxiD45GO7ba2saQpRX9bJhw96YMl+LmqY+C2qWqzdrUacIonox4OjUqV5fWrPCVnpH/mHNetten+CPC6Mpq4AB9hMB92dB3T7unYodnBKNj4DydKF9AMl+LmquT4r2OrALA6gPot8FaECD5byKcaQXt7r1b73bz+bMZHtAKls+yu8TthQqxLsYzIHsB2norpd8JMllpqoLcuh9UN0Oj71ujg0a9Z8Bgrdm3vXy6si0TIWZGZbPYwiV5Snea2ZkByjqafd07FDpr6fRdexwodVm4nFBLlGquOQ0sykymwv7FGYBylozMHLExqs3E4oJco1UTrrtLAoYphMcul8XH447tfUkeHtJsbFFZNKgAApEUfBHbtse9MJ4fzWcXlROs4WGkR/UYFSE7ynBS/ePsRCDcJ2a1o/P4LqpqadW8uunmWMsF8AApQ06n4VML8xQz0YN5Pi1OFWrPD+gGSdZVfSZRhfFKVbud/MricT0EaPyN5clZUnI3A1lyRHurMzAXCBYRAf3SiAZSY1VtXQ06zhFtMcWNBZMC/UjpKQTq2SX1yVhUccJfwZObH5D3s9gupe9CaROItr1rV7tymSfIqsvKcoh/UIsaGGwg9hXQtok8xZNbZAvhzCWTRRefeOwCWQpK5P159zIAfX8MyTuOaUpQHpLQBya5qBp43Lzy8R4fVVA/bG7RsmSID4MpN3tkvMQZn6CzcxPAobkxsPbQejnyP9cZOpCasxOHm+ThH67sTeg95E5T1MB2Jc4uHdM0HE5rhCrlbBPFBLlGvpgMl04B41XMJ4fzULkNOYRO4SN5m4nFBLlGvVpw0WDSRWu7p2KHTWNq3+3TUrbJ8p5P///6f5ra/MLBTp8wbrR//Ye9PhVT/4cvf/9LQUtMoKhGbaK+CyIBrqMRFzbSAaPrCTh5LUdZAke/aD3Lk85PFQT54XrO8U4lMNk2xmD/ZL6KL1yZ1/pWRcdFvW13/h+CbnAkjrZkrn+BsK+gSgODUVuX/NOzIuc01M5Ove/SAA03WcVkeZ6/CrF95JdhwTAJI9BI6bBGUdejo2jBwCU1XMVawcGSdMcMjMEI+JLrhEQp276ltez/l+Vdt42zM7qjED1tO+/AZzGIqNwNpYsK7GlnqxkDRxtT99g5Pe75+JqC3OX4b/evrjaHw1M1Ku4zISDvN/pmJb7wMB/v8mZ8vJS9NJ2LwejTK5RTQhkDhErylO9CkDBO6Bq3tcwEVSU8dSQaQUIP4Hii2CeKCXKNZOqq/xWmxD+sTiglyjWTNQUQu66a13cKZRtNdOBwl8nXtVeJ5tyJ84nbH0dH7URvNy1cD/CADr8OB+meiAQHy5KFlVQlnWHEvQ6w/OEv7I3JRM7FICYvY7aw6Fnv6uzPVrofy7g5URGLf2q4vAGP/BWPNd8cvrv3X53I/44+IcY1iIJx5EiTuKx9V/XnytCdTvaWBMx+0VxNnwcIgyDvFJNqnJVeYt56vSwSo9+7ZJd0RH1RoSUlkmoGPPt/g0Z5yZczPJNTDv6NaoutFrsfmphPD+ahba/g5Waa7nmbicUEuUa6ysjPQefD70wZL8XNXy4T/7Uim/89+3q/WgLwrcsaBUGKfSkebsR0DUKZ6ArRen+GGbkvZyPWzd38BAAUH6mWJKlrf/R9gjFLHf2ezozdgLJOgm2uZd3Y9mWcqZ8xptwKqZJgSu/qbIe0k2EXhMQ/to4P///ITLfRQA7XObigbXQHqtWQP/9EvCr7b329cxRYqCcF1D4/ejzHxuedVWuoxg4eslYE/uh7nFl18jO2LMHVlxu/OymrE/5BRe5tSYSSQbI5UTg+IInO7ba2saR7B4WZY0Xmwv7FGYBxLNpzqsSSdmbicUEuUayWM8diJcdlY4K2VYO8a/vQc837hXQSZFINn4F2QPgCa2R5rbVg//Nnq4oe58ux4xZRi85F11enOGDSwDROtPMNYn+LSIaq2j9TSEfO+UL8f//wbUzPypREvzwgo74SKY/1p7iLR2FVXeCbEPm9U0YZJJFMTb6kPNOt65bfzfBAfHKq5EzwE3lFdVb/b59KqVoezN9nxypkXPUsFiwfvJLsWOeEdVzynQSJzu22k5nx7AAsIs2JFvsE8UEuUaycWEnjIeDC2CeKCXKNZHnXIFMT2CJitHQsE+q/gVeX0MVUit1NeA1kJkuBDl4TA7HGtgABaY/2Djzur2Mztsz489c/ODro+Nn10RK4OvDHQLTTPfcAuZU3m9qX1PvcOwkGIUD0D0/OEjkAJ7GWh85mkcSqRNy6EDMOf+/Vklx1CntTUNk6EHhbdT42fb/eBbQ1V89ZGgTvWKGg64UKkVyODWc7NWUziDBbxNmE/iMppYeS7JLx2uhbse5jWJdIgrqtaAFpZOdyQm6zJzF/fET5CM0FscjnFfz67am1KO5MRjP5G3sFMci+YmtT7yNGt+ON3CTc8JAQuC+HYX3kl2LHbpdZBE6JVYv7FGYBxw0zxfw00lu2CeKCXKNampYPkS0xWu7p2KHTWPXIGqGtOjXyZKB2GTFjH+MNuRsBMIJI90wAFnc/J6tKliLnX21+6RpOlOXDu0jc9RJylPag49D1GlNcAEOau2QZqITX9Erdtc3bW+QpqIZ2uT9+OIvBe1AACHpun0z+RblDVbOGLc2KACQ7lHtzDe6keSLnn/G2OYrRV3dWW4KjbJr9P+hOvZI2sxx86jhAKXxnx4QlIUSkFcCVqa2bERJvWrGuxPtVOXhKL7+JGMb0TdQwWjj7pVIdOP2Qv1pwUbDnalThPvd2uHKhogezeSmr9Y7BTXLfKU4322PZRt45xHVWVjfLYHPjv7zx4g0t2wTxQS5RrYxkZTxQGU2F/YozAOLRPEct2hBbtgniglyjWxZs7OW2TF0fDADWEOoEWdwuUr1g0mrOPxGc6wAAm9rsu0D7euzJI2QZ0kCZifFGdn30nwVb5Xa6UDaF7Xn1/i2GLmLLkjb4g6KwIjkiJlqxcoYuKc1iuCCE1KdHZDflSMCqdiAO8dUTQIu4H71Yzi+BubTAe3BgxEkpmIBb0676bgWl2Cpcx8HG3XMYfviqT/j8sj0XCUPiTVcwZL8XNXfeEL2KIMN2wTxQMeOpJwWnOqkcMfYJ4oJco1nyMtaTBcJrYJ4oJco1oLUDTDIa5p9B1X5qkUIOs2KNac50Pa45VULZuEAAImxxY/hxHNEm2D81tYbbI32Rtby3WSjq+zEppkKi9Yl3P4xuyWKVfNKoEgFsyQtJBd1ErHdryyOqDGOZmpMJBYcnVGlHT5vbUgv24Zo8kUZ4rmHmI+p97FlLpmIdNNW/rHtaGBebJYDwQjteuxi5MSUl6vEGkY/WJNWZrRlXlNvlWaiDZYV0idZkCUNju22trGkkUUPHMfmPemE8P5qFuZfdKdlr8qzcTiglyjWbs+1OWB7IzxSkm0H0XaLOGN4hAXSPvw8igAwXmR81O1yr0YNZ7VK9NmxYeUSG7G1oTR/EeX2HLftaVfL2NNt3+a4GH+HS7+Y+8tgrnFQvdcWKB/jzzTeqf6palRp0cZx2Hc7kD6NRVout1L3eowmsvfgFGHHtG/IwaAMpV0fnJ9lIrTzK1u8oC8bB4hrR0OOZVaZKq12mZ6U4PhQOjiKb+NEVaNE2WJub58WcwDKL6FRpLX3oJ/vL8ymkva4mK/ZCxVQtgniglyjXJMc9AFOO1ru4UyjaayUjccJHDxRSCCKxNLt52/qZoHLoh8DNeEX7F5U+MYYL8YLrod/TzQAmedQA7xLQAAJEu9ynhaMFqc53JinTMKMjdYCmgZkDAuiMPvdogYzQ29hh6i56MLYx+6Hy3mJiXAAA+pAAACiEGaJGxD//6plgAADAaVvguasEb2clcchyf4hMhA8QErtQnhKyu8CCcF1tWgFj6XqdH/+EnPTkGoqQCNncSLAJQwSKbOlx5GtpIQB6rGLWl06Pqu+QYQTQpRXStKu93sj63c29vos7Z3D1SzTCsR3SQnzHRt1cJAsVedbx9jKmmJKq1k7eDJaEJyiP/w8dN5Ib/hBHPfu6o1yqZDkNsgD85m/hj67YyUMi9buzYZUMaJL9bdA+5HCwWJhHZBK2nnFVpLQRgmFlqBNAD8xD86a+bQkEn5optAqykcjBfi9vt5QAKcboO/SXTgyfdAACwDk82ZN68AbODSjCvnhvsmkn3HYAqVf+XIn7w/ylS4KnLJslh5TODAAsxtLMjFtc37OCqanzeoQ9hb6firZdj+UopU+PCY1Xr38CfRnEUx3jwLxVMLXNqw+kRt9ADY5S6flv+d18N9rBepmjQfpWPlA/81Jrgy1TFv3/H3LTO2Wast0UXXS3yRtQrFj6pXwEkrqrVuBz9GyO4MK/nmzswlsQZX5BDXJU/wUFLhKoSaCdR5ZWr+wPg7yKOkuacJnjw2rXx4Q4SxxmjwK++xNGOZxqEyHgv8G6aFAIKwkbIFDlCYGYUoTx440cgyX1CJn88HtXpPB9ptPtNUQ3AqwIDCmvsNL98gdoqGuwlCohQ80A1O4lyJdoIcKUIRx5Nk7ZNDxgJ+GesJdUtg0kw7D1JfPxsZLwTn8IoI3W8PB0GRu+lXnPRtwXI5ei0qa97QekkvqOjw+hBnQmP9cG9hLOwOmEtJ931MEJxhU0pwFOECiaICrP+UtnIfVBYQcD/zgfB+CHQ0F1Y04jwoJNg3P6z5sKvSZbyQAM4+VgAAAFVBnkJ4h38AAAMBIHbZAAVccMNRvteEN9MZuhlCrj4ZJ7+SdZx36RgKPaqUMn5AyBke7mSktIEG/sur0l4aYYM+6ZnzSwch5gP30R2Oy1dRpPtmPk3BAAAAKQGeYXRDfwAAAwGb6qlVYopqWmtd1p1JO1UMIZKskyB8lcrxhnU+TObgAAAAIQGeY2pDfwAAAwGcLuOMuHCB3aC8AbnRLZxnj6pCB9rbMQAAARhBmmZJqEFomUwU8O/+qZYAmBShig3ksjJiSarMIG3aeDYpl5/0JEKGJ5wPOTCeKLokLHhEcehtOgikNFKmi5W5awx8lXEjv9dPB0/5hlHbfqt7SrcFQ6NTn+jBB/OeiovIaPj3sQF+g/2KV+AjVZ3KKhP6939bf+lx400dcP261tKABJs06EtxjAIVYF5Bb3v2/wXIzECdrL58JFeFf+Ei96DCwVdEhY0IaOPKeQ6H+uR2zUBhTm3GmKOwQBdK2pJmTDcWaXg5tnFAMVqmPBN8JPODH7wwq40j//WOCavdEGi+KaSvyJ2I/zqg04myBgqkM7Fn+zt1w9u78ah+KZ4s4rKgPXA+A9tcMzTp5yZJdHpnzp3eMGnxAAAAMAGehWpDfwADn9wXDMRHW+pw5aXfpn2rbgvBNHRhD7x6256aGJOxoqsqaNCdNXj+kwAAAh9BmopJ4QpSZTAgj//+tSqAAABS+CH/xASAH/4SkD7/CGBpgvB4gOnPnvlEDmKqs/uvr19l/ChfgFSJz2SaGlwQjBXsfX0oVTcegPF1VY1BRkW3GWeTiGdYjvBirBHC9n6L2IbpDegqgF6ZreKoRI0A0TtWJeDBlm8dIuLapdDW0NQwqYud3tDrCoDiuphETsu0uprOxuv6EQJOnLyiHQaaFvaYKIlehqO/iTzGwTTE479DfFUopeAzMIR/u+xUSddY5aWvPH63SIuXj791fNNkkQbmEtT7YYJgFkD3+3b4WFpQGLgP8kOUu9FrFJPcafPIHsB9ABurVvGKkJ3psXJ8vq073jFJl3N1E9gjWVC/hln+vs3LJYenmTGfEWC0FnRaKsEHcN0GsSSxTbwcZRSx6IswigWsUX0X5sRWuKYd/zeKooU7K2xTKAaZZnhyuw33jW7Uua5nMvb/xheaxR+TfS30jSVZc2UZcsXxrSFqkV22FbKwnD1rTnoaT+OxGb9zqGBg2uwusnjeXHXC09yIqVGXhG/hFb/lrHMrK19y90AT+LXhyZZ8i/QWLolmfSpmc8cvsquwBQXTDiSowNIyY4FLU7Oybmjihy7FVBMWEyNTjF1bymD1/+gwoLXknmnFwSGM7TyoYGKZjpPkxALfq639Ql6rbnvC3GiFN+q0VfnrDoHR5KoO5k4EjHbqP0DPna8RVOhQU8IWV+CNQiEAAAAmQZ6oRTRMO/8AAAMBQTyqA9g4KAGt01PgBqjqAE6pBPpCIQ0bpoAAAAAlAZ7HdEN/AAADAcTbqtQtsB/+9bFOQX7q6TAAhyMB660rmMRIYAAAAA8BnslqQ38AAAMAAAMAC2kAAAArQZrOSahBaJlMCCP//rUqgAAAShwX+ID/9JB346b9tSQ4Sql6AyaMblwMqAAAABFBnuxFESw7/wAAAwAAAwAH3AAAAA8Bnwt0Q38AAAMAAAMAC2kAAAAPAZ8NakN/AAADAAADAAtpAAAAGEGbEkmoQWyZTAgj//61KoAAAAMAAAMCBwAAABFBnzBFFSw7/wAAAwAAAwAH3AAAAA8Bn090Q38AAAMAAAMAC2gAAAAPAZ9RakN/AAADAAADAAtpAAAAGEGbVkmoQWyZTAgj//61KoAAAAMAAAMCBgAAABFBn3RFFSw7/wAAAwAAAwAH3AAAAA8Bn5N0Q38AAAMAAAMAC2kAAAAPAZ+VakN/AAADAAADAAtoAAAAGEGbmkmoQWyZTAgj//61KoAAAAMAAAMCBwAAABFBn7hFFSw7/wAAAwAAAwAH3QAAAA8Bn9d0Q38AAAMAAAMAC2gAAAAPAZ/ZakN/AAADAAADAAtpAAAAGEGb3kmoQWyZTAgj//61KoAAAAMAAAMCBgAAABFBn/xFFSw7/wAAAwAAAwAH3QAAAA8Bnht0Q38AAAMAAAMAC2kAAAAPAZ4dakN/AAADAAADAAtoAAAAGEGaAkmoQWyZTAgj//61KoAAAAMAAAMCBgAAABFBniBFFSw7/wAAAwAAAwAH3QAAAA8Bnl90Q38AAAMAAAMAC2gAAAAPAZ5BakN/AAADAAADAAtpAAAAGEGaRkmoQWyZTAgj//61KoAAAAMAAAMCBgAAABFBnmRFFSw7/wAAAwAAAwAH3QAAAA8BnoN0Q38AAAMAAAMAC2kAAAAPAZ6FakN/AAADAAADAAtpAAAAGEGaikmoQWyZTAgj//61KoAAAAMAAAMCBwAAABFBnqhFFSw7/wAAAwAAAwAH3AAAAA8Bnsd0Q38AAAMAAAMAC2gAAAAPAZ7JakN/AAADAAADAAtpAAAAGEGazkmoQWyZTAgj//61KoAAAAMAAAMCBgAAABFBnuxFFSw7/wAAAwAAAwAH3AAAAA8Bnwt0Q38AAAMAAAMAC2kAAAAPAZ8NakN/AAADAAADAAtpAAAAGEGbEkmoQWyZTAgj//61KoAAAAMAAAMCBwAAABFBnzBFFSw7/wAAAwAAAwAH3AAAAA8Bn090Q38AAAMAAAMAC2gAAAAPAZ9RakN/AAADAAADAAtpAAAAGEGbVkmoQWyZTAgj//61KoAAAAMAAAMCBgAAABFBn3RFFSw7/wAAAwAAAwAH3AAAAA8Bn5N0Q38AAAMAAAMAC2kAAAAPAZ+VakN/AAADAAADAAtoAAAAGEGbmkmoQWyZTAgj//61KoAAAAMAAAMCBwAAABFBn7hFFSw7/wAAAwAAAwAH3QAAAA8Bn9d0Q38AAAMAAAMAC2gAAAAPAZ/ZakN/AAADAAADAAtpAAAAGEGb3kmoQWyZTAgj//61KoAAAAMAAAMCBgAAABFBn/xFFSw7/wAAAwAAAwAH3QAAAA8Bnht0Q38AAAMAAAMAC2kAAAAPAZ4dakN/AAADAAADAAtoAAAAGEGaAkmoQWyZTAgj//61KoAAAAMAAAMCBgAAABFBniBFFSw7/wAAAwAAAwAH3QAAAA8Bnl90Q38AAAMAAAMAC2gAAAAPAZ5BakN/AAADAAADAAtpAAAAGEGaRkmoQWyZTAgj//61KoAAAAMAAAMCBgAAABFBnmRFFSw7/wAAAwAAAwAH3QAAAA8BnoN0Q38AAAMAAAMAC2kAAAAPAZ6FakN/AAADAAADAAtpAAAAGEGaikmoQWyZTAgj//61KoAAAAMAAAMCBwAAABFBnqhFFSw7/wAAAwAAAwAH3AAAAA8Bnsd0Q38AAAMAAAMAC2gAAAAPAZ7JakN/AAADAAADAAtpAAAAGEGazkmoQWyZTAgj//61KoAAAAMAAAMCBgAAABFBnuxFFSw7/wAAAwAAAwAH3AAAAA8Bnwt0Q38AAAMAAAMAC2kAAAAPAZ8NakN/AAADAAADAAtpAAAAGEGbEkmoQWyZTAgj//61KoAAAAMAAAMCBwAAABFBnzBFFSw7/wAAAwAAAwAH3AAAAA8Bn090Q38AAAMAAAMAC2gAAAAPAZ9RakN/AAADAAADAAtpAAAAGEGbVkmoQWyZTAgj//61KoAAAAMAAAMCBgAAABFBn3RFFSw7/wAAAwAAAwAH3AAAAA8Bn5N0Q38AAAMAAAMAC2kAAAAPAZ+VakN/AAADAAADAAtoAAAALEGbmkmoQWyZTAgj//61KoAAAAMBS/oVQchaNy8B2gtB0r8p+wHhfMVr0GYhAAAAEUGfuEUVLDv/AAADAAADAAfdAAAADwGf13RDfwAAAwAAAwALaAAAAA8Bn9lqQ38AAAMAAAMAC2kAAAAYQZveSahBbJlMCCH//qpVAAADAAADAAQMAAAAEUGf/EUVLDv/AAADAAADAAfdAAAADwGeG3RDfwAAAwAAAwALaQAAAA8Bnh1qQ38AAAMAAAMAC2gAAAAhQZoCSahBbJlMCHf//qmWAAAb67q/hK8EXTvS+bsAADggAAAAEUGeIEUVLDv/AAADAAADAAfdAAAADwGeX3RDfwAAAwAAAwALaAAAAA8BnkFqQ38AAAMAAAMAC2kAAAKsQZpGSahBbJlMCCP//rUqgAAAUv6DCrzC3oln/b0A+irLFtTHCtii30yhKg7rci6pyH4l6wiew9KQO+rW4hGmdSrNbXMBD0GdOTNlxKkjf7sScPTKCO7FRHtw0VquQu3sqaFz0e/QfkpRvGQn0daiISRow+0tWFSWlV2vKIqC/ziUizHyMjH/CC/lmKHTX8HIgOaAKz8f1STndttarL6l0Or3Y4E25IQOT2splF4WCGf/Kc6F3eWgjkP/jzmlZF8UW0tHFlaxWFbz+O3wpVOT3vNJDbFUIu32KESGG91yVdqDT30wJVCvkH/CkI6dk53O1WOa0Ym6JraAP//Iise27H+fcZr6ltTVB6jJk/AyUihDRz6muwwMCMRxXjPD7YA1ODpezYRSYNT3uNlOOFw5pStCwZluvx6MrRbEKczHQ/oLlPaG4J91EYT0FjQMAh9CytgQtcQMQQ36i5pu0QIK9r919NNCD1N3YigY8qnR0qh2Va2KIuGntpMRd/xYtuZvqW+ic5LfKxrlm1cdv7Ay1szDFgjGUYaaJ4W0EHqoUU+UM1yIkggnIlSswJFNBJRXm5EDTP40OiMYg+CaaMA9L0aJTI78xKAZH49qivrZmMv9EBOJ9gSNYipGRCGDimCCRV7WOp1ShyMYd7cIeUlBZIpmrwl4s+oOtCmfzXpuSKiO2ETbLVEWRagy1LYuTVUKtOB7Djld7GNBFQENJTFE9UcAQsnHvM1ItWzBve8MF1UqGJzgjo3T+w4bvaTXvFAa1GMwIphe8jHEOLsltXXwvy8ZmWQutpiXBsltXXwuy8pFw4WjT3V9eAGttv2xUYhdl45YG0FAQyokt3tMgWOeXZ7ul4dmh0ixjZLXqlocKxLJ87ReWd+1lE24oWgJMjGrNvYA0EDhSP4doUXAAAAAJkGeZEUVLDv/AAADAUE8qgPYOCgBrdNT4Aao6gBOqQT6QiENG6aBAAAAJQGeg3RDfwAAAwHE26rULbAf/vWxTkF+6ukwAIcjAeutK5jESGEAAAAPAZ6FakN/AAADAAADAAtpAAAAGEGaikmoQWyZTAgj//61KoAAAAMAAAMCBwAAABFBnqhFFSw7/wAAAwAAAwAH3AAAAA8Bnsd0Q38AAAMAAAMAC2gAAAAPAZ7JakN/AAADAAADAAtpAAAAGEGazkmoQWyZTAgj//61KoAAAAMAAAMCBgAAABFBnuxFFSw7/wAAAwAAAwAH3AAAAA8Bnwt0Q38AAAMAAAMAC2kAAAAPAZ8NakN/AAADAAADAAtpAAAAGEGbEkmoQWyZTAgj//61KoAAAAMAAAMCBwAAABFBnzBFFSw7/wAAAwAAAwAH3AAAAA8Bn090Q38AAAMAAAMAC2gAAAAPAZ9RakN/AAADAAADAAtpAAAAGEGbVkmoQWyZTAgj//61KoAAAAMAAAMCBgAAABFBn3RFFSw7/wAAAwAAAwAH3AAAAA8Bn5N0Q38AAAMAAAMAC2kAAAAPAZ+VakN/AAADAAADAAtoAAAAGEGbmkmoQWyZTAgj//61KoAAAAMAAAMCBwAAABFBn7hFFSw7/wAAAwAAAwAH3QAAAA8Bn9d0Q38AAAMAAAMAC2gAAAAPAZ/ZakN/AAADAAADAAtpAAAAGEGb3kmoQWyZTAgj//61KoAAAAMAAAMCBgAAABFBn/xFFSw7/wAAAwAAAwAH3QAAAA8Bnht0Q38AAAMAAAMAC2kAAAAPAZ4dakN/AAADAAADAAtoAAAAGEGaAkmoQWyZTAgj//61KoAAAAMAAAMCBgAAABFBniBFFSw7/wAAAwAAAwAH3QAAAA8Bnl90Q38AAAMAAAMAC2gAAAAPAZ5BakN/AAADAAADAAtpAAAAGEGaRkmoQWyZTAgj//61KoAAAAMAAAMCBgAAABFBnmRFFSw7/wAAAwAAAwAH3QAAAA8BnoN0Q38AAAMAAAMAC2kAAAAPAZ6FakN/AAADAAADAAtpAAAAGEGaikmoQWyZTAgj//61KoAAAAMAAAMCBwAAABFBnqhFFSw7/wAAAwAAAwAH3AAAAA8Bnsd0Q38AAAMAAAMAC2gAAAAPAZ7JakN/AAADAAADAAtpAAAAGEGazkmoQWyZTAgj//61KoAAAAMAAAMCBgAAABFBnuxFFSw7/wAAAwAAAwAH3AAAAA8Bnwt0Q38AAAMAAAMAC2kAAAAPAZ8NakN/AAADAAADAAtpAAAAGEGbEkmoQWyZTAgj//61KoAAAAMAAAMCBwAAABFBnzBFFSw7/wAAAwAAAwAH3AAAAA8Bn090Q38AAAMAAAMAC2gAAAAPAZ9RakN/AAADAAADAAtpAAAAGEGbVkmoQWyZTAgj//61KoAAAAMAAAMCBgAAABFBn3RFFSw7/wAAAwAAAwAH3AAAAA8Bn5N0Q38AAAMAAAMAC2kAAAAPAZ+VakN/AAADAAADAAtoAAAAGEGbmkmoQWyZTAgj//61KoAAAAMAAAMCBwAAABFBn7hFFSw7/wAAAwAAAwAH3QAAAA8Bn9d0Q38AAAMAAAMAC2gAAAAPAZ/ZakN/AAADAAADAAtpAAAAGEGb3kmoQWyZTAgj//61KoAAAAMAAAMCBgAAABFBn/xFFSw7/wAAAwAAAwAH3QAAAA8Bnht0Q38AAAMAAAMAC2kAAAAPAZ4dakN/AAADAAADAAtoAAADCUGaAkmoQWyZTAgj//61KoAAAEoUc3gyVAVGQALhf4ThKyM8BLWz1zAFqd594E4YSEsOQ6Z2+4PmE/kg//OBNjZWpNSfcoWw+ekttSZBkgDP4E9Bn575K/+P+7ARD/+Epx6PleMThSumAA4ssVBoPWA3yaZ9evsQ0kP66XoTtgJ7Ch41oxeOv4OG4vvobsdVImdGbd2A0enARw2KqP5jX5m17nnR0wdm5B+4i9eV33JH5sjpMxMQApDtkSQM9BVG5xBfEy0QAAADAAA4IUhDd399goleO1dfC8+SiygnlKHLOqUSSilRbV18LsvPYn5joE/sheO1dfC7LcGPhSxAJRf4WDcv6LBpaWUWqf9bADXEn8t3tJr3iywfjPUwA5QO4CGtY6YN+ziwlAAAc6ZM0VwBP3rx16paHCt4bmjKM+AIATdaRa9UtDmRlQevR3mgkCKi2nkeMf4yLp1wzqKSi8dq6+F2WWSq18oTbZ/Ld7TIFj7y8krL21uaoP5bvaTXvE/LDBMAHqfP3uiPjFL1hcoC/nlTE3CsG+QNefdI7cnKOZk/CTxVhHy696vgpOm6U3buFLVnzHxUfLsY5abJwwB7UDNBmgN7p6s/Tgtf701ERN6Twu7QGH7F1yW4ORQhpl0HBPV//0ApDD15dVSfwrZg/xQKPOyJHdi3WESuRwFjnLJKPCsWvJe40qFCoOWM34kF2zASNnaanMFsNnwLBq6B7srK21s6ws9RQtlfQCRZ/1VGudeUizR3fwcEecrDszOZ/Pd/h+hVFh1vjqdH9tOCxW1FSWFB8eWDDyv5IjuS+wnrDMh0UDhdXJ2CU4Kn0z9cU3+2qM73mq9AqKEa69eZ2ncY3IP1SoO3ROPJugIG93WScyo1WnCMSGKWjBvm81+09jdP50SjEZdsXwQ5dXXQHMYm3egpCqJTH1Tm1gUotw5GEal+DPz5n0J9KTAXKHrOaBGtOId/eyKxNaOhNPmJWiY3AuhLtuZZMhFzhqTpUEYOMbWph/XKXk4yCJ61HvjiQvRguwlVcAAAAClBniBFFSw7/wAAAwEgck2Xf6p4xu4u9A29anZAgjsQLCQCd2oGPkH/DwAAACgBnl90Q38AAAMBnEJmp66d4Cim9KJ4PtVDQNPKQF6KEfqg57Pa+GzAAAAADwGeQWpDfwAAAwAAAwALaQAAABhBmkZJqEFsmUwII//+tSqAAAADAAADAgYAAAARQZ5kRRUsO/8AAAMAAAMAB90AAAAPAZ6DdEN/AAADAAADAAtpAAAADwGehWpDfwAAAwAAAwALaQAAABhBmopJqEFsmUwII//+tSqAAAADAAADAgcAAAARQZ6oRRUsO/8AAAMAAAMAB9wAAAAPAZ7HdEN/AAADAAADAAtoAAAADwGeyWpDfwAAAwAAAwALaQAAABhBms5JqEFsmUwII//+tSqAAAADAAADAgYAAAARQZ7sRRUsO/8AAAMAAAMAB9wAAAAPAZ8LdEN/AAADAAADAAtpAAAADwGfDWpDfwAAAwAAAwALaQAAABhBmxJJqEFsmUwII//+tSqAAAADAAADAgcAAAARQZ8wRRUsO/8AAAMAAAMAB9wAAAAPAZ9PdEN/AAADAAADAAtoAAAADwGfUWpDfwAAAwAAAwALaQAAABhBm1ZJqEFsmUwII//+tSqAAAADAAADAgYAAAARQZ90RRUsO/8AAAMAAAMAB9wAAAAPAZ+TdEN/AAADAAADAAtpAAAADwGflWpDfwAAAwAAAwALaAAAABhBm5pJqEFsmUwII//+tSqAAAADAAADAgcAAAARQZ+4RRUsO/8AAAMAAAMAB90AAAAPAZ/XdEN/AAADAAADAAtoAAAADwGf2WpDfwAAAwAAAwALaQAAABhBm95JqEFsmUwII//+tSqAAAADAAADAgYAAAARQZ/8RRUsO/8AAAMAAAMAB90AAAAPAZ4bdEN/AAADAAADAAtpAAAADwGeHWpDfwAAAwAAAwALaAAAABhBmgJJqEFsmUwIIf/+qlUAAAMAAAMABAwAAAARQZ4gRRUsO/8AAAMAAAMAB90AAAAPAZ5fdEN/AAADAAADAAtoAAAADwGeQWpDfwAAAwAAAwALaQAAABhBmkZJqEFsmUwIf//+qZYAAAMAAAMAD7gAAAARQZ5kRRUsO/8AAAMAAAMAB90AAAAPAZ6DdEN/AAADAAADAAtpAAAADwGehWpDfwAAAwAAAwALaQAAABhBmolJqEFsmUwIb//+p4QAAAMAAAMAHzEAAAARQZ6nRRUsN/8AAAMAAAMAC2gAAAAPAZ7IakN/AAADAAADAAtoAAAMgm1vb3YAAABsbXZoZAAAAAAAAAAAAAAAAAAAA+gAAE7oAAEAAAEAAAAAAAAAAAAAAAABAAAAAAAAAAAAAAAAAAAAAQAAAAAAAAAAAAAAAAAAQAAAAAAAAAAAAAAAAAAAAAAAAAAAAAAAAAAAAAAAAAIAAAusdHJhawAAAFx0a2hkAAAAAwAAAAAAAAAAAAAAAQAAAAAAAE7oAAAAAAAAAAAAAAAAAAAAAAABAAAAAAAAAAAAAAAAAAAAAQAAAAAAAAAAAAAAAAAAQAAAAAIAAAACAAAAAAAAJGVkdHMAAAAcZWxzdAAAAAAAAAABAABO6AAACAAAAQAAAAALJG1kaWEAAAAgbWRoZAAAAAAAAAAAAAAAAAAAKAAAAygAVcQAAAAAAC1oZGxyAAAAAAAAAAB2aWRlAAAAAAAAAAAAAAAAVmlkZW9IYW5kbGVyAAAACs9taW5mAAAAFHZtaGQAAAABAAAAAAAAAAAAAAAkZGluZgAAABxkcmVmAAAAAAAAAAEAAAAMdXJsIAAAAAEAAAqPc3RibAAAAJdzdHNkAAAAAAAAAAEAAACHYXZjMQAAAAAAAAABAAAAAAAAAAAAAAAAAAAAAAIAAgAASAAAAEgAAAAAAAAAAQAAAAAAAAAAAAAAAAAAAAAAAAAAAAAAAAAAAAAAAAAAABj//wAAADFhdmNDAWQAFv/hABhnZAAWrNlAgBBoQAAAAwBAAAAFA8WLZYABAAZo6+PLIsAAAAAYc3R0cwAAAAAAAAABAAAAygAABAAAAAAUc3RzcwAAAAAAAAABAAAAAQAABlhjdHRzAAAAAAAAAMkAAAABAAAIAAAAAAEAABQAAAAAAQAACAAAAAABAAAAAAAAAAEAAAQAAAAAAQAADAAAAAABAAAEAAAAAAEAABQAAAAAAQAACAAAAAABAAAAAAAAAAEAAAQAAAAAAQAAFAAAAAABAAAIAAAAAAEAAAAAAAAAAQAABAAAAAABAAAUAAAAAAEAAAgAAAAAAQAAAAAAAAABAAAEAAAAAAEAABQAAAAAAQAACAAAAAABAAAAAAAAAAEAAAQAAAAAAQAAFAAAAAABAAAIAAAAAAEAAAAAAAAAAQAABAAAAAABAAAUAAAAAAEAAAgAAAAAAQAAAAAAAAABAAAEAAAAAAEAABQAAAAAAQAACAAAAAABAAAAAAAAAAEAAAQAAAAAAQAAFAAAAAABAAAIAAAAAAEAAAAAAAAAAQAABAAAAAABAAAUAAAAAAEAAAgAAAAAAQAAAAAAAAABAAAEAAAAAAEAABQAAAAAAQAACAAAAAABAAAAAAAAAAEAAAQAAAAAAQAAFAAAAAABAAAIAAAAAAEAAAAAAAAAAQAABAAAAAABAAAUAAAAAAEAAAgAAAAAAQAAAAAAAAABAAAEAAAAAAEAABQAAAAAAQAACAAAAAABAAAAAAAAAAEAAAQAAAAAAQAAFAAAAAABAAAIAAAAAAEAAAAAAAAAAQAABAAAAAABAAAUAAAAAAEAAAgAAAAAAQAAAAAAAAABAAAEAAAAAAEAABQAAAAAAQAACAAAAAABAAAAAAAAAAEAAAQAAAAAAQAAFAAAAAABAAAIAAAAAAEAAAAAAAAAAQAABAAAAAABAAAUAAAAAAEAAAgAAAAAAQAAAAAAAAABAAAEAAAAAAEAABQAAAAAAQAACAAAAAABAAAAAAAAAAEAAAQAAAAAAQAAFAAAAAABAAAIAAAAAAEAAAAAAAAAAQAABAAAAAABAAAUAAAAAAEAAAgAAAAAAQAAAAAAAAABAAAEAAAAAAEAABQAAAAAAQAACAAAAAABAAAAAAAAAAEAAAQAAAAAAQAAFAAAAAABAAAIAAAAAAEAAAAAAAAAAQAABAAAAAABAAAUAAAAAAEAAAgAAAAAAQAAAAAAAAABAAAEAAAAAAEAABQAAAAAAQAACAAAAAABAAAAAAAAAAEAAAQAAAAAAQAAFAAAAAABAAAIAAAAAAEAAAAAAAAAAQAABAAAAAABAAAUAAAAAAEAAAgAAAAAAQAAAAAAAAABAAAEAAAAAAEAABQAAAAAAQAACAAAAAABAAAAAAAAAAEAAAQAAAAAAQAAFAAAAAABAAAIAAAAAAEAAAAAAAAAAQAABAAAAAABAAAUAAAAAAEAAAgAAAAAAQAAAAAAAAABAAAEAAAAAAEAABQAAAAAAQAACAAAAAABAAAAAAAAAAEAAAQAAAAAAQAAFAAAAAABAAAIAAAAAAEAAAAAAAAAAQAABAAAAAABAAAUAAAAAAEAAAgAAAAAAQAAAAAAAAABAAAEAAAAAAEAABQAAAAAAQAACAAAAAABAAAAAAAAAAEAAAQAAAAAAQAAFAAAAAABAAAIAAAAAAEAAAAAAAAAAQAABAAAAAABAAAUAAAAAAEAAAgAAAAAAQAAAAAAAAABAAAEAAAAAAEAABQAAAAAAQAACAAAAAABAAAAAAAAAAEAAAQAAAAAAQAAFAAAAAABAAAIAAAAAAEAAAAAAAAAAQAABAAAAAABAAAUAAAAAAEAAAgAAAAAAQAAAAAAAAABAAAEAAAAAAEAABQAAAAAAQAACAAAAAABAAAAAAAAAAEAAAQAAAAAAQAAFAAAAAABAAAIAAAAAAEAAAAAAAAAAQAABAAAAAABAAAUAAAAAAEAAAgAAAAAAQAAAAAAAAABAAAEAAAAAAEAABQAAAAAAQAACAAAAAABAAAAAAAAAAEAAAQAAAAAAQAAFAAAAAABAAAIAAAAAAEAAAAAAAAAAQAABAAAAAABAAAUAAAAAAEAAAgAAAAAAQAAAAAAAAABAAAEAAAAAAEAABQAAAAAAQAACAAAAAABAAAAAAAAAAEAAAQAAAAAAQAAFAAAAAABAAAIAAAAAAEAAAAAAAAAAQAABAAAAAABAAAUAAAAAAEAAAgAAAAAAQAAAAAAAAABAAAEAAAAAAEAABAAAAAAAgAABAAAAAAcc3RzYwAAAAAAAAABAAAAAQAAAMoAAAABAAADPHN0c3oAAAAAAAAAAAAAAMoAABF2AAACjAAAAFkAAAAtAAAAJQAAARwAAAA0AAACIwAAACoAAAApAAAAEwAAAC8AAAAVAAAAEwAAABMAAAAcAAAAFQAAABMAAAATAAAAHAAAABUAAAATAAAAEwAAABwAAAAVAAAAEwAAABMAAAAcAAAAFQAAABMAAAATAAAAHAAAABUAAAATAAAAEwAAABwAAAAVAAAAEwAAABMAAAAcAAAAFQAAABMAAAATAAAAHAAAABUAAAATAAAAEwAAABwAAAAVAAAAEwAAABMAAAAcAAAAFQAAABMAAAATAAAAHAAAABUAAAATAAAAEwAAABwAAAAVAAAAEwAAABMAAAAcAAAAFQAAABMAAAATAAAAHAAAABUAAAATAAAAEwAAABwAAAAVAAAAEwAAABMAAAAcAAAAFQAAABMAAAATAAAAHAAAABUAAAATAAAAEwAAABwAAAAVAAAAEwAAABMAAAAwAAAAFQAAABMAAAATAAAAHAAAABUAAAATAAAAEwAAACUAAAAVAAAAEwAAABMAAAKwAAAAKgAAACkAAAATAAAAHAAAABUAAAATAAAAEwAAABwAAAAVAAAAEwAAABMAAAAcAAAAFQAAABMAAAATAAAAHAAAABUAAAATAAAAEwAAABwAAAAVAAAAEwAAABMAAAAcAAAAFQAAABMAAAATAAAAHAAAABUAAAATAAAAEwAAABwAAAAVAAAAEwAAABMAAAAcAAAAFQAAABMAAAATAAAAHAAAABUAAAATAAAAEwAAABwAAAAVAAAAEwAAABMAAAAcAAAAFQAAABMAAAATAAAAHAAAABUAAAATAAAAEwAAABwAAAAVAAAAEwAAABMAAAMNAAAALQAAACwAAAATAAAAHAAAABUAAAATAAAAEwAAABwAAAAVAAAAEwAAABMAAAAcAAAAFQAAABMAAAATAAAAHAAAABUAAAATAAAAEwAAABwAAAAVAAAAEwAAABMAAAAcAAAAFQAAABMAAAATAAAAHAAAABUAAAATAAAAEwAAABwAAAAVAAAAEwAAABMAAAAcAAAAFQAAABMAAAATAAAAHAAAABUAAAATAAAAFHN0Y28AAAAAAAAAAQAAADAAAABidWR0YQAAAFptZXRhAAAAAAAAACFoZGxyAAAAAAAAAABtZGlyYXBwbAAAAAAAAAAAAAAAAC1pbHN0AAAAJal0b28AAAAdZGF0YQAAAAEAAAAATGF2ZjU4LjI5LjEwMA==\" type=\"video/mp4\" />\n",
       "                </video>\n",
       "            "
      ],
      "text/plain": [
       "<IPython.core.display.HTML object>"
      ]
     },
     "metadata": {},
     "output_type": "display_data"
    }
   ],
   "source": [
    "import gymnasium as gym\n",
    "\n",
    "import numpy as np\n",
    "from gym.wrappers import RecordVideo\n",
    "\n",
    "# start virtual display\n",
    "d3rlpy.notebook_utils.start_virtual_display()\n",
    "\n",
    "env_video = create_env(env_key, max_episode_steps=200, is_video=True)\n",
    "\n",
    "env_video = RecordVideo(env_video, './videos/video-doorkey-dt-d3rlpy')\n",
    "\n",
    "seed = 14\n",
    "\n",
    "explorer = d3rlpy.algos.ConstantEpsilonGreedy(0.3)\n",
    "\n",
    "# wrap as stateful actor for interaction\n",
    "actor = dt.as_stateful_wrapper(\n",
    "    target_return=1,\n",
    "    action_sampler=d3rlpy.algos.SoftmaxTransformerActionSampler(temperature=1.0,)\n",
    ")\n",
    "\n",
    "done = False\n",
    "\n",
    "observation, reward = env_video.reset(seed=seed)\n",
    "\n",
    "while True:\n",
    "\n",
    "    #x = np.expand_dims(observation, axis=0)\n",
    "    action = actor.predict(observation, 1) #explorer.sample(actor, x, 0)[0]\n",
    "\n",
    "    observation, reward, done, truncated, _ = env_video.step(action)\n",
    "\n",
    "    if done:\n",
    "        print(\"reward:\", reward)\n",
    "        print(\"DONE!!!\")\n",
    "        break\n",
    "    elif truncated:\n",
    "        print(\"Truncated\")\n",
    "        break\n",
    "\n",
    "env.close()\n",
    "\n",
    "d3rlpy.notebook_utils.render_video(\"./videos/video-doorkey-dt-d3rlpy/rl-video-episode-0.mp4\")\n"
   ]
  }
 ],
 "metadata": {
  "kernelspec": {
   "display_name": "decision-transformers",
   "language": "python",
   "name": "python3"
  },
  "language_info": {
   "codemirror_mode": {
    "name": "ipython",
    "version": 3
   },
   "file_extension": ".py",
   "mimetype": "text/x-python",
   "name": "python",
   "nbconvert_exporter": "python",
   "pygments_lexer": "ipython3",
   "version": "3.10.0"
  },
  "orig_nbformat": 4
 },
 "nbformat": 4,
 "nbformat_minor": 2
}
